{
 "cells": [
  {
   "cell_type": "code",
   "execution_count": 1,
   "metadata": {},
   "outputs": [
    {
     "name": "stdout",
     "output_type": "stream",
     "text": [
      "hellpo world\n"
     ]
    }
   ],
   "source": [
    "print (\"hellpo world\")"
   ]
  },
  {
   "cell_type": "code",
   "execution_count": 2,
   "metadata": {},
   "outputs": [
    {
     "name": "stdout",
     "output_type": "stream",
     "text": [
      "Hello World!\n"
     ]
    }
   ],
   "source": [
    "print(\"Hello World!\")"
   ]
  },
  {
   "cell_type": "code",
   "execution_count": 1,
   "metadata": {},
   "outputs": [
    {
     "name": "stdout",
     "output_type": "stream",
     "text": [
      "123\n"
     ]
    }
   ],
   "source": [
    "print (\"123\")"
   ]
  },
  {
   "cell_type": "code",
   "execution_count": 2,
   "metadata": {},
   "outputs": [
    {
     "name": "stdout",
     "output_type": "stream",
     "text": [
      "20\n"
     ]
    }
   ],
   "source": [
    "a = 20\n",
    "print(a)"
   ]
  },
  {
   "cell_type": "code",
   "execution_count": 3,
   "metadata": {},
   "outputs": [
    {
     "name": "stdout",
     "output_type": "stream",
     "text": [
      "10\n"
     ]
    }
   ],
   "source": [
    "a= 10\n",
    "print (a)\n"
   ]
  },
  {
   "cell_type": "code",
   "execution_count": 4,
   "metadata": {},
   "outputs": [
    {
     "data": {
      "text/plain": [
       "str"
      ]
     },
     "execution_count": 4,
     "metadata": {},
     "output_type": "execute_result"
    }
   ],
   "source": [
    "test = 'hello' + 'there'\n",
    "type(test)"
   ]
  },
  {
   "cell_type": "code",
   "execution_count": 5,
   "metadata": {},
   "outputs": [
    {
     "ename": "TypeError",
     "evalue": "can only concatenate str (not \"int\") to str",
     "output_type": "error",
     "traceback": [
      "\u001b[1;31m---------------------------------------------------------------------------\u001b[0m",
      "\u001b[1;31mTypeError\u001b[0m                                 Traceback (most recent call last)",
      "\u001b[1;32m<ipython-input-5-c8a9dcc32f36>\u001b[0m in \u001b[0;36m<module>\u001b[1;34m\u001b[0m\n\u001b[1;32m----> 1\u001b[1;33m \u001b[0mtest\u001b[0m \u001b[1;33m=\u001b[0m \u001b[1;34m'hello'\u001b[0m \u001b[1;33m+\u001b[0m \u001b[1;36m123\u001b[0m\u001b[1;33m\u001b[0m\u001b[1;33m\u001b[0m\u001b[0m\n\u001b[0m\u001b[0;32m      2\u001b[0m \u001b[0mtype\u001b[0m \u001b[1;33m(\u001b[0m\u001b[0mtest\u001b[0m\u001b[1;33m)\u001b[0m\u001b[1;33m\u001b[0m\u001b[1;33m\u001b[0m\u001b[0m\n",
      "\u001b[1;31mTypeError\u001b[0m: can only concatenate str (not \"int\") to str"
     ]
    }
   ],
   "source": [
    "test = 'hello' + 123\n",
    "type (test)"
   ]
  },
  {
   "cell_type": "code",
   "execution_count": 6,
   "metadata": {},
   "outputs": [
    {
     "data": {
      "text/plain": [
       "str"
      ]
     },
     "execution_count": 6,
     "metadata": {},
     "output_type": "execute_result"
    }
   ],
   "source": [
    "test = 'hello' + '123'\n",
    "type (test)"
   ]
  },
  {
   "cell_type": "code",
   "execution_count": 7,
   "metadata": {},
   "outputs": [
    {
     "data": {
      "text/plain": [
       "str"
      ]
     },
     "execution_count": 7,
     "metadata": {},
     "output_type": "execute_result"
    }
   ],
   "source": [
    "test = \"name\"\n",
    "type(test)"
   ]
  },
  {
   "cell_type": "code",
   "execution_count": 8,
   "metadata": {},
   "outputs": [
    {
     "name": "stdout",
     "output_type": "stream",
     "text": [
      "<class 'str'>\n"
     ]
    }
   ],
   "source": [
    "test = \"name\"\n",
    "print(type(test))"
   ]
  },
  {
   "cell_type": "code",
   "execution_count": 1,
   "metadata": {},
   "outputs": [
    {
     "name": "stdout",
     "output_type": "stream",
     "text": [
      "20.2\n"
     ]
    }
   ],
   "source": [
    "print (10 + 10.2)"
   ]
  },
  {
   "cell_type": "code",
   "execution_count": 2,
   "metadata": {},
   "outputs": [],
   "source": [
    "i = 42\n",
    "f = float(i)"
   ]
  },
  {
   "cell_type": "code",
   "execution_count": 3,
   "metadata": {},
   "outputs": [
    {
     "name": "stdout",
     "output_type": "stream",
     "text": [
      "42.0\n"
     ]
    }
   ],
   "source": [
    "print(f)"
   ]
  },
  {
   "cell_type": "code",
   "execution_count": 4,
   "metadata": {},
   "outputs": [
    {
     "name": "stdout",
     "output_type": "stream",
     "text": [
      "<class 'str'> <class 'int'>\n"
     ]
    }
   ],
   "source": [
    "test1 = '456'\n",
    "test2 = 456\n",
    "print(type(test1), type(test2))"
   ]
  },
  {
   "cell_type": "code",
   "execution_count": 5,
   "metadata": {},
   "outputs": [
    {
     "name": "stdout",
     "output_type": "stream",
     "text": [
      "19.0\n"
     ]
    }
   ],
   "source": [
    "print(float(9)+10)"
   ]
  },
  {
   "cell_type": "code",
   "execution_count": 6,
   "metadata": {},
   "outputs": [
    {
     "name": "stdout",
     "output_type": "stream",
     "text": [
      "5\n"
     ]
    }
   ],
   "source": [
    "print(int(10/2))"
   ]
  },
  {
   "cell_type": "code",
   "execution_count": 7,
   "metadata": {},
   "outputs": [
    {
     "name": "stdout",
     "output_type": "stream",
     "text": [
      "<class 'int'>\n"
     ]
    }
   ],
   "source": [
    "test = '123'\n",
    "testint = int(test)\n",
    "print(type(testint))"
   ]
  },
  {
   "cell_type": "code",
   "execution_count": 8,
   "metadata": {},
   "outputs": [
    {
     "ename": "ValueError",
     "evalue": "invalid literal for int() with base 10: 'Nikki'",
     "output_type": "error",
     "traceback": [
      "\u001b[1;31m---------------------------------------------------------------------------\u001b[0m",
      "\u001b[1;31mValueError\u001b[0m                                Traceback (most recent call last)",
      "\u001b[1;32m<ipython-input-8-c9dd1c077af7>\u001b[0m in \u001b[0;36m<module>\u001b[1;34m\u001b[0m\n\u001b[0;32m      1\u001b[0m \u001b[0mtest\u001b[0m \u001b[1;33m=\u001b[0m \u001b[1;34m'Nikki'\u001b[0m\u001b[1;33m\u001b[0m\u001b[1;33m\u001b[0m\u001b[0m\n\u001b[1;32m----> 2\u001b[1;33m \u001b[0mtestint\u001b[0m \u001b[1;33m=\u001b[0m \u001b[0mint\u001b[0m\u001b[1;33m(\u001b[0m\u001b[0mtest\u001b[0m\u001b[1;33m)\u001b[0m\u001b[1;33m\u001b[0m\u001b[1;33m\u001b[0m\u001b[0m\n\u001b[0m\u001b[0;32m      3\u001b[0m \u001b[0mprint\u001b[0m\u001b[1;33m(\u001b[0m\u001b[0mtype\u001b[0m\u001b[1;33m(\u001b[0m\u001b[0mtestint\u001b[0m\u001b[1;33m)\u001b[0m\u001b[1;33m)\u001b[0m\u001b[1;33m\u001b[0m\u001b[1;33m\u001b[0m\u001b[0m\n",
      "\u001b[1;31mValueError\u001b[0m: invalid literal for int() with base 10: 'Nikki'"
     ]
    }
   ],
   "source": [
    "test = 'Nikki'\n",
    "testint = int(test)\n",
    "print(type(testint))"
   ]
  },
  {
   "cell_type": "code",
   "execution_count": 1,
   "metadata": {},
   "outputs": [
    {
     "name": "stdin",
     "output_type": "stream",
     "text": [
      "who is your fav hero? SRK\n"
     ]
    }
   ],
   "source": [
    "name = input('who is your fav hero?')"
   ]
  },
  {
   "cell_type": "code",
   "execution_count": 2,
   "metadata": {},
   "outputs": [
    {
     "name": "stdout",
     "output_type": "stream",
     "text": [
      "fav hero is SRK\n"
     ]
    }
   ],
   "source": [
    "print('fav hero is', name)"
   ]
  },
  {
   "cell_type": "code",
   "execution_count": 3,
   "metadata": {},
   "outputs": [
    {
     "name": "stdin",
     "output_type": "stream",
     "text": [
      "enter 0 0\n"
     ]
    },
    {
     "name": "stdout",
     "output_type": "stream",
     "text": [
      "converted value 1\n"
     ]
    }
   ],
   "source": [
    "#Convert 0 to 1 \n",
    "inp = input('enter 0')\n",
    "out = int(inp) + 1 \n",
    "print('converted value', out)"
   ]
  },
  {
   "cell_type": "code",
   "execution_count": 4,
   "metadata": {},
   "outputs": [],
   "source": [
    "x=int(89.7)"
   ]
  },
  {
   "cell_type": "code",
   "execution_count": 5,
   "metadata": {},
   "outputs": [
    {
     "name": "stdout",
     "output_type": "stream",
     "text": [
      "89\n"
     ]
    }
   ],
   "source": [
    "print(x)"
   ]
  },
  {
   "cell_type": "code",
   "execution_count": 7,
   "metadata": {},
   "outputs": [
    {
     "name": "stdin",
     "output_type": "stream",
     "text": [
      "Enter the days 5\n",
      "Enter the rate per day 5\n"
     ]
    },
    {
     "name": "stdout",
     "output_type": "stream",
     "text": [
      "Total play is 25.0\n"
     ]
    }
   ],
   "source": [
    "days = input('Enter the days')\n",
    "rpd = input('Enter the rate per day')\n",
    "total_pay = float(days) * float(rpd)\n",
    "print('Total play is', total_pay)"
   ]
  },
  {
   "cell_type": "code",
   "execution_count": 9,
   "metadata": {},
   "outputs": [
    {
     "name": "stdin",
     "output_type": "stream",
     "text": [
      "enter a number -5\n"
     ]
    },
    {
     "name": "stdout",
     "output_type": "stream",
     "text": [
      "Negative number\n"
     ]
    }
   ],
   "source": [
    "num = float(input('enter a number'))\n",
    "if num>=0:\n",
    "    if num==0:\n",
    "        print('Zero')\n",
    "    else:\n",
    "        print('Positive number')\n",
    "else:\n",
    "    print('Negative number')"
   ]
  },
  {
   "cell_type": "code",
   "execution_count": 10,
   "metadata": {},
   "outputs": [
    {
     "name": "stdin",
     "output_type": "stream",
     "text": [
      "Enter a number  87\n"
     ]
    },
    {
     "name": "stdout",
     "output_type": "stream",
     "text": [
      "Positive\n",
      "end\n"
     ]
    }
   ],
   "source": [
    "num = float(input('Enter a number '))\n",
    "if num>0:\n",
    "    print(\"Positive\")\n",
    "elif num==0:\n",
    "    print('Zero')\n",
    "else:\n",
    "    print('Negative')\n",
    "print('end')"
   ]
  },
  {
   "cell_type": "code",
   "execution_count": 11,
   "metadata": {},
   "outputs": [
    {
     "name": "stdout",
     "output_type": "stream",
     "text": [
      "First -1\n",
      "second 123\n"
     ]
    }
   ],
   "source": [
    "astr = 'Hello Bob'\n",
    "try:\n",
    "    istr=int(istr)\n",
    "except:\n",
    "    istr=-1\n",
    "print('First', istr)\n",
    "astr='123'\n",
    "try:\n",
    "    istr=int(astr)\n",
    "except:\n",
    "    istr=-1\n",
    "print('second', istr)"
   ]
  },
  {
   "cell_type": "code",
   "execution_count": 2,
   "metadata": {},
   "outputs": [],
   "source": [
    "x = 10\n",
    "y = 2\n",
    "def divide(x,y):\n",
    "    try:\n",
    "        result = x/y\n",
    "        print(\"Yeah!, your ans is \", result)\n",
    "    except:\n",
    "        print(\"Dividing by 0 not possible\")"
   ]
  },
  {
   "cell_type": "code",
   "execution_count": 20,
   "metadata": {},
   "outputs": [
    {
     "name": "stdin",
     "output_type": "stream",
     "text": [
      "Enter a number hi\n"
     ]
    },
    {
     "name": "stdout",
     "output_type": "stream",
     "text": [
      "not a number\n"
     ]
    }
   ],
   "source": [
    "num = input('Enter a number')\n",
    "try:\n",
    "    val = int(num)\n",
    "    print('Conversion successfull')\n",
    "except:\n",
    "    val = -1\n",
    "if val>0:\n",
    "    print('number is ', val)\n",
    "else:\n",
    "    print('not a number')\n",
    "    \n",
    "    \n",
    "    "
   ]
  },
  {
   "cell_type": "code",
   "execution_count": 23,
   "metadata": {},
   "outputs": [
    {
     "name": "stdin",
     "output_type": "stream",
     "text": [
      "Enter Days: 67\n",
      "Enter Rate: heo\n"
     ]
    },
    {
     "name": "stdout",
     "output_type": "stream",
     "text": [
      "Error, please enter numeric input\n"
     ]
    }
   ],
   "source": [
    "xh = input(\"Enter Days:\")\n",
    "xr = input(\"Enter Rate:\")\n",
    "try:\n",
    "    fh = float(xh)\n",
    "    fr = float(xr)\n",
    "except:\n",
    "    print(\"Error, please enter numeric input\")"
   ]
  },
  {
   "cell_type": "code",
   "execution_count": 1,
   "metadata": {},
   "outputs": [
    {
     "name": "stdout",
     "output_type": "stream",
     "text": [
      "yo whats up?\n",
      "nothing dude\n",
      "yo whats up?\n"
     ]
    }
   ],
   "source": [
    "def thing():\n",
    "    print ('yo whats up?')\n",
    "thing()\n",
    "print ('nothing dude')\n",
    "thing()"
   ]
  },
  {
   "cell_type": "code",
   "execution_count": 3,
   "metadata": {},
   "outputs": [
    {
     "name": "stdout",
     "output_type": "stream",
     "text": [
      "bonjour\n",
      "hola\n",
      "hello\n",
      "the end\n"
     ]
    }
   ],
   "source": [
    "def myfunction(lang):\n",
    "    if lang=='es':\n",
    "        print(\"hola\")\n",
    "    elif lang=='fr':\n",
    "        print('bonjour')\n",
    "    else:\n",
    "        print('hello')\n",
    "myfunction('fr')\n",
    "myfunction('es')\n",
    "myfunction('en')\n",
    "print('the end')\n",
    "    "
   ]
  },
  {
   "cell_type": "code",
   "execution_count": 5,
   "metadata": {},
   "outputs": [
    {
     "name": "stdout",
     "output_type": "stream",
     "text": [
      "hello Glenn\n",
      "hello Henry\n"
     ]
    }
   ],
   "source": [
    "def greet():\n",
    "    return \"hello\"\n",
    "print(greet(), \"Glenn\")\n",
    "print(greet(), \"Henry\")"
   ]
  },
  {
   "cell_type": "code",
   "execution_count": 6,
   "metadata": {},
   "outputs": [
    {
     "name": "stdout",
     "output_type": "stream",
     "text": [
      "8\n"
     ]
    }
   ],
   "source": [
    "def addtwo(x,y):\n",
    "    added= x+y \n",
    "    return added\n",
    "y = addtwo(3,5)\n",
    "print(y)"
   ]
  },
  {
   "cell_type": "code",
   "execution_count": 7,
   "metadata": {},
   "outputs": [
    {
     "name": "stdout",
     "output_type": "stream",
     "text": [
      "perfect\n",
      "planbplanbplanbplanbplanb\n"
     ]
    }
   ],
   "source": [
    "def say(message, times=1):\n",
    "    print(message*times)\n",
    "say('perfect')\n",
    "say('planb', 5)\n"
   ]
  },
  {
   "cell_type": "code",
   "execution_count": 8,
   "metadata": {},
   "outputs": [
    {
     "name": "stdout",
     "output_type": "stream",
     "text": [
      "Pay: 450\n"
     ]
    }
   ],
   "source": [
    "def computeTotalpay(days,rate):\n",
    "    computedpay=days*rate\n",
    "    return computedpay\n",
    "print(\"Pay:\", computeTotalpay(45,10))\n"
   ]
  },
  {
   "cell_type": "code",
   "execution_count": 11,
   "metadata": {},
   "outputs": [
    {
     "name": "stdin",
     "output_type": "stream",
     "text": [
      "Enter Days: 50\n",
      "Enter Rate: 2.1\n"
     ]
    },
    {
     "name": "stdout",
     "output_type": "stream",
     "text": [
      "Pay:  105.0\n"
     ]
    }
   ],
   "source": [
    "def computeTotalpay(days, rate):\n",
    "    pay = days * rate\n",
    "    return pay\n",
    "\n",
    "xh = input(\"Enter Days:\")\n",
    "\n",
    "xr = input(\"Enter Rate:\")\n",
    "\n",
    "\n",
    "try:\n",
    "    fh = float(xh)\n",
    "    fr = float(xr)\n",
    "\n",
    "    print(\"Pay: \",computeTotalpay(fh,fr))\n",
    "except:\n",
    "    print(\"Error, please enter numeric input\")"
   ]
  },
  {
   "cell_type": "code",
   "execution_count": 2,
   "metadata": {},
   "outputs": [
    {
     "name": "stdout",
     "output_type": "stream",
     "text": [
      "hello\n",
      "hello\n",
      "hello\n"
     ]
    }
   ],
   "source": [
    "count=0\n",
    "while(count<3):\n",
    "    count=count+1\n",
    "    print(\"hello\")\n",
    "    "
   ]
  },
  {
   "cell_type": "code",
   "execution_count": 4,
   "metadata": {},
   "outputs": [
    {
     "name": "stdin",
     "output_type": "stream",
     "text": [
      "< hello\n"
     ]
    },
    {
     "name": "stdout",
     "output_type": "stream",
     "text": [
      "hello\n"
     ]
    },
    {
     "name": "stdin",
     "output_type": "stream",
     "text": [
      "< finished\n"
     ]
    },
    {
     "name": "stdout",
     "output_type": "stream",
     "text": [
      "finished\n"
     ]
    },
    {
     "name": "stdin",
     "output_type": "stream",
     "text": [
      "< <\n"
     ]
    },
    {
     "name": "stdout",
     "output_type": "stream",
     "text": [
      "<\n"
     ]
    },
    {
     "name": "stdin",
     "output_type": "stream",
     "text": [
      "< done\n"
     ]
    },
    {
     "name": "stdout",
     "output_type": "stream",
     "text": [
      "done\n"
     ]
    }
   ],
   "source": [
    "while True:\n",
    "    line=input('<')\n",
    "    if line=='done':\n",
    "        break\n",
    "    print(line)\n",
    "print('done')"
   ]
  },
  {
   "cell_type": "code",
   "execution_count": 6,
   "metadata": {},
   "outputs": [
    {
     "name": "stdin",
     "output_type": "stream",
     "text": [
      "< hello \n"
     ]
    },
    {
     "name": "stdout",
     "output_type": "stream",
     "text": [
      "hello \n"
     ]
    },
    {
     "name": "stdin",
     "output_type": "stream",
     "text": [
      "< #blabla\n",
      "< wassup\n"
     ]
    },
    {
     "name": "stdout",
     "output_type": "stream",
     "text": [
      "wassup\n"
     ]
    },
    {
     "name": "stdin",
     "output_type": "stream",
     "text": [
      "< done\n"
     ]
    },
    {
     "name": "stdout",
     "output_type": "stream",
     "text": [
      "done\n"
     ]
    }
   ],
   "source": [
    "while True:\n",
    "    line=input('<')\n",
    "    if line[0]=='#':\n",
    "        continue\n",
    "    if line=='done':\n",
    "        break\n",
    "    print(line)\n",
    "print('done')"
   ]
  },
  {
   "cell_type": "code",
   "execution_count": 7,
   "metadata": {},
   "outputs": [
    {
     "name": "stdout",
     "output_type": "stream",
     "text": [
      "5\n",
      "4\n",
      "3\n",
      "2\n",
      "1\n",
      "blastoff!\n"
     ]
    }
   ],
   "source": [
    "for i in [5,4,3,2,1]:\n",
    "    print(i)\n",
    "print(\"blastoff!\")\n"
   ]
  },
  {
   "cell_type": "code",
   "execution_count": 8,
   "metadata": {},
   "outputs": [
    {
     "name": "stdout",
     "output_type": "stream",
     "text": [
      "intro\n",
      "to\n",
      "python\n"
     ]
    },
    {
     "ename": "NameError",
     "evalue": "name 'Print' is not defined",
     "output_type": "error",
     "traceback": [
      "\u001b[1;31m---------------------------------------------------------------------------\u001b[0m",
      "\u001b[1;31mNameError\u001b[0m                                 Traceback (most recent call last)",
      "\u001b[1;32m<ipython-input-8-f5094792e620>\u001b[0m in \u001b[0;36m<module>\u001b[1;34m\u001b[0m\n\u001b[0;32m      2\u001b[0m \u001b[1;32mfor\u001b[0m \u001b[0mi\u001b[0m \u001b[1;32min\u001b[0m \u001b[0mI\u001b[0m\u001b[1;33m:\u001b[0m\u001b[1;33m\u001b[0m\u001b[1;33m\u001b[0m\u001b[0m\n\u001b[0;32m      3\u001b[0m     \u001b[0mprint\u001b[0m\u001b[1;33m(\u001b[0m\u001b[0mi\u001b[0m\u001b[1;33m)\u001b[0m\u001b[1;33m\u001b[0m\u001b[1;33m\u001b[0m\u001b[0m\n\u001b[1;32m----> 4\u001b[1;33m \u001b[0mPrint\u001b[0m\u001b[1;33m(\u001b[0m\u001b[1;34m\"done\"\u001b[0m\u001b[1;33m)\u001b[0m\u001b[1;33m\u001b[0m\u001b[1;33m\u001b[0m\u001b[0m\n\u001b[0m",
      "\u001b[1;31mNameError\u001b[0m: name 'Print' is not defined"
     ]
    }
   ],
   "source": [
    "I = [\"intro\", \"to\", \"python\"]\n",
    "for i in I:\n",
    "    print(i)\n",
    "Print(\"done\")"
   ]
  },
  {
   "cell_type": "code",
   "execution_count": 11,
   "metadata": {},
   "outputs": [
    {
     "name": "stdout",
     "output_type": "stream",
     "text": [
      "before -1\n",
      "9 9\n",
      "41 41\n",
      "12 41\n",
      "1 41\n",
      "45 45\n",
      "86 86\n",
      "12 86\n",
      "2 86\n",
      "after 86\n"
     ]
    }
   ],
   "source": [
    "largest_so_far = -1\n",
    "print(\"before\", largest_so_far)\n",
    "for i in [9, 41, 12, 1, 45, 86, 12, 2]:\n",
    "    if i>largest_so_far:\n",
    "        largest_so_far=i\n",
    "    print(i, largest_so_far)\n",
    "print(\"after\", largest_so_far)\n"
   ]
  },
  {
   "cell_type": "code",
   "execution_count": 12,
   "metadata": {},
   "outputs": [
    {
     "name": "stdout",
     "output_type": "stream",
     "text": [
      "the total numbers are 6\n"
     ]
    }
   ],
   "source": [
    "count=0\n",
    "for i in [12,45,34,65,78,90]:\n",
    "    count=count+1\n",
    "print(\"the total numbers are\", count)"
   ]
  },
  {
   "cell_type": "code",
   "execution_count": 7,
   "metadata": {},
   "outputs": [
    {
     "name": "stdout",
     "output_type": "stream",
     "text": [
      "before\n",
      "9 9\n",
      "9 41\n",
      "9 12\n",
      "3 3\n",
      "3 14\n",
      "3 15\n",
      "after 3\n",
      "<class 'int'>\n"
     ]
    }
   ],
   "source": [
    "smallest = None\n",
    "print('before')\n",
    "for value in [9, 41, 12, 3, 14, 15]:\n",
    "    if smallest is None:\n",
    "        smallest=value\n",
    "    elif value<smallest:\n",
    "        smallest=value\n",
    "    print(smallest, value)\n",
    "print(\"after\", smallest)\n",
    "print(type(smallest))"
   ]
  },
  {
   "cell_type": "code",
   "execution_count": null,
   "metadata": {},
   "outputs": [],
   "source": [
    "num = 0\n",
    "sum = 0.0\n",
    "while True:\n",
    "    val = input(\"Enter a number: \")\n",
    "    if val == 'exit':\n",
    "        break\n",
    "    try:\n",
    "        fval = float(val)\n",
    "    except:\n",
    "        print('Invalid')\n",
    "        continue\n",
    "    num = num + 1\n",
    "    sum = sum + fval\n",
    "\n",
    "print(sum,num,sum/num)\n",
    "        "
   ]
  },
  {
   "cell_type": "code",
   "execution_count": 1,
   "metadata": {},
   "outputs": [
    {
     "name": "stdout",
     "output_type": "stream",
     "text": [
      "Sum of 10 and 17 is 27\n"
     ]
    }
   ],
   "source": [
    "num1 = 10 \n",
    "num2 = 17\n",
    "sum=num1+num2\n",
    "print(\"Sum of {0} and {1} is {2}\".format(num1, num2, sum))"
   ]
  },
  {
   "cell_type": "code",
   "execution_count": 1,
   "metadata": {},
   "outputs": [
    {
     "name": "stdout",
     "output_type": "stream",
     "text": [
      "8\n"
     ]
    }
   ],
   "source": [
    "#~~~~~~~STRINGS~~~~~~~\n",
    "s='nikita s'\n",
    "print(len(s))"
   ]
  },
  {
   "cell_type": "code",
   "execution_count": 2,
   "metadata": {},
   "outputs": [
    {
     "name": "stdout",
     "output_type": "stream",
     "text": [
      "p\n",
      "e\n",
      "r\n",
      "f\n",
      "e\n",
      "c\n",
      "t\n",
      "p\n",
      "l\n",
      "a\n",
      "n\n",
      "B\n"
     ]
    }
   ],
   "source": [
    "s1='perfectplanB'\n",
    "#Iterate over the string \n",
    "for i in s1:\n",
    "    print(i)"
   ]
  },
  {
   "cell_type": "code",
   "execution_count": 4,
   "metadata": {},
   "outputs": [
    {
     "name": "stdout",
     "output_type": "stream",
     "text": [
      "p\n",
      "e\n",
      "r\n",
      "f\n",
      "e\n",
      "c\n",
      "t\n"
     ]
    }
   ],
   "source": [
    "s2='perfect'\n",
    "#Iterate over the string \n",
    "for i in range(0,len(s2)):\n",
    "    print(s2[i])"
   ]
  },
  {
   "cell_type": "code",
   "execution_count": 8,
   "metadata": {},
   "outputs": [
    {
     "name": "stdout",
     "output_type": "stream",
     "text": [
      "count of a is  3\n"
     ]
    }
   ],
   "source": [
    "word='banana'\n",
    "count=0\n",
    "for i in word:\n",
    "    if i=='a':\n",
    "        count=count+1\n",
    "print(\"count of a is \", count)"
   ]
  },
  {
   "cell_type": "code",
   "execution_count": 12,
   "metadata": {},
   "outputs": [
    {
     "name": "stdout",
     "output_type": "stream",
     "text": [
      "hello\n",
      "llo\n"
     ]
    }
   ],
   "source": [
    "#String Slicing\n",
    "s='helloworld'\n",
    "first_five = s[:5]\n",
    "third_to_fifth = s[2:5]\n",
    "print(first_five)\n",
    "print(third_to_fifth)"
   ]
  },
  {
   "cell_type": "code",
   "execution_count": 29,
   "metadata": {},
   "outputs": [
    {
     "name": "stdout",
     "output_type": "stream",
     "text": [
      "dlrowolleh\n"
     ]
    }
   ],
   "source": [
    "#Reverse a string\n",
    "s='helloworld'\n",
    "reverse_string = s[::-1]\n",
    "print(reverse_string)"
   ]
  },
  {
   "cell_type": "code",
   "execution_count": 28,
   "metadata": {},
   "outputs": [
    {
     "name": "stdout",
     "output_type": "stream",
     "text": [
      "hlool\n"
     ]
    }
   ],
   "source": [
    "s='helloworld'\n",
    "sliced_str = s[::2]\n",
    "print(sliced_str)"
   ]
  },
  {
   "cell_type": "code",
   "execution_count": 33,
   "metadata": {},
   "outputs": [
    {
     "name": "stdout",
     "output_type": "stream",
     "text": [
      "found it\n"
     ]
    }
   ],
   "source": [
    "fruit='banana'\n",
    "if 'ban' in fruit :\n",
    "    print(\"found it\")"
   ]
  },
  {
   "cell_type": "code",
   "execution_count": 34,
   "metadata": {},
   "outputs": [
    {
     "data": {
      "text/plain": [
       "True"
      ]
     },
     "execution_count": 34,
     "metadata": {},
     "output_type": "execute_result"
    }
   ],
   "source": [
    "fruit='banana'\n",
    "'a' in fruit"
   ]
  },
  {
   "cell_type": "code",
   "execution_count": 37,
   "metadata": {},
   "outputs": [
    {
     "name": "stdout",
     "output_type": "stream",
     "text": [
      "False\n"
     ]
    }
   ],
   "source": [
    "name = 'nikki'\n",
    "print(name.isupper())"
   ]
  },
  {
   "cell_type": "code",
   "execution_count": 39,
   "metadata": {},
   "outputs": [
    {
     "name": "stdout",
     "output_type": "stream",
     "text": [
      "nikki\n",
      "NIKKI\n"
     ]
    }
   ],
   "source": [
    "name = 'NIKki'\n",
    "print(name.lower())\n",
    "print(name.upper())"
   ]
  },
  {
   "cell_type": "code",
   "execution_count": 4,
   "metadata": {},
   "outputs": [
    {
     "name": "stdout",
     "output_type": "stream",
     "text": [
      "Hello Bob   \n",
      "    Hello Bob\n",
      "Hello Bob\n"
     ]
    }
   ],
   "source": [
    "#Stripping whitespace \n",
    "greet = '    Hello Bob   '\n",
    "print(greet.lstrip())\n",
    "print(greet.rstrip())\n",
    "print(greet.strip())"
   ]
  },
  {
   "cell_type": "code",
   "execution_count": 45,
   "metadata": {},
   "outputs": [
    {
     "name": "stdout",
     "output_type": "stream",
     "text": [
      "20\n",
      "30\n",
      "gmail.com\n"
     ]
    }
   ],
   "source": [
    "#Parsing and Extracting \n",
    "data = 'from nikitachigateri@gmail.com bla bla'\n",
    "atpos = data.find('@')\n",
    "print(atpos)\n",
    "stpos = data.find(' ',atpos)\n",
    "print(stpos)\n",
    "host = data[atpos+1:stpos]\n",
    "print(host)"
   ]
  },
  {
   "cell_type": "code",
   "execution_count": 48,
   "metadata": {},
   "outputs": [
    {
     "name": "stdout",
     "output_type": "stream",
     "text": [
      "p\n",
      "e\n",
      "r\n",
      "f\n",
      "e\n",
      "c\n",
      "t\n",
      "p\n",
      "l\n",
      "a\n",
      "n\n",
      "b\n"
     ]
    }
   ],
   "source": [
    "for let in 'perfectplanb':\n",
    "    print(let)"
   ]
  },
  {
   "cell_type": "code",
   "execution_count": 61,
   "metadata": {},
   "outputs": [
    {
     "name": "stdout",
     "output_type": "stream",
     "text": [
      "14 21\n",
      "0.7541\n"
     ]
    }
   ],
   "source": [
    "#Take the following Python code that stores a string:`str = 'Perfect-Plan-B:0.7541'\n",
    "#Use find and string slicing to extract the portion of the string after the colon character \n",
    "#and then use the float function to convert the extracted string into a floating point number\n",
    "str = 'Perfect-Plan-B:0.7541' \n",
    "#l=len(str)\n",
    "atpos = str.find(':')\n",
    "print(atpos, l)\n",
    "#str1= float(str[atpos+1:l])\n",
    "str1= float(str[atpos+1:])\n",
    "print(str1)\n",
    "\n"
   ]
  },
  {
   "cell_type": "code",
   "execution_count": 72,
   "metadata": {},
   "outputs": [
    {
     "name": "stdout",
     "output_type": "stream",
     "text": [
      "HELLO ALL. HOW ARE YOU DOING? \n",
      "\n",
      "THIS IS PYTHON COURSE. \n",
      "\n",
      "ENJOY\n",
      "No of lines 3\n"
     ]
    }
   ],
   "source": [
    "#FILES\n",
    "f = open('untitled.txt')\n",
    "count = 0\n",
    "for var in f:\n",
    "    print(var.upper())\n",
    "    count = count+1\n",
    "print(\"No of lines\", count)"
   ]
  },
  {
   "cell_type": "code",
   "execution_count": 76,
   "metadata": {},
   "outputs": [
    {
     "name": "stdout",
     "output_type": "stream",
     "text": [
      "39\n",
      "Hello All\n",
      "This is Py\n",
      "Hello is present\n"
     ]
    }
   ],
   "source": [
    "#Reading wole file\n",
    "f = open('Demo.txt')\n",
    "input = f.read()\n",
    "print(len(input))\n",
    "#Whoellength\n",
    "print(input[:20])\n",
    "if \"Hello\" in input:\n",
    "    print(\"Hello is present\")\n",
    "#First 20 characters"
   ]
  },
  {
   "cell_type": "code",
   "execution_count": 8,
   "metadata": {},
   "outputs": [
    {
     "name": "stdout",
     "output_type": "stream",
     "text": [
      "From : Nikita\n",
      "From : SRK\n"
     ]
    }
   ],
   "source": [
    "f = open('Demo.txt')\n",
    "for line in f:\n",
    "    line = line.rstrip()\n",
    "    if(line.startswith('From')):\n",
    "        print(line)\n"
   ]
  },
  {
   "cell_type": "code",
   "execution_count": 2,
   "metadata": {},
   "outputs": [
    {
     "name": "stdin",
     "output_type": "stream",
     "text": [
      "Enter the file name bla\n"
     ]
    },
    {
     "name": "stdout",
     "output_type": "stream",
     "text": [
      "File cannot be opened:  bla\n"
     ]
    }
   ],
   "source": [
    "fname = input(\"Enter the file name\")\n",
    "try:\n",
    "    fhand = open(fname)\n",
    "    count = 0 \n",
    "    for line in fhand:\n",
    "        if(line.startswith(\"From\")):\n",
    "            count=count+1\n",
    "    print(\"there are\", count, \"from line in\", fname)\n",
    "    \n",
    "except:\n",
    "    print(\"File cannot be opened: \", fname)\n",
    "    quit()\n",
    "    \n"
   ]
  },
  {
   "cell_type": "code",
   "execution_count": 3,
   "metadata": {},
   "outputs": [
    {
     "name": "stdout",
     "output_type": "stream",
     "text": [
      "P\tB\n",
      "H\n",
      "5\n"
     ]
    }
   ],
   "source": [
    "stuff='P\\tB\\nH'\n",
    "print(stuff)\n",
    "print(len(stuff))"
   ]
  },
  {
   "cell_type": "code",
   "execution_count": 5,
   "metadata": {},
   "outputs": [
    {
     "name": "stdout",
     "output_type": "stream",
     "text": [
      "FROM XYZ.VHY@PERFECTPLANB.NET \n",
      "\n",
      "SAT JAN 5 09:14:16 2008. \n",
      "\n",
      "RETURN-PATH: RECEIVED: FROM MURDER (PERFECTPLANB.NET [141.211.14.90]) BY MAIL.PERFECTPLANB.NET WITH LMTPA;\n",
      "\n",
      "SAT, 05 JAN 2008 09:14:16 -0500\n"
     ]
    }
   ],
   "source": [
    "f = open('File.txt')\n",
    "for line in f:\n",
    "    line2 = line.rstrip()\n",
    "    print(line.upper())"
   ]
  },
  {
   "cell_type": "code",
   "execution_count": 8,
   "metadata": {},
   "outputs": [
    {
     "name": "stdout",
     "output_type": "stream",
     "text": [
      "['apple', 'guava', 'orange']\n"
     ]
    }
   ],
   "source": [
    "#~~~~LISTS~~~~~\n",
    "L = ['apple', 'mango', 'orange']\n",
    "L[1]='guava'\n",
    "print(L)\n",
    "\n",
    "\n",
    "\n",
    "\n"
   ]
  },
  {
   "cell_type": "code",
   "execution_count": 10,
   "metadata": {},
   "outputs": [
    {
     "name": "stdout",
     "output_type": "stream",
     "text": [
      "3\n",
      "range(0, 3)\n"
     ]
    }
   ],
   "source": [
    "L = ['apple', 'mango', 'orange']\n",
    "print(len(L))\n",
    "print(range(len(L)))"
   ]
  },
  {
   "cell_type": "code",
   "execution_count": 12,
   "metadata": {},
   "outputs": [
    {
     "name": "stdout",
     "output_type": "stream",
     "text": [
      "Hello Nik\n",
      "Hello Sam\n",
      "Hello Ram\n"
     ]
    }
   ],
   "source": [
    "n = ['Nik', 'Sam', 'Ram']\n",
    "for i in range(len(n)):\n",
    "    print(\"Hello\", n[i])"
   ]
  },
  {
   "cell_type": "code",
   "execution_count": 22,
   "metadata": {},
   "outputs": [
    {
     "name": "stdout",
     "output_type": "stream",
     "text": [
      "[99, 22, 33]\n"
     ]
    }
   ],
   "source": [
    "#List Slicing \n",
    "l = [99, 22, 33, 56, 78, 98]\n",
    "l1 = l[0:3]\n",
    "print(l1)"
   ]
  },
  {
   "cell_type": "code",
   "execution_count": 23,
   "metadata": {},
   "outputs": [
    {
     "name": "stdout",
     "output_type": "stream",
     "text": [
      "['hello', 'world']\n"
     ]
    }
   ],
   "source": [
    "#List appending \n",
    "stuff = list()\n",
    "stuff.append('hello')\n",
    "stuff.append('world')\n",
    "print(stuff)"
   ]
  },
  {
   "cell_type": "code",
   "execution_count": 26,
   "metadata": {},
   "outputs": [
    {
     "data": {
      "text/plain": [
       "True"
      ]
     },
     "execution_count": 26,
     "metadata": {},
     "output_type": "execute_result"
    }
   ],
   "source": [
    "some = [1, 2, 44, 31, 876]\n",
    "44 in some\n"
   ]
  },
  {
   "cell_type": "code",
   "execution_count": 31,
   "metadata": {},
   "outputs": [
    {
     "name": "stdout",
     "output_type": "stream",
     "text": [
      "[2, 31, 44, 876, 1098]\n",
      "['10987662', 'Nik', 'Ziva', 'nikz']\n"
     ]
    }
   ],
   "source": [
    "some = [1098, 2, 44, 31, 876]\n",
    "friends = ['Ziva', 'Nik', 'nikz', '10987662']\n",
    "some.sort()\n",
    "friends.sort()\n",
    "print(some)\n",
    "print(friends)"
   ]
  },
  {
   "cell_type": "code",
   "execution_count": 2,
   "metadata": {},
   "outputs": [
    {
     "name": "stdin",
     "output_type": "stream",
     "text": [
      "Enter a number 2\n",
      "Enter a number 3\n",
      "Enter a number 4\n",
      "Enter a number 6\n",
      "Enter a number done\n"
     ]
    },
    {
     "name": "stdout",
     "output_type": "stream",
     "text": [
      "Average: 3.75\n"
     ]
    }
   ],
   "source": [
    "total = 0 \n",
    "count = 0 \n",
    "while True:\n",
    "    inp = input(\"Enter a number\")\n",
    "    if inp == 'done':\n",
    "        break\n",
    "    value = float(inp)\n",
    "    total = total + value \n",
    "    count = count+1\n",
    "average = total/count\n",
    "print('Average:', average)"
   ]
  },
  {
   "cell_type": "code",
   "execution_count": 3,
   "metadata": {},
   "outputs": [
    {
     "name": "stdin",
     "output_type": "stream",
     "text": [
      "Enter a number 2\n",
      "Enter a number 3\n",
      "Enter a number 4\n",
      "Enter a number 6\n",
      "Enter a number done\n"
     ]
    },
    {
     "name": "stdout",
     "output_type": "stream",
     "text": [
      "Average: 3.75\n"
     ]
    }
   ],
   "source": [
    "#Sum and Average using Lists\n",
    "numlist = list() \n",
    "while True:\n",
    "    inp = input(\"Enter a number\")\n",
    "    if inp == 'done':\n",
    "        break\n",
    "    value = float(inp)\n",
    "    numlist.append(value)\n",
    "average = sum(numlist)/len(numlist)\n",
    "print('Average:', average)"
   ]
  },
  {
   "cell_type": "code",
   "execution_count": 8,
   "metadata": {},
   "outputs": [
    {
     "name": "stdout",
     "output_type": "stream",
     "text": [
      "['With', 'three', 'friends']\n",
      "3\n",
      "three\n",
      "With\n",
      "three\n",
      "friends\n"
     ]
    }
   ],
   "source": [
    "#Spli()function : String to list \n",
    "str = 'With three friends'\n",
    "stuff = str.split()\n",
    "print(stuff)\n",
    "print(len(stuff))\n",
    "print(stuff[1])\n",
    "for words in stuff:\n",
    "    print (words)"
   ]
  },
  {
   "cell_type": "code",
   "execution_count": 10,
   "metadata": {},
   "outputs": [
    {
     "name": "stdout",
     "output_type": "stream",
     "text": [
      "['Hello', 'wassup', 'peeps']\n"
     ]
    }
   ],
   "source": [
    "#Split with delimiter specified\n",
    "str = 'Hello;wassup;peeps'\n",
    "str2 = str.split(';')\n",
    "print(str2)"
   ]
  },
  {
   "cell_type": "code",
   "execution_count": 16,
   "metadata": {},
   "outputs": [
    {
     "name": "stdout",
     "output_type": "stream",
     "text": [
      "nikitachigateri@gmail.com\n",
      "gmail.com\n"
     ]
    }
   ],
   "source": [
    "line = 'from nikitachigateri@gmail.com 76 437 gsaf'\n",
    "words=line.split()\n",
    "print(words[1])\n",
    "email = words[1]\n",
    "domain = email.split('@')\n",
    "print(domain[1])"
   ]
  },
  {
   "cell_type": "code",
   "execution_count": 17,
   "metadata": {},
   "outputs": [
    {
     "ename": "TypeError",
     "evalue": "'str' object does not support item assignment",
     "output_type": "error",
     "traceback": [
      "\u001b[1;31m---------------------------------------------------------------------------\u001b[0m",
      "\u001b[1;31mTypeError\u001b[0m                                 Traceback (most recent call last)",
      "\u001b[1;32m<ipython-input-17-c471b0c9af14>\u001b[0m in \u001b[0;36m<module>\u001b[1;34m\u001b[0m\n\u001b[0;32m      1\u001b[0m \u001b[0mcompany\u001b[0m \u001b[1;33m=\u001b[0m \u001b[1;34m'PerfectplanB'\u001b[0m\u001b[1;33m\u001b[0m\u001b[1;33m\u001b[0m\u001b[0m\n\u001b[1;32m----> 2\u001b[1;33m \u001b[0mcompany\u001b[0m\u001b[1;33m[\u001b[0m\u001b[1;36m0\u001b[0m\u001b[1;33m]\u001b[0m\u001b[1;33m=\u001b[0m \u001b[1;34m'p'\u001b[0m\u001b[1;33m\u001b[0m\u001b[1;33m\u001b[0m\u001b[0m\n\u001b[0m\u001b[0;32m      3\u001b[0m \u001b[0mprint\u001b[0m\u001b[1;33m(\u001b[0m\u001b[0mcompany\u001b[0m\u001b[1;33m)\u001b[0m\u001b[1;33m\u001b[0m\u001b[1;33m\u001b[0m\u001b[0m\n",
      "\u001b[1;31mTypeError\u001b[0m: 'str' object does not support item assignment"
     ]
    }
   ],
   "source": [
    "company = 'PerfectplanB'\n",
    "company[0]= 'p'\n",
    "print(company)"
   ]
  },
  {
   "cell_type": "code",
   "execution_count": 18,
   "metadata": {},
   "outputs": [
    {
     "name": "stdout",
     "output_type": "stream",
     "text": [
      "[0, 1, 2]\n"
     ]
    }
   ],
   "source": [
    "x = list(range(3))\n",
    "print(x)"
   ]
  },
  {
   "cell_type": "code",
   "execution_count": 1,
   "metadata": {},
   "outputs": [],
   "source": [
    "#Create a file named \"file.txt\" with the following text mentioned below. \\\n",
    "#You are requested to extract Day \n",
    "#i.e. Sat, Sun etc from this file and print the days so that your output looks like:    SatSunMonTueWed.     \n",
    "#(Print the output in new lines i.e. Sat then next line Sun then next line Mon etc.)    \n",
    "han = open ('File.txt')\n",
    "\n",
    "for line in han:\n",
    "     line = line.rstrip()\n",
    "     wds = line.split()\n",
    "     if len(wds)<3 or wds[0]!='From':\n",
    "        continue\n",
    "     print(wds[2])"
   ]
  },
  {
   "cell_type": "code",
   "execution_count": 3,
   "metadata": {},
   "outputs": [
    {
     "name": "stdout",
     "output_type": "stream",
     "text": [
      "[0, 1, 2]\n"
     ]
    }
   ],
   "source": [
    "x = list(range(3))\n",
    "print(x)"
   ]
  },
  {
   "cell_type": "code",
   "execution_count": null,
   "metadata": {},
   "outputs": [],
   "source": [
    "~~~~Dictionaries~~~~"
   ]
  },
  {
   "cell_type": "code",
   "execution_count": 2,
   "metadata": {},
   "outputs": [
    {
     "name": "stdout",
     "output_type": "stream",
     "text": [
      "{'money': 12, 'tissue': 83}\n",
      "83\n",
      "85\n"
     ]
    }
   ],
   "source": [
    "purse = dict()\n",
    "purse['money']= 12\n",
    "purse['tissue']= 83\n",
    "print(purse)\n",
    "print(purse['tissue'])\n",
    "purse['tissue']= purse['tissue'] + 2\n",
    "print(purse['tissue'])"
   ]
  },
  {
   "cell_type": "code",
   "execution_count": 8,
   "metadata": {},
   "outputs": [
    {
     "name": "stdout",
     "output_type": "stream",
     "text": [
      "{'a': 1, 'b': 2}\n",
      "{}\n"
     ]
    }
   ],
   "source": [
    "j = {'a':1 , 'b':2}\n",
    "print(j)\n",
    "k = {}\n",
    "print(k)\n"
   ]
  },
  {
   "cell_type": "code",
   "execution_count": 1,
   "metadata": {},
   "outputs": [
    {
     "name": "stdin",
     "output_type": "stream",
     "text": [
      "Enter a line the on for the yup\n"
     ]
    },
    {
     "name": "stdout",
     "output_type": "stream",
     "text": [
      "['the', 'on', 'for', 'the', 'yup']\n",
      "1\n",
      "1\n",
      "1\n",
      "2\n",
      "1\n",
      "counts {'the': 2, 'on': 1, 'for': 1, 'yup': 1}\n"
     ]
    }
   ],
   "source": [
    "purse = dict()\n",
    "line = input(\"Enter a line\")\n",
    "str = line.split()\n",
    "print(str)\n",
    "for word in str :\n",
    "    purse[word]= purse.get(word,0)+1\n",
    "    print(purse[word])\n",
    "print('counts', purse)\n"
   ]
  },
  {
   "cell_type": "code",
   "execution_count": 3,
   "metadata": {},
   "outputs": [
    {
     "name": "stdout",
     "output_type": "stream",
     "text": [
      "chuck 1\n",
      "fred 4\n",
      "balabla 176\n"
     ]
    }
   ],
   "source": [
    "counts = {'chuck': 1, 'fred':4, 'balabla':176}\n",
    "for key in counts:\n",
    "    print(key, counts[key])\n",
    "    \n"
   ]
  },
  {
   "cell_type": "code",
   "execution_count": 4,
   "metadata": {},
   "outputs": [
    {
     "name": "stdout",
     "output_type": "stream",
     "text": [
      "['chuck', 'fred', 'balabla']\n",
      "dict_keys(['chuck', 'fred', 'balabla'])\n",
      "dict_values([1, 4, 176])\n",
      "dict_items([('chuck', 1), ('fred', 4), ('balabla', 176)])\n"
     ]
    }
   ],
   "source": [
    "jjj = {'chuck': 1, 'fred':4, 'balabla':176}\n",
    "print(list(jjj))\n",
    "print(jjj.keys())\n",
    "print(jjj.values())\n",
    "print(jjj.items())\n"
   ]
  },
  {
   "cell_type": "code",
   "execution_count": 1,
   "metadata": {},
   "outputs": [
    {
     "ename": "NameError",
     "evalue": "name 'List' is not defined",
     "output_type": "error",
     "traceback": [
      "\u001b[1;31m---------------------------------------------------------------------------\u001b[0m",
      "\u001b[1;31mNameError\u001b[0m                                 Traceback (most recent call last)",
      "\u001b[1;32m<ipython-input-1-3777accc8413>\u001b[0m in \u001b[0;36m<module>\u001b[1;34m\u001b[0m\n\u001b[1;32m----> 1\u001b[1;33m \u001b[1;32mclass\u001b[0m \u001b[0mSolution\u001b[0m\u001b[1;33m:\u001b[0m\u001b[1;33m\u001b[0m\u001b[1;33m\u001b[0m\u001b[0m\n\u001b[0m\u001b[0;32m      2\u001b[0m     \u001b[1;32mdef\u001b[0m \u001b[0msingleNumber\u001b[0m\u001b[1;33m(\u001b[0m\u001b[0mself\u001b[0m\u001b[1;33m,\u001b[0m \u001b[0mnums\u001b[0m\u001b[1;33m:\u001b[0m \u001b[0mList\u001b[0m\u001b[1;33m[\u001b[0m\u001b[0mint\u001b[0m\u001b[1;33m]\u001b[0m\u001b[1;33m)\u001b[0m \u001b[1;33m->\u001b[0m \u001b[0mint\u001b[0m\u001b[1;33m:\u001b[0m\u001b[1;33m\u001b[0m\u001b[1;33m\u001b[0m\u001b[0m\n\u001b[0;32m      3\u001b[0m         \u001b[0ms\u001b[0m \u001b[1;33m=\u001b[0m \u001b[0mdict\u001b[0m\u001b[1;33m(\u001b[0m\u001b[1;33m)\u001b[0m\u001b[1;33m\u001b[0m\u001b[1;33m\u001b[0m\u001b[0m\n\u001b[0;32m      4\u001b[0m         \u001b[1;32mfor\u001b[0m \u001b[0mi\u001b[0m \u001b[1;32min\u001b[0m \u001b[0mnums\u001b[0m\u001b[1;33m:\u001b[0m\u001b[1;33m\u001b[0m\u001b[1;33m\u001b[0m\u001b[0m\n\u001b[0;32m      5\u001b[0m             \u001b[0ms\u001b[0m\u001b[1;33m[\u001b[0m\u001b[0mi\u001b[0m\u001b[1;33m]\u001b[0m\u001b[1;33m=\u001b[0m\u001b[0ms\u001b[0m\u001b[1;33m.\u001b[0m\u001b[0mget\u001b[0m\u001b[1;33m(\u001b[0m\u001b[0mi\u001b[0m\u001b[1;33m,\u001b[0m\u001b[1;36m0\u001b[0m\u001b[1;33m)\u001b[0m\u001b[1;33m+\u001b[0m\u001b[1;36m1\u001b[0m\u001b[1;33m\u001b[0m\u001b[1;33m\u001b[0m\u001b[0m\n",
      "\u001b[1;32m<ipython-input-1-3777accc8413>\u001b[0m in \u001b[0;36mSolution\u001b[1;34m()\u001b[0m\n\u001b[0;32m      1\u001b[0m \u001b[1;32mclass\u001b[0m \u001b[0mSolution\u001b[0m\u001b[1;33m:\u001b[0m\u001b[1;33m\u001b[0m\u001b[1;33m\u001b[0m\u001b[0m\n\u001b[1;32m----> 2\u001b[1;33m     \u001b[1;32mdef\u001b[0m \u001b[0msingleNumber\u001b[0m\u001b[1;33m(\u001b[0m\u001b[0mself\u001b[0m\u001b[1;33m,\u001b[0m \u001b[0mnums\u001b[0m\u001b[1;33m:\u001b[0m \u001b[0mList\u001b[0m\u001b[1;33m[\u001b[0m\u001b[0mint\u001b[0m\u001b[1;33m]\u001b[0m\u001b[1;33m)\u001b[0m \u001b[1;33m->\u001b[0m \u001b[0mint\u001b[0m\u001b[1;33m:\u001b[0m\u001b[1;33m\u001b[0m\u001b[1;33m\u001b[0m\u001b[0m\n\u001b[0m\u001b[0;32m      3\u001b[0m         \u001b[0ms\u001b[0m \u001b[1;33m=\u001b[0m \u001b[0mdict\u001b[0m\u001b[1;33m(\u001b[0m\u001b[1;33m)\u001b[0m\u001b[1;33m\u001b[0m\u001b[1;33m\u001b[0m\u001b[0m\n\u001b[0;32m      4\u001b[0m         \u001b[1;32mfor\u001b[0m \u001b[0mi\u001b[0m \u001b[1;32min\u001b[0m \u001b[0mnums\u001b[0m\u001b[1;33m:\u001b[0m\u001b[1;33m\u001b[0m\u001b[1;33m\u001b[0m\u001b[0m\n\u001b[0;32m      5\u001b[0m             \u001b[0ms\u001b[0m\u001b[1;33m[\u001b[0m\u001b[0mi\u001b[0m\u001b[1;33m]\u001b[0m\u001b[1;33m=\u001b[0m\u001b[0ms\u001b[0m\u001b[1;33m.\u001b[0m\u001b[0mget\u001b[0m\u001b[1;33m(\u001b[0m\u001b[0mi\u001b[0m\u001b[1;33m,\u001b[0m\u001b[1;36m0\u001b[0m\u001b[1;33m)\u001b[0m\u001b[1;33m+\u001b[0m\u001b[1;36m1\u001b[0m\u001b[1;33m\u001b[0m\u001b[1;33m\u001b[0m\u001b[0m\n",
      "\u001b[1;31mNameError\u001b[0m: name 'List' is not defined"
     ]
    }
   ],
   "source": []
  },
  {
   "cell_type": "code",
   "execution_count": 48,
   "metadata": {},
   "outputs": [
    {
     "name": "stdout",
     "output_type": "stream",
     "text": [
      "3\n"
     ]
    }
   ],
   "source": [
    "nums =  [5, 5, 2, 2, 3, 4, 4,]\n",
    "counts ={}\n",
    "for i in nums:\n",
    "    if i not in counts:\n",
    "        counts[i]=1\n",
    "    else:\n",
    "        del counts[i]\n",
    "\n",
    "print(list(counts.keys())[0])\n",
    " "
   ]
  },
  {
   "cell_type": "code",
   "execution_count": 54,
   "metadata": {},
   "outputs": [
    {
     "name": "stdout",
     "output_type": "stream",
     "text": [
      "a= 0 i= 5\n",
      "a after XOR= 5\n",
      "a= 5 i= 5\n",
      "a after XOR= 0\n",
      "a= 0 i= 2\n",
      "a after XOR= 2\n",
      "a= 2 i= 2\n",
      "a after XOR= 0\n",
      "a= 0 i= 3\n",
      "a after XOR= 3\n",
      "a= 3 i= 4\n",
      "a after XOR= 7\n",
      "a= 7 i= 4\n",
      "a after XOR= 3\n"
     ]
    }
   ],
   "source": [
    "nums =  [5, 5, 2, 2, 3, 4, 4,]\n",
    "a = 0\n",
    "for i in nums:\n",
    "    print(\"a=\", a, \"i=\", i)\n",
    "    a^=i\n",
    "    print(\"a after XOR=\", a)\n"
   ]
  },
  {
   "cell_type": "code",
   "execution_count": 59,
   "metadata": {},
   "outputs": [
    {
     "name": "stdout",
     "output_type": "stream",
     "text": [
      "I =  0 ELEMENT =  2\n",
      "Comp= 7\n",
      "h[element]= 0\n",
      "I =  1 ELEMENT =  11\n",
      "Comp= -2\n",
      "h[element]= 1\n",
      "I =  2 ELEMENT =  15\n",
      "Comp= -6\n",
      "h[element]= 2\n",
      "I =  3 ELEMENT =  7\n",
      "Comp= 2\n",
      "[0, 3]\n"
     ]
    }
   ],
   "source": [
    "nums = [2,11,15,7]\n",
    "target = 9\n",
    "h ={}\n",
    "for i,element in enumerate(nums):\n",
    "    print(\"I = \", i, \"ELEMENT = \", element)\n",
    "    comp = target-element\n",
    "    print(\"Comp=\", comp)\n",
    "    if comp not in h:\n",
    "        h[element]=i\n",
    "        print(\"h[element]=\" , h[element])\n",
    "    else:\n",
    "        print([h[comp],i])"
   ]
  },
  {
   "cell_type": "code",
   "execution_count": 65,
   "metadata": {},
   "outputs": [
    {
     "name": "stdout",
     "output_type": "stream",
     "text": [
      "0\n",
      "inf\n"
     ]
    }
   ],
   "source": [
    "num=123\n",
    "sm = 0 \n",
    "sign = 1\n",
    "if num<0:\n",
    "    sign=-1\n",
    "    num=num*-1\n",
    "while num>0:\n",
    "    rem = num%10\n",
    "    sm=sm*10+rem\n",
    "    num=num/10\n",
    "if not -2147483648<sm<2147483648:\n",
    "    print(\"0\") \n",
    "    \n",
    "print(sign*sm)\n",
    "    "
   ]
  },
  {
   "cell_type": "code",
   "execution_count": 70,
   "metadata": {},
   "outputs": [
    {
     "name": "stdout",
     "output_type": "stream",
     "text": [
      "chuck 1\n",
      "fred 4\n",
      "balabla 176\n"
     ]
    }
   ],
   "source": [
    "jjj = {'chuck': 1, 'fred':4, 'balabla':176}\n",
    "for i, k  in jjj.items():\n",
    "    print(i, k)"
   ]
  },
  {
   "cell_type": "code",
   "execution_count": 11,
   "metadata": {},
   "outputs": [
    {
     "name": "stdin",
     "output_type": "stream",
     "text": [
      "Enter file name File.txt\n"
     ]
    },
    {
     "name": "stdout",
     "output_type": "stream",
     "text": [
      "the 7\n",
      "clown 2\n",
      "ran 2\n",
      "after 1\n",
      "car 2\n",
      "and 4\n",
      "into 1\n",
      "tent 2\n",
      "fell 1\n",
      "down 1\n",
      "on 1\n",
      "car. 1\n",
      "Studying 1\n",
      "python 2\n",
      "is 1\n",
      "very 1\n",
      "important. 1\n",
      "perfect 2\n",
      "Plan 1\n",
      "B 1\n",
      "makes 1\n",
      "us 1\n",
      "in 1\n",
      "Machine 1\n",
      "Learning. 1\n",
      "Done the 7\n"
     ]
    }
   ],
   "source": [
    "#To take file as input and print the number of word counts and the largest count of word.\n",
    "\n",
    "fname = input('Enter file name')\n",
    "fhand = open(fname)\n",
    "di = dict()\n",
    "for line in fhand:\n",
    "    line = line.rstrip()\n",
    "    words = line.split()\n",
    "    \n",
    "    for w in words:\n",
    "        di[w]=di.get(w,0)+1\n",
    "        \n",
    "largest = -1\n",
    "theword = None\n",
    "for i,j in di.items():\n",
    "    print(i,j)\n",
    "    if j>largest:\n",
    "        largest = j\n",
    "        theword = i \n",
    "        \n",
    "print(\"Done\", theword, largest)\n",
    "    "
   ]
  },
  {
   "cell_type": "code",
   "execution_count": 15,
   "metadata": {},
   "outputs": [
    {
     "name": "stdout",
     "output_type": "stream",
     "text": [
      "(1, 9, 2, 'A', 7, 8)\n"
     ]
    }
   ],
   "source": [
    "#~~~~~~TUPLES~~~~~~\n",
    "y = (1,9,2,'A', 7, 8)\n",
    "print(y)"
   ]
  },
  {
   "cell_type": "code",
   "execution_count": 20,
   "metadata": {},
   "outputs": [
    {
     "name": "stdout",
     "output_type": "stream",
     "text": [
      "False\n"
     ]
    }
   ],
   "source": [
    "print((3,2,1)<(1,1,2))\n"
   ]
  },
  {
   "cell_type": "code",
   "execution_count": 2,
   "metadata": {},
   "outputs": [
    {
     "name": "stdout",
     "output_type": "stream",
     "text": [
      "[('a', 10), ('b', 100), ('c', 5)]\n"
     ]
    }
   ],
   "source": [
    "d={'a':10, 'c':5, 'b':100}\n",
    "print(sorted(d.items()))"
   ]
  },
  {
   "cell_type": "code",
   "execution_count": 8,
   "metadata": {},
   "outputs": [
    {
     "name": "stdout",
     "output_type": "stream",
     "text": [
      "[(10, 'a'), (5, 'b'), (100, 'c')]\n"
     ]
    }
   ],
   "source": [
    "c={'a':10, 'b':5, 'c':100}\n",
    "tmp = list()\n",
    "for k,v in c.items():\n",
    "    tmp.append((v,k))\n",
    "print(tmp)"
   ]
  },
  {
   "cell_type": "code",
   "execution_count": 5,
   "metadata": {},
   "outputs": [
    {
     "name": "stdout",
     "output_type": "stream",
     "text": [
      "[(5, 'c'), (10, 'a'), (100, 'b')]\n"
     ]
    }
   ],
   "source": [
    "d={'a':10, 'c':5, 'b':100}\n",
    "print(sorted([(v,k) for k,v in d.items()]))"
   ]
  },
  {
   "cell_type": "code",
   "execution_count": 12,
   "metadata": {},
   "outputs": [
    {
     "name": "stdin",
     "output_type": "stream",
     "text": [
      "Enter file name File.txt\n"
     ]
    },
    {
     "name": "stdout",
     "output_type": "stream",
     "text": [
      "[(7, 'the'), (4, 'and'), (2, 'tent'), (2, 'ran'), (2, 'python'), (2, 'perfect'), (2, 'clown'), (2, 'car'), (1, 'very'), (1, 'us'), (1, 'on'), (1, 'makes'), (1, 'is'), (1, 'into'), (1, 'in'), (1, 'important.'), (1, 'fell'), (1, 'down'), (1, 'car.'), (1, 'after'), (1, 'Studying'), (1, 'Plan'), (1, 'Machine'), (1, 'Learning'), (1, 'B')]\n"
     ]
    }
   ],
   "source": [
    "#Count the number of words i.e each word comes how many times using dictionaries.\n",
    "#Thereafter, sort the words on the basis of frequency from highest to lowest \n",
    "fname = input('Enter file name')\n",
    "fhand = open(fname)\n",
    "di = dict()\n",
    "tmp = list()\n",
    "for line in fhand:\n",
    "    line = line.rstrip()\n",
    "    words = line.split()\n",
    "    \n",
    "    for w in words:\n",
    "        di[w]=di.get(w,0)+1\n",
    "        \n",
    "for k,v in di.items():\n",
    "    tmp.append((v,k))\n",
    "tmp=sorted((tmp), reverse=True)\n",
    "print(tmp)\n",
    "    "
   ]
  },
  {
   "cell_type": "code",
   "execution_count": 2,
   "metadata": {},
   "outputs": [
    {
     "name": "stdout",
     "output_type": "stream",
     "text": [
      "<class 'set'>\n",
      "{'b', 'a', 'c'}\n"
     ]
    }
   ],
   "source": [
    "#~~~~~~~~~~~~~~~~~~~~~~SETS~~~~~~~~~~~~~~~~~~~~~~~\n",
    "\n",
    "s ={'a', 'b', 'c'}\n",
    "print(type(s))\n",
    "print(s)"
   ]
  },
  {
   "cell_type": "code",
   "execution_count": 3,
   "metadata": {},
   "outputs": [
    {
     "name": "stdout",
     "output_type": "stream",
     "text": [
      "{'b', 'a', 'c'}\n"
     ]
    }
   ],
   "source": [
    "\n",
    "s = set(['a', 'b', 'c'])\n",
    "print(s)"
   ]
  },
  {
   "cell_type": "code",
   "execution_count": 5,
   "metadata": {},
   "outputs": [
    {
     "ename": "TypeError",
     "evalue": "unhashable type: 'list'",
     "output_type": "error",
     "traceback": [
      "\u001b[1;31m---------------------------------------------------------------------------\u001b[0m",
      "\u001b[1;31mTypeError\u001b[0m                                 Traceback (most recent call last)",
      "\u001b[1;32m<ipython-input-5-d1e31aeb2644>\u001b[0m in \u001b[0;36m<module>\u001b[1;34m\u001b[0m\n\u001b[1;32m----> 1\u001b[1;33m \u001b[0ms\u001b[0m \u001b[1;33m=\u001b[0m \u001b[1;33m{\u001b[0m\u001b[1;36m1\u001b[0m\u001b[1;33m,\u001b[0m\u001b[1;36m2\u001b[0m\u001b[1;33m,\u001b[0m\u001b[1;36m3\u001b[0m\u001b[1;33m,\u001b[0m\u001b[1;36m4\u001b[0m\u001b[1;33m,\u001b[0m\u001b[1;36m1\u001b[0m\u001b[1;33m,\u001b[0m \u001b[1;33m[\u001b[0m\u001b[1;36m87\u001b[0m\u001b[1;33m,\u001b[0m\u001b[1;36m90\u001b[0m\u001b[1;33m]\u001b[0m\u001b[1;33m}\u001b[0m\u001b[1;33m\u001b[0m\u001b[1;33m\u001b[0m\u001b[0m\n\u001b[0m\u001b[0;32m      2\u001b[0m \u001b[0mprint\u001b[0m\u001b[1;33m(\u001b[0m\u001b[0ms\u001b[0m\u001b[1;33m)\u001b[0m\u001b[1;33m\u001b[0m\u001b[1;33m\u001b[0m\u001b[0m\n",
      "\u001b[1;31mTypeError\u001b[0m: unhashable type: 'list'"
     ]
    }
   ],
   "source": [
    "s = {1,2,3,4,1, [87,90]}\n",
    "print(s)"
   ]
  },
  {
   "cell_type": "code",
   "execution_count": 6,
   "metadata": {},
   "outputs": [
    {
     "name": "stdout",
     "output_type": "stream",
     "text": [
      "{1, 2, 3, 4}\n"
     ]
    }
   ],
   "source": [
    "s = {1,2,3,4,1,}\n",
    "print(s)"
   ]
  },
  {
   "cell_type": "code",
   "execution_count": 15,
   "metadata": {},
   "outputs": [
    {
     "name": "stdout",
     "output_type": "stream",
     "text": [
      "{'c2', 'data structures', 'Electronics', 'c1', 'Comp', 'oops'}\n"
     ]
    }
   ],
   "source": [
    "courses = {'data structures', 'Comp', 'Electronics'}\n",
    "courses.add(\"oops\")\n",
    "courses.update([\"c1\", \"c2\"])\n",
    "print(courses)"
   ]
  },
  {
   "cell_type": "code",
   "execution_count": 19,
   "metadata": {},
   "outputs": [
    {
     "name": "stdout",
     "output_type": "stream",
     "text": [
      "{'c2', 'data structures', 'Electronics', 'c1', 'Comp', 'oops'}\n"
     ]
    }
   ],
   "source": [
    "courses = {'data structures', 'Comp', 'Electronics'}\n",
    "courses.add(\"oops\")\n",
    "courses.update([\"c1\", \"c2\"])\n",
    "courses.discard(\"hello\")\n",
    "print(courses)"
   ]
  },
  {
   "cell_type": "code",
   "execution_count": 20,
   "metadata": {},
   "outputs": [
    {
     "name": "stdout",
     "output_type": "stream",
     "text": [
      "{'data structures', 'Electronics', 'c1', 'Comp', 'oops'}\n"
     ]
    }
   ],
   "source": [
    "courses = {'data structures', 'Comp', 'Electronics'}\n",
    "courses.add(\"oops\")\n",
    "courses.update([\"c1\", \"c2\"])\n",
    "courses.pop()\n",
    "print(courses)"
   ]
  },
  {
   "cell_type": "code",
   "execution_count": 21,
   "metadata": {},
   "outputs": [
    {
     "name": "stdout",
     "output_type": "stream",
     "text": [
      "set()\n"
     ]
    }
   ],
   "source": [
    "courses = {'data structures', 'Comp', 'Electronics'}\n",
    "courses.add(\"oops\")\n",
    "courses.update([\"c1\", \"c2\"])\n",
    "courses.clear()\n",
    "print(courses)"
   ]
  },
  {
   "cell_type": "code",
   "execution_count": 22,
   "metadata": {},
   "outputs": [
    {
     "ename": "NameError",
     "evalue": "name 'courses' is not defined",
     "output_type": "error",
     "traceback": [
      "\u001b[1;31m---------------------------------------------------------------------------\u001b[0m",
      "\u001b[1;31mNameError\u001b[0m                                 Traceback (most recent call last)",
      "\u001b[1;32m<ipython-input-22-4e59dcdf5ddc>\u001b[0m in \u001b[0;36m<module>\u001b[1;34m\u001b[0m\n\u001b[0;32m      3\u001b[0m \u001b[0mcourses\u001b[0m\u001b[1;33m.\u001b[0m\u001b[0mupdate\u001b[0m\u001b[1;33m(\u001b[0m\u001b[1;33m[\u001b[0m\u001b[1;34m\"c1\"\u001b[0m\u001b[1;33m,\u001b[0m \u001b[1;34m\"c2\"\u001b[0m\u001b[1;33m]\u001b[0m\u001b[1;33m)\u001b[0m\u001b[1;33m\u001b[0m\u001b[1;33m\u001b[0m\u001b[0m\n\u001b[0;32m      4\u001b[0m \u001b[1;32mdel\u001b[0m \u001b[0mcourses\u001b[0m\u001b[1;33m\u001b[0m\u001b[1;33m\u001b[0m\u001b[0m\n\u001b[1;32m----> 5\u001b[1;33m \u001b[0mprint\u001b[0m\u001b[1;33m(\u001b[0m\u001b[0mcourses\u001b[0m\u001b[1;33m)\u001b[0m\u001b[1;33m\u001b[0m\u001b[1;33m\u001b[0m\u001b[0m\n\u001b[0m",
      "\u001b[1;31mNameError\u001b[0m: name 'courses' is not defined"
     ]
    }
   ],
   "source": [
    "courses = {'data structures', 'Comp', 'Electronics'}\n",
    "courses.add(\"oops\")\n",
    "courses.update([\"c1\", \"c2\"])\n",
    "del courses\n",
    "print(courses)"
   ]
  },
  {
   "cell_type": "code",
   "execution_count": 27,
   "metadata": {},
   "outputs": [
    {
     "name": "stdout",
     "output_type": "stream",
     "text": [
      "{'b', 1, 2, 3, 'a', 'c'}\n",
      "{'c'}\n",
      "{'b', 'a'}\n",
      "{'b', 1, 2, 3, 'a'}\n"
     ]
    }
   ],
   "source": [
    "A = {\"a\", \"b\", \"c\"}\n",
    "B = {1,2,3, \"c\"}\n",
    "set_3 = A.union(B)\n",
    "#UNION\n",
    "print(A|B)\n",
    "#INTERSECTION\n",
    "print(A&B)\n",
    "#DIFFERENCE\n",
    "print(A-B)\n",
    "#SYMMETRIC DIFFERNCE\n",
    "print(A^B)\n"
   ]
  },
  {
   "cell_type": "code",
   "execution_count": 29,
   "metadata": {},
   "outputs": [
    {
     "name": "stdout",
     "output_type": "stream",
     "text": [
      "True\n",
      "False\n"
     ]
    }
   ],
   "source": [
    "A = {\"a\", \"b\", \"c\"}\n",
    "print('a' in A)\n",
    "print('a' not in A)"
   ]
  },
  {
   "cell_type": "code",
   "execution_count": 31,
   "metadata": {},
   "outputs": [
    {
     "name": "stdout",
     "output_type": "stream",
     "text": [
      "frozenset({'bcd', 'abd'})\n"
     ]
    }
   ],
   "source": [
    "A = frozenset([\"abd\", \"bcd\"])\n",
    "print(A)"
   ]
  },
  {
   "cell_type": "code",
   "execution_count": 40,
   "metadata": {},
   "outputs": [
    {
     "ename": "TypeError",
     "evalue": "'set' object is not callable",
     "output_type": "error",
     "traceback": [
      "\u001b[1;31m---------------------------------------------------------------------------\u001b[0m",
      "\u001b[1;31mTypeError\u001b[0m                                 Traceback (most recent call last)",
      "\u001b[1;32m<ipython-input-40-4580ecb16b85>\u001b[0m in \u001b[0;36m<module>\u001b[1;34m\u001b[0m\n\u001b[0;32m      1\u001b[0m \u001b[0mrooms\u001b[0m \u001b[1;33m=\u001b[0m \u001b[1;33m{\u001b[0m\u001b[1;36m1\u001b[0m\u001b[1;33m,\u001b[0m\u001b[1;36m2\u001b[0m\u001b[1;33m,\u001b[0m\u001b[1;36m3\u001b[0m\u001b[1;33m,\u001b[0m \u001b[1;36m6\u001b[0m\u001b[1;33m,\u001b[0m \u001b[1;36m5\u001b[0m\u001b[1;33m,\u001b[0m \u001b[1;36m4\u001b[0m\u001b[1;33m,\u001b[0m \u001b[1;36m4\u001b[0m\u001b[1;33m,\u001b[0m \u001b[1;36m2\u001b[0m\u001b[1;33m,\u001b[0m \u001b[1;36m5\u001b[0m\u001b[1;33m,\u001b[0m \u001b[1;36m3\u001b[0m\u001b[1;33m,\u001b[0m \u001b[1;36m6\u001b[0m\u001b[1;33m,\u001b[0m \u001b[1;36m1\u001b[0m\u001b[1;33m,\u001b[0m \u001b[1;36m6\u001b[0m\u001b[1;33m,\u001b[0m \u001b[1;36m5\u001b[0m\u001b[1;33m,\u001b[0m \u001b[1;36m3\u001b[0m\u001b[1;33m,\u001b[0m \u001b[1;36m2\u001b[0m\u001b[1;33m,\u001b[0m \u001b[1;36m4\u001b[0m\u001b[1;33m,\u001b[0m \u001b[1;36m1\u001b[0m\u001b[1;33m,\u001b[0m \u001b[1;36m2\u001b[0m\u001b[1;33m,\u001b[0m \u001b[1;36m5\u001b[0m\u001b[1;33m,\u001b[0m \u001b[1;36m1\u001b[0m\u001b[1;33m,\u001b[0m \u001b[1;36m4\u001b[0m\u001b[1;33m,\u001b[0m \u001b[1;36m3\u001b[0m\u001b[1;33m,\u001b[0m \u001b[1;36m6\u001b[0m\u001b[1;33m,\u001b[0m \u001b[1;36m8\u001b[0m\u001b[1;33m,\u001b[0m \u001b[1;36m4\u001b[0m\u001b[1;33m,\u001b[0m \u001b[1;36m3\u001b[0m\u001b[1;33m,\u001b[0m \u001b[1;36m1\u001b[0m\u001b[1;33m,\u001b[0m \u001b[1;36m5\u001b[0m\u001b[1;33m,\u001b[0m \u001b[1;36m6\u001b[0m\u001b[1;33m,\u001b[0m \u001b[1;36m2\u001b[0m\u001b[1;33m}\u001b[0m\u001b[1;33m\u001b[0m\u001b[1;33m\u001b[0m\u001b[0m\n\u001b[1;32m----> 2\u001b[1;33m \u001b[0mset1\u001b[0m \u001b[1;33m=\u001b[0m \u001b[0mset\u001b[0m\u001b[1;33m(\u001b[0m\u001b[0ms\u001b[0m\u001b[1;33m)\u001b[0m\u001b[1;33m\u001b[0m\u001b[1;33m\u001b[0m\u001b[0m\n\u001b[0m\u001b[0;32m      3\u001b[0m \u001b[0mset2\u001b[0m\u001b[1;33m=\u001b[0m\u001b[0mrooms\u001b[0m\u001b[1;33m.\u001b[0m\u001b[0mdifference\u001b[0m\u001b[1;33m(\u001b[0m\u001b[0mset1\u001b[0m\u001b[1;33m)\u001b[0m\u001b[1;33m\u001b[0m\u001b[1;33m\u001b[0m\u001b[0m\n\u001b[0;32m      4\u001b[0m \u001b[0mprint\u001b[0m\u001b[1;33m(\u001b[0m\u001b[0mset2\u001b[0m\u001b[1;33m)\u001b[0m\u001b[1;33m\u001b[0m\u001b[1;33m\u001b[0m\u001b[0m\n",
      "\u001b[1;31mTypeError\u001b[0m: 'set' object is not callable"
     ]
    }
   ],
   "source": [
    "rooms = {1,2,3, 6, 5, 4, 4, 2, 5, 3, 6, 1, 6, 5, 3, 2, 4, 1, 2, 5, 1, 4, 3, 6, 8, 4, 3, 1, 5, 6, 2}\n",
    "set1 = set(s)\n",
    "set2=rooms.difference(set1)\n",
    "print(set2)"
   ]
  },
  {
   "cell_type": "code",
   "execution_count": 39,
   "metadata": {},
   "outputs": [
    {
     "ename": "TypeError",
     "evalue": "'set' object is not callable",
     "output_type": "error",
     "traceback": [
      "\u001b[1;31m---------------------------------------------------------------------------\u001b[0m",
      "\u001b[1;31mTypeError\u001b[0m                                 Traceback (most recent call last)",
      "\u001b[1;32m<ipython-input-39-3096716577ce>\u001b[0m in \u001b[0;36m<module>\u001b[1;34m\u001b[0m\n\u001b[0;32m      1\u001b[0m \u001b[0ml1\u001b[0m\u001b[1;33m=\u001b[0m\u001b[1;33m[\u001b[0m\u001b[1;36m1\u001b[0m \u001b[1;33m,\u001b[0m\u001b[1;36m2\u001b[0m\u001b[1;33m,\u001b[0m \u001b[1;36m3\u001b[0m\u001b[1;33m,\u001b[0m \u001b[1;36m6\u001b[0m\u001b[1;33m,\u001b[0m \u001b[1;36m5\u001b[0m\u001b[1;33m,\u001b[0m \u001b[1;36m4\u001b[0m\u001b[1;33m,\u001b[0m \u001b[1;36m4\u001b[0m\u001b[1;33m,\u001b[0m \u001b[1;36m2\u001b[0m\u001b[1;33m,\u001b[0m \u001b[1;36m5\u001b[0m\u001b[1;33m,\u001b[0m \u001b[1;36m3\u001b[0m\u001b[1;33m,\u001b[0m \u001b[1;36m6\u001b[0m\u001b[1;33m,\u001b[0m \u001b[1;36m1\u001b[0m\u001b[1;33m,\u001b[0m \u001b[1;36m6\u001b[0m\u001b[1;33m,\u001b[0m \u001b[1;36m5\u001b[0m\u001b[1;33m,\u001b[0m \u001b[1;36m3\u001b[0m\u001b[1;33m,\u001b[0m \u001b[1;36m2\u001b[0m\u001b[1;33m,\u001b[0m \u001b[1;36m4\u001b[0m\u001b[1;33m,\u001b[0m \u001b[1;36m1\u001b[0m\u001b[1;33m,\u001b[0m \u001b[1;36m2\u001b[0m\u001b[1;33m,\u001b[0m \u001b[1;36m5\u001b[0m\u001b[1;33m,\u001b[0m \u001b[1;36m1\u001b[0m\u001b[1;33m,\u001b[0m \u001b[1;36m4\u001b[0m\u001b[1;33m,\u001b[0m \u001b[1;36m3\u001b[0m\u001b[1;33m,\u001b[0m \u001b[1;36m6\u001b[0m\u001b[1;33m,\u001b[0m \u001b[1;36m8\u001b[0m\u001b[1;33m,\u001b[0m \u001b[1;36m4\u001b[0m\u001b[1;33m,\u001b[0m \u001b[1;36m3\u001b[0m\u001b[1;33m,\u001b[0m \u001b[1;36m1\u001b[0m\u001b[1;33m,\u001b[0m\u001b[1;36m5\u001b[0m \u001b[1;33m,\u001b[0m\u001b[1;36m6\u001b[0m\u001b[1;33m,\u001b[0m \u001b[1;36m2\u001b[0m \u001b[1;33m]\u001b[0m\u001b[1;33m\u001b[0m\u001b[1;33m\u001b[0m\u001b[0m\n\u001b[1;32m----> 2\u001b[1;33m \u001b[0mset1\u001b[0m\u001b[1;33m,\u001b[0m \u001b[0mset2\u001b[0m \u001b[1;33m=\u001b[0m \u001b[0mset\u001b[0m\u001b[1;33m(\u001b[0m\u001b[1;33m)\u001b[0m\u001b[1;33m,\u001b[0m \u001b[0mset\u001b[0m\u001b[1;33m(\u001b[0m\u001b[1;33m)\u001b[0m\u001b[1;33m\u001b[0m\u001b[1;33m\u001b[0m\u001b[0m\n\u001b[0m\u001b[0;32m      3\u001b[0m \u001b[1;32mfor\u001b[0m \u001b[0mroom\u001b[0m \u001b[1;32min\u001b[0m \u001b[0ml1\u001b[0m\u001b[1;33m:\u001b[0m\u001b[1;33m\u001b[0m\u001b[1;33m\u001b[0m\u001b[0m\n\u001b[0;32m      4\u001b[0m     \u001b[1;32mif\u001b[0m \u001b[0mroom\u001b[0m \u001b[1;32mnot\u001b[0m \u001b[1;32min\u001b[0m \u001b[0mset1\u001b[0m\u001b[1;33m:\u001b[0m\u001b[1;33m\u001b[0m\u001b[1;33m\u001b[0m\u001b[0m\n\u001b[0;32m      5\u001b[0m         \u001b[0mset1\u001b[0m\u001b[1;33m.\u001b[0m\u001b[0madd\u001b[0m\u001b[1;33m(\u001b[0m\u001b[0mroom\u001b[0m\u001b[1;33m)\u001b[0m\u001b[1;33m\u001b[0m\u001b[1;33m\u001b[0m\u001b[0m\n",
      "\u001b[1;31mTypeError\u001b[0m: 'set' object is not callable"
     ]
    }
   ],
   "source": [
    "l1=[1 ,2, 3, 6, 5, 4, 4, 2, 5, 3, 6, 1, 6, 5, 3, 2, 4, 1, 2, 5, 1, 4, 3, 6, 8, 4, 3, 1,5 ,6, 2 ]\n",
    "set1, set2 = set(), set()\n",
    "for room in l1:\n",
    "    if room not in set1:\n",
    "        set1.add(room)\n",
    "    else:\n",
    "        set2.add(room)\n",
    "set1.difference(set2)\n",
    "print(set1.pop())"
   ]
  },
  {
   "cell_type": "code",
   "execution_count": 4,
   "metadata": {},
   "outputs": [
    {
     "name": "stdout",
     "output_type": "stream",
     "text": [
      "1 Nikita\n"
     ]
    }
   ],
   "source": [
    "#~~~~~~~~~~~~~EXAMPLE OF A CLASS~~~~~~~~~~~~~~~~\n",
    "class Student:\n",
    "    id = 1\n",
    "    name = \"Nikita\"\n",
    "    def display(self):\n",
    "        print(self.id,self.name)\n",
    "        \n",
    "s1_obj = Student()\n",
    "s1_obj.display()"
   ]
  },
  {
   "cell_type": "code",
   "execution_count": 4,
   "metadata": {},
   "outputs": [
    {
     "name": "stdin",
     "output_type": "stream",
     "text": [
      "Enter number 1:  20\n",
      "Enter number 2:  30\n"
     ]
    },
    {
     "name": "stdout",
     "output_type": "stream",
     "text": [
      "Addition is:  50.0\n",
      "Sum of 20.0 and 30.0 is 50.0\n"
     ]
    }
   ],
   "source": [
    "#~~~~~~~PYTHON LIVE CLASS QUESTIONS~~~~~~~~~~~~\n",
    "#~~~~~~`QUESTION 1~~~~~~~~~~\n",
    "#ADD TWO NUMBERS\n",
    "inp1 = float(input(\"Enter number 1: \"))\n",
    "inp2 = float(input(\"Enter number 2: \"))\n",
    "sum1 = inp1+inp2\n",
    "print(\"Addition is: \", (sum1))\n",
    "#OR\n",
    "print(\"Sum of {0} and {1} is {2}\".format(inp1, inp2,sum1 ))"
   ]
  },
  {
   "cell_type": "markdown",
   "metadata": {},
   "source": [
    "### ~~~~~~~PYTHON LIVE CLASS QUESTIONS~~~~~~~~~~~~\n",
    "#~~~~~~`QUESTION 2~~~~~~~~~~\n",
    "#FIND FACTORIAL OF A NUMBER \n",
    "fact = 1\n",
    "inp1 = int(input(\"Enter a number : \"))\n",
    "if inp1 < 0:\n",
    "    print(\"Fcatoriak is: \", 0)\n",
    "else:\n",
    "    for i in range(1,inp1+1):\n",
    "        fact = fact*i\n",
    "print(\"Factorial is: \", fact)"
   ]
  },
  {
   "cell_type": "code",
   "execution_count": 8,
   "metadata": {},
   "outputs": [
    {
     "name": "stdin",
     "output_type": "stream",
     "text": [
      "Enter a number :  3\n"
     ]
    },
    {
     "name": "stdout",
     "output_type": "stream",
     "text": [
      "Factorial is:  6\n"
     ]
    }
   ],
   "source": [
    "#~~~~~~~PYTHON LIVE CLASS QUESTIONS~~~~~~~~~~~~\n",
    "#~~~~~~`QUESTION 2~~~~~~~~~~\n",
    "#FIND FACTORIAL OF A NUMBER \n",
    "#1st Solution\n",
    "inp1 = int(input(\"Enter a number : \")) \n",
    "if inp1 < 0: \n",
    "    fact = 0 \n",
    "\n",
    "elif inp1==0 or inp1==1:\n",
    "    fact = 1\n",
    "else:\n",
    "    fact = 1\n",
    "    for i in range(1,inp1+1): \n",
    "        fact = fact*i\n",
    "#OR\n",
    "#fact=1\n",
    "#while(inp1>1):\n",
    "#fact=fact*inp1\n",
    "#n=n-1\n",
    "print(\"Factorial is: \", fact)"
   ]
  },
  {
   "cell_type": "code",
   "execution_count": 10,
   "metadata": {},
   "outputs": [
    {
     "name": "stdin",
     "output_type": "stream",
     "text": [
      "Enter a number :  3\n"
     ]
    },
    {
     "name": "stdout",
     "output_type": "stream",
     "text": [
      "Factorial is:  6\n"
     ]
    }
   ],
   "source": [
    "#~~~~~~~PYTHON LIVE CLASS QUESTIONS~~~~~~~~~~~~\n",
    "#~~~~~~`QUESTION 2~~~~~~~~~~\n",
    "#FIND FACTORIAL OF A NUMBER \n",
    "#2nd Solution\n",
    "inp1 = int(input(\"Enter a number : \")) \n",
    "if inp1 < 0: \n",
    "    fact = 0 \n",
    "\n",
    "elif inp1==0 or inp1==1:\n",
    "    fact = 1\n",
    "else:\n",
    "    fact=1\n",
    "    while(inp1>1):\n",
    "        fact=fact*inp1\n",
    "        inp1=inp1-1\n",
    "        \n",
    "print(\"Factorial is: \", fact)"
   ]
  },
  {
   "cell_type": "code",
   "execution_count": 12,
   "metadata": {},
   "outputs": [
    {
     "name": "stdout",
     "output_type": "stream",
     "text": [
      "Factorial is :  24\n"
     ]
    }
   ],
   "source": [
    "#~~~~~~~PYTHON LIVE CLASS QUESTIONS~~~~~~~~~~~~\n",
    "#~~~~~~`QUESTION 2~~~~~~~~~~\n",
    "#FIND FACTORIAL OF A NUMBER \n",
    "#3rd Solution\n",
    "\n",
    "def factorial(n):\n",
    "    if n == 1 or n==0:\n",
    "        return 1\n",
    "    elif n<0:\n",
    "        return 0 \n",
    "    else:\n",
    "        return n*factorial(n-1)\n",
    "    \n",
    "num = 4\n",
    "print(\"Factorial is : \", factorial(num))"
   ]
  },
  {
   "cell_type": "code",
   "execution_count": 13,
   "metadata": {},
   "outputs": [
    {
     "name": "stdout",
     "output_type": "stream",
     "text": [
      "Simple interetest is:  16.0\n"
     ]
    }
   ],
   "source": [
    "#~~~~~~~PYTHON LIVE CLASS QUESTIONS~~~~~~~~~~~~\n",
    "#~~~~~~`QUESTION 3~~~~~~~~~~\n",
    "#FIND SIMPLE IMTEREST\n",
    "#1st Solution \n",
    "def SI(P, T, R ):\n",
    "    return float(((P*T*R)/100))\n",
    "\n",
    "print(\"Simple interetest is: \", SI(100, 2, 8))"
   ]
  },
  {
   "cell_type": "code",
   "execution_count": 32,
   "metadata": {},
   "outputs": [
    {
     "name": "stdout",
     "output_type": "stream",
     "text": [
      "Compound interetest is:  14693.280768000006\n"
     ]
    }
   ],
   "source": [
    "#~~~~~~~PYTHON LIVE CLASS QUESTIONS~~~~~~~~~~~~\n",
    "#~~~~~~`QUESTION 4~~~~~~~~~~\n",
    "#FIND COMPOUND INTEREST\n",
    "#1st Solution \n",
    "def CI(P, t, R):\n",
    "    CI = P*(pow((1+R/100), t))\n",
    "    #or CI = P*((1+R/100)**t)\n",
    "    print(\"Compound interetest is: \", CI)\n",
    "CI(10000, 5, 8)"
   ]
  },
  {
   "cell_type": "code",
   "execution_count": 3,
   "metadata": {},
   "outputs": [
    {
     "name": "stdout",
     "output_type": "stream",
     "text": [
      "326\n"
     ]
    }
   ],
   "source": []
  },
  {
   "cell_type": "code",
   "execution_count": 7,
   "metadata": {},
   "outputs": [
    {
     "name": "stdout",
     "output_type": "stream",
     "text": [
      "3\n"
     ]
    }
   ],
   "source": [
    "def order(x):\n",
    "    ord = len(str(x))\n",
    "    return ord\n",
    "\n",
    "print(order(123))\n"
   ]
  },
  {
   "cell_type": "code",
   "execution_count": 9,
   "metadata": {},
   "outputs": [
    {
     "name": "stdout",
     "output_type": "stream",
     "text": [
      "N before: 0\n",
      "X Beginning while: 123\n",
      "N after while: 1\n",
      "x ending while: 12.3\n",
      "X Beginning while: 12.3\n",
      "N after while: 2\n",
      "x ending while: 1.23\n",
      "X Beginning while: 1.23\n",
      "N after while: 3\n",
      "x ending while: 0.123\n",
      "X Beginning while: 0.123\n",
      "N after while: 4\n",
      "x ending while: 0.0123\n",
      "X Beginning while: 0.0123\n",
      "N after while: 5\n",
      "x ending while: 0.00123\n",
      "X Beginning while: 0.00123\n",
      "N after while: 6\n",
      "x ending while: 0.000123\n",
      "X Beginning while: 0.000123\n",
      "N after while: 7\n",
      "x ending while: 1.23e-05\n",
      "X Beginning while: 1.23e-05\n",
      "N after while: 8\n",
      "x ending while: 1.23e-06\n",
      "X Beginning while: 1.23e-06\n",
      "N after while: 9\n",
      "x ending while: 1.23e-07\n",
      "X Beginning while: 1.23e-07\n",
      "N after while: 10\n",
      "x ending while: 1.2300000000000001e-08\n",
      "X Beginning while: 1.2300000000000001e-08\n",
      "N after while: 11\n",
      "x ending while: 1.23e-09\n",
      "X Beginning while: 1.23e-09\n",
      "N after while: 12\n",
      "x ending while: 1.2300000000000001e-10\n",
      "X Beginning while: 1.2300000000000001e-10\n",
      "N after while: 13\n",
      "x ending while: 1.2300000000000002e-11\n",
      "X Beginning while: 1.2300000000000002e-11\n",
      "N after while: 14\n",
      "x ending while: 1.2300000000000002e-12\n",
      "X Beginning while: 1.2300000000000002e-12\n",
      "N after while: 15\n",
      "x ending while: 1.2300000000000003e-13\n",
      "X Beginning while: 1.2300000000000003e-13\n",
      "N after while: 16\n",
      "x ending while: 1.2300000000000003e-14\n",
      "X Beginning while: 1.2300000000000003e-14\n",
      "N after while: 17\n",
      "x ending while: 1.2300000000000003e-15\n",
      "X Beginning while: 1.2300000000000003e-15\n",
      "N after while: 18\n",
      "x ending while: 1.2300000000000003e-16\n",
      "X Beginning while: 1.2300000000000003e-16\n",
      "N after while: 19\n",
      "x ending while: 1.2300000000000002e-17\n",
      "X Beginning while: 1.2300000000000002e-17\n",
      "N after while: 20\n",
      "x ending while: 1.2300000000000002e-18\n",
      "X Beginning while: 1.2300000000000002e-18\n",
      "N after while: 21\n",
      "x ending while: 1.2300000000000001e-19\n",
      "X Beginning while: 1.2300000000000001e-19\n",
      "N after while: 22\n",
      "x ending while: 1.2300000000000002e-20\n",
      "X Beginning while: 1.2300000000000002e-20\n",
      "N after while: 23\n",
      "x ending while: 1.2300000000000002e-21\n",
      "X Beginning while: 1.2300000000000002e-21\n",
      "N after while: 24\n",
      "x ending while: 1.2300000000000003e-22\n",
      "X Beginning while: 1.2300000000000003e-22\n",
      "N after while: 25\n",
      "x ending while: 1.2300000000000003e-23\n",
      "X Beginning while: 1.2300000000000003e-23\n",
      "N after while: 26\n",
      "x ending while: 1.2300000000000002e-24\n",
      "X Beginning while: 1.2300000000000002e-24\n",
      "N after while: 27\n",
      "x ending while: 1.2300000000000002e-25\n",
      "X Beginning while: 1.2300000000000002e-25\n",
      "N after while: 28\n",
      "x ending while: 1.2300000000000002e-26\n",
      "X Beginning while: 1.2300000000000002e-26\n",
      "N after while: 29\n",
      "x ending while: 1.2300000000000002e-27\n",
      "X Beginning while: 1.2300000000000002e-27\n",
      "N after while: 30\n",
      "x ending while: 1.2300000000000002e-28\n",
      "X Beginning while: 1.2300000000000002e-28\n",
      "N after while: 31\n",
      "x ending while: 1.2300000000000001e-29\n",
      "X Beginning while: 1.2300000000000001e-29\n",
      "N after while: 32\n",
      "x ending while: 1.23e-30\n",
      "X Beginning while: 1.23e-30\n",
      "N after while: 33\n",
      "x ending while: 1.23e-31\n",
      "X Beginning while: 1.23e-31\n",
      "N after while: 34\n",
      "x ending while: 1.23e-32\n",
      "X Beginning while: 1.23e-32\n",
      "N after while: 35\n",
      "x ending while: 1.23e-33\n",
      "X Beginning while: 1.23e-33\n",
      "N after while: 36\n",
      "x ending while: 1.23e-34\n",
      "X Beginning while: 1.23e-34\n",
      "N after while: 37\n",
      "x ending while: 1.23e-35\n",
      "X Beginning while: 1.23e-35\n",
      "N after while: 38\n",
      "x ending while: 1.23e-36\n",
      "X Beginning while: 1.23e-36\n",
      "N after while: 39\n",
      "x ending while: 1.23e-37\n",
      "X Beginning while: 1.23e-37\n",
      "N after while: 40\n",
      "x ending while: 1.23e-38\n",
      "X Beginning while: 1.23e-38\n",
      "N after while: 41\n",
      "x ending while: 1.23e-39\n",
      "X Beginning while: 1.23e-39\n",
      "N after while: 42\n",
      "x ending while: 1.2299999999999999e-40\n",
      "X Beginning while: 1.2299999999999999e-40\n",
      "N after while: 43\n",
      "x ending while: 1.2299999999999998e-41\n",
      "X Beginning while: 1.2299999999999998e-41\n",
      "N after while: 44\n",
      "x ending while: 1.2299999999999998e-42\n",
      "X Beginning while: 1.2299999999999998e-42\n",
      "N after while: 45\n",
      "x ending while: 1.2299999999999998e-43\n",
      "X Beginning while: 1.2299999999999998e-43\n",
      "N after while: 46\n",
      "x ending while: 1.2299999999999997e-44\n",
      "X Beginning while: 1.2299999999999997e-44\n",
      "N after while: 47\n",
      "x ending while: 1.2299999999999997e-45\n",
      "X Beginning while: 1.2299999999999997e-45\n",
      "N after while: 48\n",
      "x ending while: 1.2299999999999997e-46\n",
      "X Beginning while: 1.2299999999999997e-46\n",
      "N after while: 49\n",
      "x ending while: 1.2299999999999996e-47\n",
      "X Beginning while: 1.2299999999999996e-47\n",
      "N after while: 50\n",
      "x ending while: 1.2299999999999996e-48\n",
      "X Beginning while: 1.2299999999999996e-48\n",
      "N after while: 51\n",
      "x ending while: 1.2299999999999996e-49\n",
      "X Beginning while: 1.2299999999999996e-49\n",
      "N after while: 52\n",
      "x ending while: 1.2299999999999996e-50\n",
      "X Beginning while: 1.2299999999999996e-50\n",
      "N after while: 53\n",
      "x ending while: 1.2299999999999996e-51\n",
      "X Beginning while: 1.2299999999999996e-51\n",
      "N after while: 54\n",
      "x ending while: 1.2299999999999996e-52\n",
      "X Beginning while: 1.2299999999999996e-52\n",
      "N after while: 55\n",
      "x ending while: 1.2299999999999996e-53\n",
      "X Beginning while: 1.2299999999999996e-53\n",
      "N after while: 56\n",
      "x ending while: 1.2299999999999995e-54\n",
      "X Beginning while: 1.2299999999999995e-54\n",
      "N after while: 57\n",
      "x ending while: 1.2299999999999995e-55\n",
      "X Beginning while: 1.2299999999999995e-55\n",
      "N after while: 58\n",
      "x ending while: 1.2299999999999996e-56\n",
      "X Beginning while: 1.2299999999999996e-56\n",
      "N after while: 59\n",
      "x ending while: 1.2299999999999996e-57\n",
      "X Beginning while: 1.2299999999999996e-57\n",
      "N after while: 60\n",
      "x ending while: 1.2299999999999995e-58\n",
      "X Beginning while: 1.2299999999999995e-58\n",
      "N after while: 61\n",
      "x ending while: 1.2299999999999994e-59\n",
      "X Beginning while: 1.2299999999999994e-59\n",
      "N after while: 62\n",
      "x ending while: 1.2299999999999994e-60\n",
      "X Beginning while: 1.2299999999999994e-60\n",
      "N after while: 63\n",
      "x ending while: 1.2299999999999993e-61\n",
      "X Beginning while: 1.2299999999999993e-61\n",
      "N after while: 64\n",
      "x ending while: 1.2299999999999994e-62\n",
      "X Beginning while: 1.2299999999999994e-62\n",
      "N after while: 65\n",
      "x ending while: 1.2299999999999993e-63\n",
      "X Beginning while: 1.2299999999999993e-63\n",
      "N after while: 66\n",
      "x ending while: 1.2299999999999994e-64\n",
      "X Beginning while: 1.2299999999999994e-64\n",
      "N after while: 67\n",
      "x ending while: 1.2299999999999994e-65\n",
      "X Beginning while: 1.2299999999999994e-65\n",
      "N after while: 68\n",
      "x ending while: 1.2299999999999995e-66\n",
      "X Beginning while: 1.2299999999999995e-66\n",
      "N after while: 69\n",
      "x ending while: 1.2299999999999995e-67\n",
      "X Beginning while: 1.2299999999999995e-67\n",
      "N after while: 70\n",
      "x ending while: 1.2299999999999994e-68\n",
      "X Beginning while: 1.2299999999999994e-68\n",
      "N after while: 71\n",
      "x ending while: 1.2299999999999994e-69\n",
      "X Beginning while: 1.2299999999999994e-69\n",
      "N after while: 72\n",
      "x ending while: 1.2299999999999994e-70\n",
      "X Beginning while: 1.2299999999999994e-70\n",
      "N after while: 73\n",
      "x ending while: 1.2299999999999995e-71\n",
      "X Beginning while: 1.2299999999999995e-71\n",
      "N after while: 74\n",
      "x ending while: 1.2299999999999994e-72\n",
      "X Beginning while: 1.2299999999999994e-72\n",
      "N after while: 75\n",
      "x ending while: 1.2299999999999994e-73\n",
      "X Beginning while: 1.2299999999999994e-73\n",
      "N after while: 76\n",
      "x ending while: 1.2299999999999995e-74\n",
      "X Beginning while: 1.2299999999999995e-74\n",
      "N after while: 77\n",
      "x ending while: 1.2299999999999996e-75\n",
      "X Beginning while: 1.2299999999999996e-75\n",
      "N after while: 78\n",
      "x ending while: 1.2299999999999995e-76\n",
      "X Beginning while: 1.2299999999999995e-76\n",
      "N after while: 79\n",
      "x ending while: 1.2299999999999995e-77\n",
      "X Beginning while: 1.2299999999999995e-77\n",
      "N after while: 80\n",
      "x ending while: 1.2299999999999996e-78\n",
      "X Beginning while: 1.2299999999999996e-78\n",
      "N after while: 81\n",
      "x ending while: 1.2299999999999995e-79\n",
      "X Beginning while: 1.2299999999999995e-79\n",
      "N after while: 82\n",
      "x ending while: 1.2299999999999995e-80\n",
      "X Beginning while: 1.2299999999999995e-80\n",
      "N after while: 83\n",
      "x ending while: 1.2299999999999996e-81\n",
      "X Beginning while: 1.2299999999999996e-81\n",
      "N after while: 84\n",
      "x ending while: 1.2299999999999995e-82\n",
      "X Beginning while: 1.2299999999999995e-82\n",
      "N after while: 85\n",
      "x ending while: 1.2299999999999995e-83\n",
      "X Beginning while: 1.2299999999999995e-83\n",
      "N after while: 86\n",
      "x ending while: 1.2299999999999995e-84\n",
      "X Beginning while: 1.2299999999999995e-84\n",
      "N after while: 87\n",
      "x ending while: 1.2299999999999994e-85\n",
      "X Beginning while: 1.2299999999999994e-85\n",
      "N after while: 88\n",
      "x ending while: 1.2299999999999995e-86\n",
      "X Beginning while: 1.2299999999999995e-86\n",
      "N after while: 89\n",
      "x ending while: 1.2299999999999995e-87\n",
      "X Beginning while: 1.2299999999999995e-87\n",
      "N after while: 90\n",
      "x ending while: 1.2299999999999995e-88\n",
      "X Beginning while: 1.2299999999999995e-88\n",
      "N after while: 91\n",
      "x ending while: 1.2299999999999995e-89\n",
      "X Beginning while: 1.2299999999999995e-89\n",
      "N after while: 92\n",
      "x ending while: 1.2299999999999996e-90\n",
      "X Beginning while: 1.2299999999999996e-90\n",
      "N after while: 93\n",
      "x ending while: 1.2299999999999995e-91\n",
      "X Beginning while: 1.2299999999999995e-91\n",
      "N after while: 94\n",
      "x ending while: 1.2299999999999995e-92\n",
      "X Beginning while: 1.2299999999999995e-92\n",
      "N after while: 95\n",
      "x ending while: 1.2299999999999994e-93\n",
      "X Beginning while: 1.2299999999999994e-93\n",
      "N after while: 96\n",
      "x ending while: 1.2299999999999995e-94\n",
      "X Beginning while: 1.2299999999999995e-94\n",
      "N after while: 97\n",
      "x ending while: 1.2299999999999995e-95\n",
      "X Beginning while: 1.2299999999999995e-95\n",
      "N after while: 98\n",
      "x ending while: 1.2299999999999994e-96\n",
      "X Beginning while: 1.2299999999999994e-96\n",
      "N after while: 99\n",
      "x ending while: 1.2299999999999994e-97\n",
      "X Beginning while: 1.2299999999999994e-97\n",
      "N after while: 100\n",
      "x ending while: 1.2299999999999994e-98\n",
      "X Beginning while: 1.2299999999999994e-98\n",
      "N after while: 101\n",
      "x ending while: 1.2299999999999994e-99\n",
      "X Beginning while: 1.2299999999999994e-99\n",
      "N after while: 102\n",
      "x ending while: 1.2299999999999993e-100\n",
      "X Beginning while: 1.2299999999999993e-100\n",
      "N after while: 103\n",
      "x ending while: 1.2299999999999993e-101\n",
      "X Beginning while: 1.2299999999999993e-101\n",
      "N after while: 104\n",
      "x ending while: 1.2299999999999992e-102\n",
      "X Beginning while: 1.2299999999999992e-102\n",
      "N after while: 105\n",
      "x ending while: 1.2299999999999991e-103\n",
      "X Beginning while: 1.2299999999999991e-103\n",
      "N after while: 106\n",
      "x ending while: 1.2299999999999991e-104\n",
      "X Beginning while: 1.2299999999999991e-104\n",
      "N after while: 107\n",
      "x ending while: 1.229999999999999e-105\n",
      "X Beginning while: 1.229999999999999e-105\n",
      "N after while: 108\n",
      "x ending while: 1.229999999999999e-106\n",
      "X Beginning while: 1.229999999999999e-106\n",
      "N after while: 109\n",
      "x ending while: 1.229999999999999e-107\n",
      "X Beginning while: 1.229999999999999e-107\n",
      "N after while: 110\n",
      "x ending while: 1.229999999999999e-108\n",
      "X Beginning while: 1.229999999999999e-108\n",
      "N after while: 111\n",
      "x ending while: 1.229999999999999e-109\n",
      "X Beginning while: 1.229999999999999e-109\n",
      "N after while: 112\n",
      "x ending while: 1.2299999999999991e-110\n",
      "X Beginning while: 1.2299999999999991e-110\n",
      "N after while: 113\n",
      "x ending while: 1.229999999999999e-111\n",
      "X Beginning while: 1.229999999999999e-111\n",
      "N after while: 114\n",
      "x ending while: 1.229999999999999e-112\n",
      "X Beginning while: 1.229999999999999e-112\n",
      "N after while: 115\n",
      "x ending while: 1.229999999999999e-113\n",
      "X Beginning while: 1.229999999999999e-113\n",
      "N after while: 116\n",
      "x ending while: 1.229999999999999e-114\n",
      "X Beginning while: 1.229999999999999e-114\n",
      "N after while: 117\n",
      "x ending while: 1.229999999999999e-115\n",
      "X Beginning while: 1.229999999999999e-115\n",
      "N after while: 118\n",
      "x ending while: 1.2299999999999989e-116\n",
      "X Beginning while: 1.2299999999999989e-116\n",
      "N after while: 119\n",
      "x ending while: 1.2299999999999989e-117\n",
      "X Beginning while: 1.2299999999999989e-117\n",
      "N after while: 120\n",
      "x ending while: 1.229999999999999e-118\n",
      "X Beginning while: 1.229999999999999e-118\n",
      "N after while: 121\n",
      "x ending while: 1.229999999999999e-119\n",
      "X Beginning while: 1.229999999999999e-119\n",
      "N after while: 122\n",
      "x ending while: 1.229999999999999e-120\n",
      "X Beginning while: 1.229999999999999e-120\n",
      "N after while: 123\n",
      "x ending while: 1.229999999999999e-121\n",
      "X Beginning while: 1.229999999999999e-121\n",
      "N after while: 124\n",
      "x ending while: 1.229999999999999e-122\n",
      "X Beginning while: 1.229999999999999e-122\n",
      "N after while: 125\n",
      "x ending while: 1.229999999999999e-123\n",
      "X Beginning while: 1.229999999999999e-123\n",
      "N after while: 126\n",
      "x ending while: 1.229999999999999e-124\n",
      "X Beginning while: 1.229999999999999e-124\n",
      "N after while: 127\n",
      "x ending while: 1.229999999999999e-125\n",
      "X Beginning while: 1.229999999999999e-125\n",
      "N after while: 128\n",
      "x ending while: 1.229999999999999e-126\n",
      "X Beginning while: 1.229999999999999e-126\n",
      "N after while: 129\n",
      "x ending while: 1.2299999999999989e-127\n",
      "X Beginning while: 1.2299999999999989e-127\n",
      "N after while: 130\n",
      "x ending while: 1.229999999999999e-128\n",
      "X Beginning while: 1.229999999999999e-128\n",
      "N after while: 131\n",
      "x ending while: 1.2299999999999989e-129\n",
      "X Beginning while: 1.2299999999999989e-129\n",
      "N after while: 132\n",
      "x ending while: 1.2299999999999989e-130\n",
      "X Beginning while: 1.2299999999999989e-130\n",
      "N after while: 133\n",
      "x ending while: 1.229999999999999e-131\n",
      "X Beginning while: 1.229999999999999e-131\n",
      "N after while: 134\n",
      "x ending while: 1.2299999999999989e-132\n",
      "X Beginning while: 1.2299999999999989e-132\n",
      "N after while: 135\n",
      "x ending while: 1.2299999999999989e-133\n",
      "X Beginning while: 1.2299999999999989e-133\n",
      "N after while: 136\n",
      "x ending while: 1.229999999999999e-134\n",
      "X Beginning while: 1.229999999999999e-134\n",
      "N after while: 137\n",
      "x ending while: 1.229999999999999e-135\n",
      "X Beginning while: 1.229999999999999e-135\n",
      "N after while: 138\n",
      "x ending while: 1.229999999999999e-136\n",
      "X Beginning while: 1.229999999999999e-136\n",
      "N after while: 139\n",
      "x ending while: 1.229999999999999e-137\n",
      "X Beginning while: 1.229999999999999e-137\n",
      "N after while: 140\n",
      "x ending while: 1.229999999999999e-138\n",
      "X Beginning while: 1.229999999999999e-138\n",
      "N after while: 141\n",
      "x ending while: 1.2299999999999991e-139\n",
      "X Beginning while: 1.2299999999999991e-139\n",
      "N after while: 142\n",
      "x ending while: 1.229999999999999e-140\n",
      "X Beginning while: 1.229999999999999e-140\n",
      "N after while: 143\n",
      "x ending while: 1.229999999999999e-141\n",
      "X Beginning while: 1.229999999999999e-141\n",
      "N after while: 144\n",
      "x ending while: 1.229999999999999e-142\n",
      "X Beginning while: 1.229999999999999e-142\n",
      "N after while: 145\n",
      "x ending while: 1.2299999999999989e-143\n",
      "X Beginning while: 1.2299999999999989e-143\n",
      "N after while: 146\n",
      "x ending while: 1.2299999999999989e-144\n",
      "X Beginning while: 1.2299999999999989e-144\n",
      "N after while: 147\n",
      "x ending while: 1.2299999999999989e-145\n",
      "X Beginning while: 1.2299999999999989e-145\n",
      "N after while: 148\n",
      "x ending while: 1.2299999999999988e-146\n",
      "X Beginning while: 1.2299999999999988e-146\n",
      "N after while: 149\n",
      "x ending while: 1.2299999999999988e-147\n",
      "X Beginning while: 1.2299999999999988e-147\n",
      "N after while: 150\n",
      "x ending while: 1.2299999999999989e-148\n",
      "X Beginning while: 1.2299999999999989e-148\n",
      "N after while: 151\n",
      "x ending while: 1.229999999999999e-149\n",
      "X Beginning while: 1.229999999999999e-149\n",
      "N after while: 152\n",
      "x ending while: 1.229999999999999e-150\n",
      "X Beginning while: 1.229999999999999e-150\n",
      "N after while: 153\n",
      "x ending while: 1.229999999999999e-151\n",
      "X Beginning while: 1.229999999999999e-151\n",
      "N after while: 154\n",
      "x ending while: 1.229999999999999e-152\n",
      "X Beginning while: 1.229999999999999e-152\n",
      "N after while: 155\n",
      "x ending while: 1.229999999999999e-153\n",
      "X Beginning while: 1.229999999999999e-153\n",
      "N after while: 156\n",
      "x ending while: 1.229999999999999e-154\n",
      "X Beginning while: 1.229999999999999e-154\n",
      "N after while: 157\n",
      "x ending while: 1.229999999999999e-155\n",
      "X Beginning while: 1.229999999999999e-155\n",
      "N after while: 158\n",
      "x ending while: 1.229999999999999e-156\n",
      "X Beginning while: 1.229999999999999e-156\n",
      "N after while: 159\n",
      "x ending while: 1.229999999999999e-157\n",
      "X Beginning while: 1.229999999999999e-157\n",
      "N after while: 160\n",
      "x ending while: 1.2299999999999989e-158\n",
      "X Beginning while: 1.2299999999999989e-158\n",
      "N after while: 161\n",
      "x ending while: 1.229999999999999e-159\n",
      "X Beginning while: 1.229999999999999e-159\n",
      "N after while: 162\n",
      "x ending while: 1.229999999999999e-160\n",
      "X Beginning while: 1.229999999999999e-160\n",
      "N after while: 163\n",
      "x ending while: 1.229999999999999e-161\n",
      "X Beginning while: 1.229999999999999e-161\n",
      "N after while: 164\n",
      "x ending while: 1.229999999999999e-162\n",
      "X Beginning while: 1.229999999999999e-162\n",
      "N after while: 165\n",
      "x ending while: 1.229999999999999e-163\n",
      "X Beginning while: 1.229999999999999e-163\n",
      "N after while: 166\n",
      "x ending while: 1.2299999999999991e-164\n",
      "X Beginning while: 1.2299999999999991e-164\n",
      "N after while: 167\n",
      "x ending while: 1.2299999999999992e-165\n",
      "X Beginning while: 1.2299999999999992e-165\n",
      "N after while: 168\n",
      "x ending while: 1.2299999999999992e-166\n",
      "X Beginning while: 1.2299999999999992e-166\n",
      "N after while: 169\n",
      "x ending while: 1.2299999999999992e-167\n",
      "X Beginning while: 1.2299999999999992e-167\n",
      "N after while: 170\n",
      "x ending while: 1.2299999999999992e-168\n",
      "X Beginning while: 1.2299999999999992e-168\n",
      "N after while: 171\n",
      "x ending while: 1.2299999999999992e-169\n",
      "X Beginning while: 1.2299999999999992e-169\n",
      "N after while: 172\n",
      "x ending while: 1.2299999999999993e-170\n",
      "X Beginning while: 1.2299999999999993e-170\n",
      "N after while: 173\n",
      "x ending while: 1.2299999999999993e-171\n",
      "X Beginning while: 1.2299999999999993e-171\n",
      "N after while: 174\n",
      "x ending while: 1.2299999999999993e-172\n",
      "X Beginning while: 1.2299999999999993e-172\n",
      "N after while: 175\n",
      "x ending while: 1.2299999999999993e-173\n",
      "X Beginning while: 1.2299999999999993e-173\n",
      "N after while: 176\n",
      "x ending while: 1.2299999999999993e-174\n",
      "X Beginning while: 1.2299999999999993e-174\n",
      "N after while: 177\n",
      "x ending while: 1.2299999999999992e-175\n",
      "X Beginning while: 1.2299999999999992e-175\n",
      "N after while: 178\n",
      "x ending while: 1.2299999999999993e-176\n",
      "X Beginning while: 1.2299999999999993e-176\n",
      "N after while: 179\n",
      "x ending while: 1.2299999999999993e-177\n",
      "X Beginning while: 1.2299999999999993e-177\n",
      "N after while: 180\n",
      "x ending while: 1.2299999999999993e-178\n",
      "X Beginning while: 1.2299999999999993e-178\n",
      "N after while: 181\n",
      "x ending while: 1.2299999999999993e-179\n",
      "X Beginning while: 1.2299999999999993e-179\n",
      "N after while: 182\n",
      "x ending while: 1.2299999999999993e-180\n",
      "X Beginning while: 1.2299999999999993e-180\n",
      "N after while: 183\n",
      "x ending while: 1.2299999999999992e-181\n",
      "X Beginning while: 1.2299999999999992e-181\n",
      "N after while: 184\n",
      "x ending while: 1.2299999999999993e-182\n",
      "X Beginning while: 1.2299999999999993e-182\n",
      "N after while: 185\n",
      "x ending while: 1.2299999999999993e-183\n",
      "X Beginning while: 1.2299999999999993e-183\n",
      "N after while: 186\n",
      "x ending while: 1.2299999999999992e-184\n",
      "X Beginning while: 1.2299999999999992e-184\n",
      "N after while: 187\n",
      "x ending while: 1.2299999999999992e-185\n",
      "X Beginning while: 1.2299999999999992e-185\n",
      "N after while: 188\n",
      "x ending while: 1.2299999999999991e-186\n",
      "X Beginning while: 1.2299999999999991e-186\n",
      "N after while: 189\n",
      "x ending while: 1.2299999999999992e-187\n",
      "X Beginning while: 1.2299999999999992e-187\n",
      "N after while: 190\n",
      "x ending while: 1.2299999999999992e-188\n",
      "X Beginning while: 1.2299999999999992e-188\n",
      "N after while: 191\n",
      "x ending while: 1.2299999999999992e-189\n",
      "X Beginning while: 1.2299999999999992e-189\n",
      "N after while: 192\n",
      "x ending while: 1.2299999999999993e-190\n",
      "X Beginning while: 1.2299999999999993e-190\n",
      "N after while: 193\n",
      "x ending while: 1.2299999999999994e-191\n",
      "X Beginning while: 1.2299999999999994e-191\n",
      "N after while: 194\n",
      "x ending while: 1.2299999999999994e-192\n",
      "X Beginning while: 1.2299999999999994e-192\n",
      "N after while: 195\n",
      "x ending while: 1.2299999999999995e-193\n",
      "X Beginning while: 1.2299999999999995e-193\n",
      "N after while: 196\n",
      "x ending while: 1.2299999999999995e-194\n",
      "X Beginning while: 1.2299999999999995e-194\n",
      "N after while: 197\n",
      "x ending while: 1.2299999999999995e-195\n",
      "X Beginning while: 1.2299999999999995e-195\n",
      "N after while: 198\n",
      "x ending while: 1.2299999999999996e-196\n",
      "X Beginning while: 1.2299999999999996e-196\n",
      "N after while: 199\n",
      "x ending while: 1.2299999999999997e-197\n",
      "X Beginning while: 1.2299999999999997e-197\n",
      "N after while: 200\n",
      "x ending while: 1.2299999999999997e-198\n",
      "X Beginning while: 1.2299999999999997e-198\n",
      "N after while: 201\n",
      "x ending while: 1.2299999999999998e-199\n",
      "X Beginning while: 1.2299999999999998e-199\n",
      "N after while: 202\n",
      "x ending while: 1.2299999999999998e-200\n",
      "X Beginning while: 1.2299999999999998e-200\n",
      "N after while: 203\n",
      "x ending while: 1.2299999999999998e-201\n",
      "X Beginning while: 1.2299999999999998e-201\n",
      "N after while: 204\n",
      "x ending while: 1.2299999999999997e-202\n",
      "X Beginning while: 1.2299999999999997e-202\n",
      "N after while: 205\n",
      "x ending while: 1.2299999999999996e-203\n",
      "X Beginning while: 1.2299999999999996e-203\n",
      "N after while: 206\n",
      "x ending while: 1.2299999999999996e-204\n",
      "X Beginning while: 1.2299999999999996e-204\n",
      "N after while: 207\n",
      "x ending while: 1.2299999999999995e-205\n",
      "X Beginning while: 1.2299999999999995e-205\n",
      "N after while: 208\n",
      "x ending while: 1.2299999999999995e-206\n",
      "X Beginning while: 1.2299999999999995e-206\n",
      "N after while: 209\n",
      "x ending while: 1.2299999999999996e-207\n",
      "X Beginning while: 1.2299999999999996e-207\n",
      "N after while: 210\n",
      "x ending while: 1.2299999999999997e-208\n",
      "X Beginning while: 1.2299999999999997e-208\n",
      "N after while: 211\n",
      "x ending while: 1.2299999999999998e-209\n",
      "X Beginning while: 1.2299999999999998e-209\n",
      "N after while: 212\n",
      "x ending while: 1.2299999999999997e-210\n",
      "X Beginning while: 1.2299999999999997e-210\n",
      "N after while: 213\n",
      "x ending while: 1.2299999999999998e-211\n",
      "X Beginning while: 1.2299999999999998e-211\n",
      "N after while: 214\n",
      "x ending while: 1.2299999999999997e-212\n",
      "X Beginning while: 1.2299999999999997e-212\n",
      "N after while: 215\n",
      "x ending while: 1.2299999999999998e-213\n",
      "X Beginning while: 1.2299999999999998e-213\n",
      "N after while: 216\n",
      "x ending while: 1.2299999999999998e-214\n",
      "X Beginning while: 1.2299999999999998e-214\n",
      "N after while: 217\n",
      "x ending while: 1.2299999999999997e-215\n",
      "X Beginning while: 1.2299999999999997e-215\n",
      "N after while: 218\n",
      "x ending while: 1.2299999999999997e-216\n",
      "X Beginning while: 1.2299999999999997e-216\n",
      "N after while: 219\n",
      "x ending while: 1.2299999999999997e-217\n",
      "X Beginning while: 1.2299999999999997e-217\n",
      "N after while: 220\n",
      "x ending while: 1.2299999999999997e-218\n",
      "X Beginning while: 1.2299999999999997e-218\n",
      "N after while: 221\n",
      "x ending while: 1.2299999999999997e-219\n",
      "X Beginning while: 1.2299999999999997e-219\n",
      "N after while: 222\n",
      "x ending while: 1.2299999999999997e-220\n",
      "X Beginning while: 1.2299999999999997e-220\n",
      "N after while: 223\n",
      "x ending while: 1.2299999999999996e-221\n",
      "X Beginning while: 1.2299999999999996e-221\n",
      "N after while: 224\n",
      "x ending while: 1.2299999999999997e-222\n",
      "X Beginning while: 1.2299999999999997e-222\n",
      "N after while: 225\n",
      "x ending while: 1.2299999999999996e-223\n",
      "X Beginning while: 1.2299999999999996e-223\n",
      "N after while: 226\n",
      "x ending while: 1.2299999999999995e-224\n",
      "X Beginning while: 1.2299999999999995e-224\n",
      "N after while: 227\n",
      "x ending while: 1.2299999999999996e-225\n",
      "X Beginning while: 1.2299999999999996e-225\n",
      "N after while: 228\n",
      "x ending while: 1.2299999999999995e-226\n",
      "X Beginning while: 1.2299999999999995e-226\n",
      "N after while: 229\n",
      "x ending while: 1.2299999999999995e-227\n",
      "X Beginning while: 1.2299999999999995e-227\n",
      "N after while: 230\n",
      "x ending while: 1.2299999999999994e-228\n",
      "X Beginning while: 1.2299999999999994e-228\n",
      "N after while: 231\n",
      "x ending while: 1.2299999999999994e-229\n",
      "X Beginning while: 1.2299999999999994e-229\n",
      "N after while: 232\n",
      "x ending while: 1.2299999999999994e-230\n",
      "X Beginning while: 1.2299999999999994e-230\n",
      "N after while: 233\n",
      "x ending while: 1.2299999999999994e-231\n",
      "X Beginning while: 1.2299999999999994e-231\n",
      "N after while: 234\n",
      "x ending while: 1.2299999999999994e-232\n",
      "X Beginning while: 1.2299999999999994e-232\n",
      "N after while: 235\n",
      "x ending while: 1.2299999999999994e-233\n",
      "X Beginning while: 1.2299999999999994e-233\n",
      "N after while: 236\n",
      "x ending while: 1.2299999999999994e-234\n",
      "X Beginning while: 1.2299999999999994e-234\n",
      "N after while: 237\n",
      "x ending while: 1.2299999999999994e-235\n",
      "X Beginning while: 1.2299999999999994e-235\n",
      "N after while: 238\n",
      "x ending while: 1.2299999999999995e-236\n",
      "X Beginning while: 1.2299999999999995e-236\n",
      "N after while: 239\n",
      "x ending while: 1.2299999999999995e-237\n",
      "X Beginning while: 1.2299999999999995e-237\n",
      "N after while: 240\n",
      "x ending while: 1.2299999999999996e-238\n",
      "X Beginning while: 1.2299999999999996e-238\n",
      "N after while: 241\n",
      "x ending while: 1.2299999999999995e-239\n",
      "X Beginning while: 1.2299999999999995e-239\n",
      "N after while: 242\n",
      "x ending while: 1.2299999999999996e-240\n",
      "X Beginning while: 1.2299999999999996e-240\n",
      "N after while: 243\n",
      "x ending while: 1.2299999999999995e-241\n",
      "X Beginning while: 1.2299999999999995e-241\n",
      "N after while: 244\n",
      "x ending while: 1.2299999999999996e-242\n",
      "X Beginning while: 1.2299999999999996e-242\n",
      "N after while: 245\n",
      "x ending while: 1.2299999999999995e-243\n",
      "X Beginning while: 1.2299999999999995e-243\n",
      "N after while: 246\n",
      "x ending while: 1.2299999999999995e-244\n",
      "X Beginning while: 1.2299999999999995e-244\n",
      "N after while: 247\n",
      "x ending while: 1.2299999999999995e-245\n",
      "X Beginning while: 1.2299999999999995e-245\n",
      "N after while: 248\n",
      "x ending while: 1.2299999999999994e-246\n",
      "X Beginning while: 1.2299999999999994e-246\n",
      "N after while: 249\n",
      "x ending while: 1.2299999999999994e-247\n",
      "X Beginning while: 1.2299999999999994e-247\n",
      "N after while: 250\n",
      "x ending while: 1.2299999999999995e-248\n",
      "X Beginning while: 1.2299999999999995e-248\n",
      "N after while: 251\n",
      "x ending while: 1.2299999999999994e-249\n",
      "X Beginning while: 1.2299999999999994e-249\n",
      "N after while: 252\n",
      "x ending while: 1.2299999999999993e-250\n",
      "X Beginning while: 1.2299999999999993e-250\n",
      "N after while: 253\n",
      "x ending while: 1.2299999999999994e-251\n",
      "X Beginning while: 1.2299999999999994e-251\n",
      "N after while: 254\n",
      "x ending while: 1.2299999999999995e-252\n",
      "X Beginning while: 1.2299999999999995e-252\n",
      "N after while: 255\n",
      "x ending while: 1.2299999999999995e-253\n",
      "X Beginning while: 1.2299999999999995e-253\n",
      "N after while: 256\n",
      "x ending while: 1.2299999999999995e-254\n",
      "X Beginning while: 1.2299999999999995e-254\n",
      "N after while: 257\n",
      "x ending while: 1.2299999999999995e-255\n",
      "X Beginning while: 1.2299999999999995e-255\n",
      "N after while: 258\n",
      "x ending while: 1.2299999999999995e-256\n",
      "X Beginning while: 1.2299999999999995e-256\n",
      "N after while: 259\n",
      "x ending while: 1.2299999999999995e-257\n",
      "X Beginning while: 1.2299999999999995e-257\n",
      "N after while: 260\n",
      "x ending while: 1.2299999999999994e-258\n",
      "X Beginning while: 1.2299999999999994e-258\n",
      "N after while: 261\n",
      "x ending while: 1.2299999999999993e-259\n",
      "X Beginning while: 1.2299999999999993e-259\n",
      "N after while: 262\n",
      "x ending while: 1.2299999999999994e-260\n",
      "X Beginning while: 1.2299999999999994e-260\n",
      "N after while: 263\n",
      "x ending while: 1.2299999999999995e-261\n",
      "X Beginning while: 1.2299999999999995e-261\n",
      "N after while: 264\n",
      "x ending while: 1.2299999999999995e-262\n",
      "X Beginning while: 1.2299999999999995e-262\n",
      "N after while: 265\n",
      "x ending while: 1.2299999999999995e-263\n",
      "X Beginning while: 1.2299999999999995e-263\n",
      "N after while: 266\n",
      "x ending while: 1.2299999999999995e-264\n",
      "X Beginning while: 1.2299999999999995e-264\n",
      "N after while: 267\n",
      "x ending while: 1.2299999999999994e-265\n",
      "X Beginning while: 1.2299999999999994e-265\n",
      "N after while: 268\n",
      "x ending while: 1.2299999999999994e-266\n",
      "X Beginning while: 1.2299999999999994e-266\n",
      "N after while: 269\n",
      "x ending while: 1.2299999999999994e-267\n",
      "X Beginning while: 1.2299999999999994e-267\n",
      "N after while: 270\n",
      "x ending while: 1.2299999999999995e-268\n",
      "X Beginning while: 1.2299999999999995e-268\n",
      "N after while: 271\n",
      "x ending while: 1.2299999999999996e-269\n",
      "X Beginning while: 1.2299999999999996e-269\n",
      "N after while: 272\n",
      "x ending while: 1.2299999999999996e-270\n",
      "X Beginning while: 1.2299999999999996e-270\n",
      "N after while: 273\n",
      "x ending while: 1.2299999999999997e-271\n",
      "X Beginning while: 1.2299999999999997e-271\n",
      "N after while: 274\n",
      "x ending while: 1.2299999999999996e-272\n",
      "X Beginning while: 1.2299999999999996e-272\n",
      "N after while: 275\n",
      "x ending while: 1.2299999999999997e-273\n",
      "X Beginning while: 1.2299999999999997e-273\n",
      "N after while: 276\n",
      "x ending while: 1.2299999999999996e-274\n",
      "X Beginning while: 1.2299999999999996e-274\n",
      "N after while: 277\n",
      "x ending while: 1.2299999999999996e-275\n",
      "X Beginning while: 1.2299999999999996e-275\n",
      "N after while: 278\n",
      "x ending while: 1.2299999999999997e-276\n",
      "X Beginning while: 1.2299999999999997e-276\n",
      "N after while: 279\n",
      "x ending while: 1.2299999999999998e-277\n",
      "X Beginning while: 1.2299999999999998e-277\n",
      "N after while: 280\n",
      "x ending while: 1.2299999999999998e-278\n",
      "X Beginning while: 1.2299999999999998e-278\n",
      "N after while: 281\n",
      "x ending while: 1.2299999999999999e-279\n",
      "X Beginning while: 1.2299999999999999e-279\n",
      "N after while: 282\n",
      "x ending while: 1.2299999999999999e-280\n",
      "X Beginning while: 1.2299999999999999e-280\n",
      "N after while: 283\n",
      "x ending while: 1.2299999999999999e-281\n",
      "X Beginning while: 1.2299999999999999e-281\n",
      "N after while: 284\n",
      "x ending while: 1.2299999999999998e-282\n",
      "X Beginning while: 1.2299999999999998e-282\n",
      "N after while: 285\n",
      "x ending while: 1.2299999999999998e-283\n",
      "X Beginning while: 1.2299999999999998e-283\n",
      "N after while: 286\n",
      "x ending while: 1.2299999999999998e-284\n",
      "X Beginning while: 1.2299999999999998e-284\n",
      "N after while: 287\n",
      "x ending while: 1.2299999999999998e-285\n",
      "X Beginning while: 1.2299999999999998e-285\n",
      "N after while: 288\n",
      "x ending while: 1.2299999999999997e-286\n",
      "X Beginning while: 1.2299999999999997e-286\n",
      "N after while: 289\n",
      "x ending while: 1.2299999999999997e-287\n",
      "X Beginning while: 1.2299999999999997e-287\n",
      "N after while: 290\n",
      "x ending while: 1.2299999999999996e-288\n",
      "X Beginning while: 1.2299999999999996e-288\n",
      "N after while: 291\n",
      "x ending while: 1.2299999999999996e-289\n",
      "X Beginning while: 1.2299999999999996e-289\n",
      "N after while: 292\n",
      "x ending while: 1.2299999999999996e-290\n",
      "X Beginning while: 1.2299999999999996e-290\n",
      "N after while: 293\n",
      "x ending while: 1.2299999999999997e-291\n",
      "X Beginning while: 1.2299999999999997e-291\n",
      "N after while: 294\n",
      "x ending while: 1.2299999999999997e-292\n",
      "X Beginning while: 1.2299999999999997e-292\n",
      "N after while: 295\n",
      "x ending while: 1.2299999999999997e-293\n",
      "X Beginning while: 1.2299999999999997e-293\n",
      "N after while: 296\n",
      "x ending while: 1.2299999999999998e-294\n",
      "X Beginning while: 1.2299999999999998e-294\n",
      "N after while: 297\n",
      "x ending while: 1.2299999999999997e-295\n",
      "X Beginning while: 1.2299999999999997e-295\n",
      "N after while: 298\n",
      "x ending while: 1.2299999999999997e-296\n",
      "X Beginning while: 1.2299999999999997e-296\n",
      "N after while: 299\n",
      "x ending while: 1.2299999999999996e-297\n",
      "X Beginning while: 1.2299999999999996e-297\n",
      "N after while: 300\n",
      "x ending while: 1.2299999999999997e-298\n",
      "X Beginning while: 1.2299999999999997e-298\n",
      "N after while: 301\n",
      "x ending while: 1.2299999999999998e-299\n",
      "X Beginning while: 1.2299999999999998e-299\n",
      "N after while: 302\n",
      "x ending while: 1.2299999999999998e-300\n",
      "X Beginning while: 1.2299999999999998e-300\n",
      "N after while: 303\n",
      "x ending while: 1.2299999999999998e-301\n",
      "X Beginning while: 1.2299999999999998e-301\n",
      "N after while: 304\n",
      "x ending while: 1.2299999999999997e-302\n",
      "X Beginning while: 1.2299999999999997e-302\n",
      "N after while: 305\n",
      "x ending while: 1.2299999999999998e-303\n",
      "X Beginning while: 1.2299999999999998e-303\n",
      "N after while: 306\n",
      "x ending while: 1.2299999999999998e-304\n",
      "X Beginning while: 1.2299999999999998e-304\n",
      "N after while: 307\n",
      "x ending while: 1.2299999999999998e-305\n",
      "X Beginning while: 1.2299999999999998e-305\n",
      "N after while: 308\n",
      "x ending while: 1.2299999999999997e-306\n",
      "X Beginning while: 1.2299999999999997e-306\n",
      "N after while: 309\n",
      "x ending while: 1.2299999999999997e-307\n",
      "X Beginning while: 1.2299999999999997e-307\n",
      "N after while: 310\n",
      "x ending while: 1.2299999999999997e-308\n",
      "X Beginning while: 1.2299999999999997e-308\n",
      "N after while: 311\n",
      "x ending while: 1.23e-309\n",
      "X Beginning while: 1.23e-309\n",
      "N after while: 312\n",
      "x ending while: 1.23e-310\n",
      "X Beginning while: 1.23e-310\n",
      "N after while: 313\n",
      "x ending while: 1.23e-311\n",
      "X Beginning while: 1.23e-311\n",
      "N after while: 314\n",
      "x ending while: 1.23e-312\n",
      "X Beginning while: 1.23e-312\n",
      "N after while: 315\n",
      "x ending while: 1.23e-313\n",
      "X Beginning while: 1.23e-313\n",
      "N after while: 316\n",
      "x ending while: 1.23e-314\n",
      "X Beginning while: 1.23e-314\n",
      "N after while: 317\n",
      "x ending while: 1.23e-315\n",
      "X Beginning while: 1.23e-315\n",
      "N after while: 318\n",
      "x ending while: 1.23e-316\n",
      "X Beginning while: 1.23e-316\n",
      "N after while: 319\n",
      "x ending while: 1.23e-317\n",
      "X Beginning while: 1.23e-317\n",
      "N after while: 320\n",
      "x ending while: 1.23e-318\n",
      "X Beginning while: 1.23e-318\n",
      "N after while: 321\n",
      "x ending while: 1.23003e-319\n",
      "X Beginning while: 1.23003e-319\n",
      "N after while: 322\n",
      "x ending while: 1.23e-320\n",
      "X Beginning while: 1.23e-320\n",
      "N after while: 323\n",
      "x ending while: 1.23e-321\n",
      "X Beginning while: 1.23e-321\n",
      "N after while: 324\n",
      "x ending while: 1.24e-322\n",
      "X Beginning while: 1.24e-322\n",
      "N after while: 325\n",
      "x ending while: 1e-323\n",
      "X Beginning while: 1e-323\n",
      "N after while: 326\n",
      "x ending while: 0.0\n",
      "326\n"
     ]
    }
   ],
   "source": [
    "def order(x):\n",
    "    n = 0\n",
    "    print(\"N before:\", n)\n",
    "    \n",
    "    while(x!=0):\n",
    "        print(\"X Beginning while:\", x)       \n",
    "        n=n+1\n",
    "        print(\"N after while:\", n)\n",
    "        x=x/10\n",
    "        print(\"x ending while:\", x)\n",
    "    return n \n",
    "\n",
    "print(order(123))"
   ]
  },
  {
   "cell_type": "code",
   "execution_count": 14,
   "metadata": {},
   "outputs": [
    {
     "name": "stdout",
     "output_type": "stream",
     "text": [
      "12\n"
     ]
    }
   ],
   "source": [
    "x = 1234\n",
    "print(int(x/10))"
   ]
  },
  {
   "cell_type": "code",
   "execution_count": 15,
   "metadata": {},
   "outputs": [
    {
     "name": "stdout",
     "output_type": "stream",
     "text": [
      "3\n"
     ]
    }
   ],
   "source": [
    "def order(x):\n",
    "    n = 0\n",
    "    while(x!=0):\n",
    "        n=n+1\n",
    "        x=int(x/10)\n",
    "    return n \n",
    "\n",
    "print(order(123))"
   ]
  },
  {
   "cell_type": "code",
   "execution_count": null,
   "metadata": {},
   "outputs": [],
   "source": [
    "#~~~~~~~PYTHON LIVE CLASS QUESTIONS~~~~~~~~~~~~\n",
    "#~~~~~~`QUESTION 5~~~~~~~~~~\n",
    "#CHECK IF A NUMBER IS ARMSTRONG NUMBER\n",
    "#1st Solution \n",
    "\n",
    "#Function to calculate x raised to the power y \n",
    "def power(x,y):\n",
    "    if y==0:\n",
    "        return 1\n",
    "    \n",
    "    elif y%2==0:\n",
    "        return power(x,y/2)*power(x,y/2)\n",
    "    \n",
    "    else:\n",
    "        return x*power(x,y/2)*power(x,y/2)\n",
    "\n",
    "    \n",
    "\n",
    "#Function to calculate order of the number \n",
    "def order(x):\n",
    "    n = 0\n",
    "    while(x!=0):\n",
    "        n=n+1\n",
    "        x=int(x/10)\n",
    "    return n \n",
    "\n",
    "def isArmstrong(x):\n",
    "    n = order(x)\n",
    "    temp = x\n",
    "    sum1=0\n",
    "    while(temp!=0):\n",
    "        r = temp%10\n",
    "        sum1 = sum1+power(r,n)\n",
    "        temp = int(temp/10)\n",
    "        \n",
    "    if(sum1==x):\n",
    "        print(\"Armstrong number\")\n",
    "    else:\n",
    "        print(\"Armstrong number\")\n",
    "\n",
    "x = 176\n",
    "print(isArmstrong(x))"
   ]
  },
  {
   "cell_type": "code",
   "execution_count": 1,
   "metadata": {},
   "outputs": [
    {
     "name": "stdout",
     "output_type": "stream",
     "text": [
      "123\n"
     ]
    }
   ],
   "source": [
    "x = 1234\n",
    "print(int(x/10))"
   ]
  },
  {
   "cell_type": "code",
   "execution_count": 28,
   "metadata": {},
   "outputs": [
    {
     "name": "stdout",
     "output_type": "stream",
     "text": [
      "{11, 13, 15, 17, 19, 21, 23, 25}\n"
     ]
    }
   ],
   "source": [
    "start = 11 \n",
    "end = 25\n",
    "list1 = []\n",
    "for val in range(start, end+1):\n",
    "    if val>1:\n",
    "        for n in range(2,val):\n",
    "            if(val%n)==0:\n",
    "                break\n",
    "            else:\n",
    "                list1.append(val)\n",
    "s = set(list1)\n",
    "print(s)"
   ]
  },
  {
   "cell_type": "code",
   "execution_count": 31,
   "metadata": {},
   "outputs": [
    {
     "name": "stdout",
     "output_type": "stream",
     "text": [
      "11\n",
      "13\n",
      "17\n",
      "19\n",
      "23\n"
     ]
    }
   ],
   "source": [
    "# Python program to print all  \n",
    "# prime number in an interval \n",
    "# number should be greater than 1 \n",
    "start = 11\n",
    "end = 25\n",
    "  \n",
    "for i in range(start, end+1): \n",
    "  if i>1: \n",
    "    for j in range(2,i): \n",
    "        if(i % j==0): \n",
    "            break\n",
    "    else: \n",
    "        print(i) \n"
   ]
  },
  {
   "cell_type": "code",
   "execution_count": 11,
   "metadata": {},
   "outputs": [
    {
     "data": {
      "text/plain": [
       "1"
      ]
     },
     "execution_count": 11,
     "metadata": {},
     "output_type": "execute_result"
    }
   ],
   "source": [
    "5%2"
   ]
  },
  {
   "cell_type": "code",
   "execution_count": 44,
   "metadata": {},
   "outputs": [
    {
     "name": "stdout",
     "output_type": "stream",
     "text": [
      "0 is not a prime number\n"
     ]
    }
   ],
   "source": [
    "num = 3\n",
    "if num > 1:\n",
    "    for i in range(2, int(num/2)+1):\n",
    "        if (num % i) == 0:\n",
    "            print(num, \"is not a prime number\")\n",
    "            break\n",
    "    else:\n",
    "        print(num, \"is a prime number\")\n",
    " \n",
    "else:\n",
    "    print(num, \"is not a prime number\")"
   ]
  },
  {
   "cell_type": "code",
   "execution_count": null,
   "metadata": {},
   "outputs": [],
   "source": []
  },
  {
   "cell_type": "code",
   "execution_count": 9,
   "metadata": {},
   "outputs": [
    {
     "name": "stdout",
     "output_type": "stream",
     "text": [
      "ID and Name:  1 nikki\n",
      "ID and Name:  2 Mamta\n",
      "Total students:  2\n"
     ]
    }
   ],
   "source": [
    "#~~~~~~~~~~CONSTRUCTORS(parameterised)~~~~~~~~\n",
    "class Perfectplanb:\n",
    "    count = 0\n",
    "    def __init__(self,id,name):\n",
    "        self.id = id\n",
    "        self.name = name\n",
    "        Perfectplanb.count=Perfectplanb.count+1\n",
    "    def display(self):\n",
    "        print(\"ID and Name: \", self.id, self.name)\n",
    "        \n",
    "s1 = Perfectplanb(1,\"nikki\")\n",
    "s2 = Perfectplanb(2,\"Mamta\")\n",
    "s1.display()\n",
    "s2.display()\n",
    "print(\"Total students: \", Perfectplanb.count)"
   ]
  },
  {
   "cell_type": "code",
   "execution_count": 8,
   "metadata": {},
   "outputs": [
    {
     "name": "stdout",
     "output_type": "stream",
     "text": [
      "ID and Name:  1 nikki\n"
     ]
    }
   ],
   "source": []
  },
  {
   "cell_type": "code",
   "execution_count": 12,
   "metadata": {},
   "outputs": [
    {
     "name": "stdout",
     "output_type": "stream",
     "text": [
      "Non parameterised constructor\n",
      " Name:  Nikki\n"
     ]
    }
   ],
   "source": [
    "#~~~~~~~~~~CONSTRUCTORS (non parameterised)~~~~~~~~\n",
    "class Perfectplanb:\n",
    "    \n",
    "    def __init__(self):\n",
    "        print(\"Non parameterised constructor\")\n",
    "    def display(self, name):\n",
    "        print(\" Name: \",name)\n",
    "        \n",
    "s1 = Perfectplanb()\n",
    "s1.display(\"Nikki\")\n"
   ]
  },
  {
   "cell_type": "code",
   "execution_count": 13,
   "metadata": {},
   "outputs": [
    {
     "name": "stdout",
     "output_type": "stream",
     "text": [
      "2 Non parameterised constructor\n",
      " Name:  Nikki\n"
     ]
    }
   ],
   "source": [
    "#~~~~~~~~~~CONSTRUCTORS (2 or more non parameterised)~~~~~~~~\n",
    "class Perfectplanb:\n",
    "    \n",
    "    def __init__(self):\n",
    "        print(\"1 Non parameterised constructor\")\n",
    "    def __init__(self):\n",
    "        print(\"2 Non parameterised constructor\")\n",
    "    def display(self, name):\n",
    "        print(\" Name: \",name)\n",
    "        \n",
    "s1 = Perfectplanb()\n",
    "s1.display(\"Nikki\")\n"
   ]
  },
  {
   "cell_type": "code",
   "execution_count": 16,
   "metadata": {},
   "outputs": [
    {
     "name": "stdout",
     "output_type": "stream",
     "text": [
      "ID  100\n",
      "ID  100\n"
     ]
    }
   ],
   "source": [
    "#~~~~~~~~~~ENCAPSULATION and ABSTRACTION~~~~~~~~\n",
    "class Perfectplanb:\n",
    "   \n",
    "    def __init__(self):\n",
    "        self.__id = 100\n",
    "        \n",
    "    def display(self):\n",
    "        print(\"ID \", self.__id)\n",
    "        \n",
    "s1 = Perfectplanb()\n",
    "s1.display()\n",
    "s2 = Perfectplanb()\n",
    "s2.__id=101\n",
    "s2.display()\n"
   ]
  },
  {
   "cell_type": "code",
   "execution_count": 18,
   "metadata": {},
   "outputs": [
    {
     "name": "stdout",
     "output_type": "stream",
     "text": [
      "ID  100\n",
      "ID  100\n",
      "ID  303\n"
     ]
    }
   ],
   "source": [
    "#~~~~~~~~~~ENCAPSULATION and ABSTRACTION~~~~~~~~\n",
    "class Perfectplanb:\n",
    "   \n",
    "    def __init__(self):\n",
    "        self.__id = 100\n",
    "        \n",
    "    def display(self):\n",
    "        print(\"ID \", self.__id)\n",
    "        \n",
    "    def setID(self,id):\n",
    "        self.__id=id\n",
    "        \n",
    "s1 = Perfectplanb()\n",
    "s1.display()\n",
    "s2 = Perfectplanb()\n",
    "s2.__id=101\n",
    "s2.display()\n",
    "s3=Perfectplanb()\n",
    "s3.setID(303)\n",
    "s3.display()"
   ]
  },
  {
   "cell_type": "code",
   "execution_count": 2,
   "metadata": {},
   "outputs": [
    {
     "name": "stdout",
     "output_type": "stream",
     "text": [
      "Animal is speaking\n",
      "Dog is barking\n",
      "Child Dog is eating\n"
     ]
    }
   ],
   "source": [
    "#~~~~~~~~~MULTILEVEL INHERITANCE~~~~~~~~~~~~~\n",
    "class Animal:\n",
    "    def speak(self):\n",
    "        print(\"Animal is speaking\")\n",
    "        \n",
    "class Dog(Animal):\n",
    "    def bark(self):\n",
    "        print(\"Dog is barking\")\n",
    "        \n",
    "class ChildDog(Dog):\n",
    "    def eat(self):\n",
    "        print(\"Child Dog is eating\")\n",
    "        \n",
    "d = ChildDog()\n",
    "d.speak()\n",
    "d.bark()\n",
    "d.eat()"
   ]
  },
  {
   "cell_type": "code",
   "execution_count": 7,
   "metadata": {},
   "outputs": [
    {
     "name": "stdout",
     "output_type": "stream",
     "text": [
      "Animal is speaking\n",
      "Dog is barking\n",
      "Child Dog is eating\n"
     ]
    }
   ],
   "source": [
    "#~~~~~~~~~MULTIPLE INHERITANCE~~~~~~~~~~~~~\n",
    "class Animal:\n",
    "    def speak(self):\n",
    "        print(\"Animal is speaking\")\n",
    "        \n",
    "class Dog(Animal):\n",
    "    def bark(self):\n",
    "        print(\"Dog is barking\")\n",
    "        \n",
    "class ChildDog(Dog, Animal):\n",
    "    def eat(self):\n",
    "        print(\"Child Dog is eating\")\n",
    "        \n",
    "d = ChildDog()\n",
    "d.speak()\n",
    "d.bark()\n",
    "d.eat()"
   ]
  },
  {
   "cell_type": "code",
   "execution_count": 8,
   "metadata": {},
   "outputs": [
    {
     "name": "stdout",
     "output_type": "stream",
     "text": [
      "Dog is barking\n"
     ]
    }
   ],
   "source": [
    "#~~~~~~~~~POLYMORPHISM(METHOD OVERRIDING)~~~~~~~~~~~~~\n",
    "class Animal:\n",
    "    def speak(self):\n",
    "        print(\"Animal is speaking\")\n",
    "        \n",
    "class Dog(Animal):\n",
    "    def speak(self):\n",
    "        print(\"Dog is barking\")\n",
    "        \n",
    "\n",
    "        \n",
    "d = Dog()\n",
    "d.speak()\n",
    "\n"
   ]
  },
  {
   "cell_type": "code",
   "execution_count": 12,
   "metadata": {},
   "outputs": [
    {
     "ename": "NameError",
     "evalue": "name 'length' is not defined",
     "output_type": "error",
     "traceback": [
      "\u001b[1;31m---------------------------------------------------------------------------\u001b[0m",
      "\u001b[1;31mNameError\u001b[0m                                 Traceback (most recent call last)",
      "\u001b[1;32m<ipython-input-12-10ea40a2bf28>\u001b[0m in \u001b[0;36m<module>\u001b[1;34m\u001b[0m\n\u001b[0;32m     14\u001b[0m \u001b[1;33m\u001b[0m\u001b[0m\n\u001b[0;32m     15\u001b[0m \u001b[0mobj1\u001b[0m \u001b[1;33m=\u001b[0m \u001b[0mArea2\u001b[0m\u001b[1;33m(\u001b[0m\u001b[1;36m2\u001b[0m\u001b[1;33m,\u001b[0m\u001b[1;36m4\u001b[0m\u001b[1;33m,\u001b[0m\u001b[1;36m6\u001b[0m\u001b[1;33m)\u001b[0m\u001b[1;33m\u001b[0m\u001b[1;33m\u001b[0m\u001b[0m\n\u001b[1;32m---> 16\u001b[1;33m \u001b[0mobj1\u001b[0m\u001b[1;33m.\u001b[0m\u001b[0mArea1\u001b[0m\u001b[1;33m(\u001b[0m\u001b[1;33m)\u001b[0m\u001b[1;33m\u001b[0m\u001b[1;33m\u001b[0m\u001b[0m\n\u001b[0m\u001b[0;32m     17\u001b[0m \u001b[0mobj1\u001b[0m\u001b[1;33m.\u001b[0m\u001b[0mVolume\u001b[0m\u001b[1;33m(\u001b[0m\u001b[1;33m)\u001b[0m\u001b[1;33m\u001b[0m\u001b[1;33m\u001b[0m\u001b[0m\n",
      "\u001b[1;32m<ipython-input-12-10ea40a2bf28>\u001b[0m in \u001b[0;36mArea1\u001b[1;34m(self)\u001b[0m\n\u001b[0;32m      9\u001b[0m         \u001b[0mself\u001b[0m\u001b[1;33m.\u001b[0m\u001b[0mheight\u001b[0m \u001b[1;33m=\u001b[0m \u001b[0mheight\u001b[0m\u001b[1;33m\u001b[0m\u001b[1;33m\u001b[0m\u001b[0m\n\u001b[0;32m     10\u001b[0m     \u001b[1;32mdef\u001b[0m \u001b[0mArea1\u001b[0m\u001b[1;33m(\u001b[0m\u001b[0mself\u001b[0m\u001b[1;33m)\u001b[0m\u001b[1;33m:\u001b[0m\u001b[1;33m\u001b[0m\u001b[1;33m\u001b[0m\u001b[0m\n\u001b[1;32m---> 11\u001b[1;33m         \u001b[0mprint\u001b[0m\u001b[1;33m(\u001b[0m\u001b[1;34m\"Area of triangle is : \"\u001b[0m\u001b[1;33m,\u001b[0m \u001b[1;36m0.5\u001b[0m\u001b[1;33m*\u001b[0m\u001b[0mlength\u001b[0m\u001b[1;33m*\u001b[0m\u001b[0mbreadth\u001b[0m \u001b[1;33m)\u001b[0m\u001b[1;33m\u001b[0m\u001b[1;33m\u001b[0m\u001b[0m\n\u001b[0m\u001b[0;32m     12\u001b[0m     \u001b[1;32mdef\u001b[0m \u001b[0mVolume\u001b[0m\u001b[1;33m(\u001b[0m\u001b[0mself\u001b[0m\u001b[1;33m)\u001b[0m\u001b[1;33m:\u001b[0m\u001b[1;33m\u001b[0m\u001b[1;33m\u001b[0m\u001b[0m\n\u001b[0;32m     13\u001b[0m         \u001b[0mprint\u001b[0m\u001b[1;33m(\u001b[0m\u001b[1;34m\"Volume of rectangle is:\"\u001b[0m\u001b[1;33m,\u001b[0m \u001b[0mlength\u001b[0m\u001b[1;33m*\u001b[0m\u001b[0mbreadth\u001b[0m\u001b[1;33m*\u001b[0m \u001b[0mheight\u001b[0m\u001b[1;33m)\u001b[0m\u001b[1;33m\u001b[0m\u001b[1;33m\u001b[0m\u001b[0m\n",
      "\u001b[1;31mNameError\u001b[0m: name 'length' is not defined"
     ]
    }
   ],
   "source": [
    "class Area:\n",
    "    def Area1(self, length, breadth):\n",
    "        print(\"Area of rectangle is : \", length*breadth )\n",
    "    \n",
    "class Area2:\n",
    "    def __init__(self, length, breadth, height):\n",
    "        self.length = length\n",
    "        self.breadth = breadth\n",
    "        self.height = height\n",
    "    def Area1(self):\n",
    "        print(\"Area of triangle is : \", 0.5*length*breadth )\n",
    "    def Volume(self):\n",
    "        print(\"Volume of rectangle is:\", length*breadth* height)\n",
    "        \n",
    "obj1 = Area2(2,4,6)\n",
    "obj1.Area1()\n",
    "obj1.Volume()"
   ]
  },
  {
   "cell_type": "code",
   "execution_count": 15,
   "metadata": {},
   "outputs": [
    {
     "name": "stdout",
     "output_type": "stream",
     "text": [
      "5\n"
     ]
    }
   ],
   "source": [
    "#~~~~~~~PYTHON LIVE CLASS QUESTIONS~~~~~~~~~~~~\n",
    "#~~~~~~`QUESTION 9~~~~~~~~~~\n",
    "#Program to find nth fibonacci number\n",
    "#1ST Solution\n",
    "\n",
    "def fibonacci(n):\n",
    "    if n<0:\n",
    "        print(\"Incorrect input\")\n",
    "    elif n==1:\n",
    "        return 0\n",
    "    elif n==2:\n",
    "        return 1\n",
    "    else:\n",
    "        return fibonacci(n-1)+fibonacci(n-2)\n",
    "    \n",
    "print(fibonacci(6))\n",
    "    "
   ]
  },
  {
   "cell_type": "code",
   "execution_count": 17,
   "metadata": {},
   "outputs": [
    {
     "name": "stdout",
     "output_type": "stream",
     "text": [
      "5\n"
     ]
    }
   ],
   "source": [
    "#~~~~~~~PYTHON LIVE CLASS QUESTIONS~~~~~~~~~~~~\n",
    "#~~~~~~`QUESTION 9~~~~~~~~~~\n",
    "#Program to find nth fibonacci number\n",
    "#2nd Solution - space optimisation\n",
    "\n",
    "def fibonacci(n):\n",
    "    a = 0\n",
    "    b = 1\n",
    "    if n<0:\n",
    "        print(\"Incorrect number\")\n",
    "    elif n==0:\n",
    "        return a\n",
    "    elif n==1:\n",
    "        return b\n",
    "    else:\n",
    "        for i in range(2,n):\n",
    "            c = a+b\n",
    "            a=b\n",
    "            b=c\n",
    "        return b\n",
    "            \n",
    "        \n",
    "    \n",
    "print(fibonacci(6))"
   ]
  },
  {
   "cell_type": "code",
   "execution_count": 20,
   "metadata": {},
   "outputs": [
    {
     "name": "stdout",
     "output_type": "stream",
     "text": [
      "1 is a Fibonacci Number\n",
      "2 is a Fibonacci Number\n",
      "3 is a Fibonacci Number\n",
      "4 is a not Fibonacci Number \n",
      "5 is a Fibonacci Number\n",
      "6 is a not Fibonacci Number \n",
      "7 is a not Fibonacci Number \n",
      "8 is a Fibonacci Number\n",
      "9 is a not Fibonacci Number \n",
      "10 is a not Fibonacci Number \n"
     ]
    }
   ],
   "source": [
    "#~~~~~~~PYTHON LIVE CLASS QUESTIONS~~~~~~~~~~~~\n",
    "#~~~~~~`QUESTION 11~~~~~~~~~~\n",
    "#Program to check if a given number is a fibonacci number\n",
    "\n",
    "# python program to check if x is a perfect square\n",
    "import math\n",
    "  \n",
    "# A utility function that returns true if x is perfect square\n",
    "def isPerfectSquare(x):\n",
    "    s = int(math.sqrt(x))\n",
    "    return s*s == x\n",
    "  \n",
    "# Returns true if n is a Fibinacci Number, else false\n",
    "def isFibonacci(n):\n",
    "  \n",
    "    # n is Fibinacci if one of 5*n*n + 4 or 5*n*n - 4 or both\n",
    "    # is a perferct square\n",
    "    return isPerfectSquare(5*n*n + 4) or isPerfectSquare(5*n*n - 4)\n",
    "     \n",
    "# A utility function to test above functions\n",
    "for i in range(1,11):\n",
    "     if (isFibonacci(i) == True):\n",
    "         print (i,\"is a Fibonacci Number\")\n",
    "     else:\n",
    "         print (i,\"is a not Fibonacci Number \")"
   ]
  },
  {
   "cell_type": "code",
   "execution_count": 22,
   "metadata": {},
   "outputs": [
    {
     "name": "stdin",
     "output_type": "stream",
     "text": [
      "Enter the alphabet :  a\n"
     ]
    },
    {
     "name": "stdout",
     "output_type": "stream",
     "text": [
      "The ASCII value of 'a' is 97\n"
     ]
    }
   ],
   "source": [
    "#~~~~~~~PYTHON LIVE CLASS QUESTIONS~~~~~~~~~~~~\n",
    "#~~~~~~`QUESTION 12~~~~~~~~~~\n",
    "#Program to print ASCII Value of a character\n",
    "c = input(\"Enter the alphabet : \")\n",
    "# print the ASCII value of assigned character in c\n",
    "print(\"The ASCII value of '\" + c + \"' is\", ord(c))"
   ]
  },
  {
   "cell_type": "code",
   "execution_count": 26,
   "metadata": {},
   "outputs": [
    {
     "name": "stdout",
     "output_type": "stream",
     "text": [
      "55\n"
     ]
    }
   ],
   "source": [
    "#~~~~~~~PYTHON LIVE CLASS QUESTIONS~~~~~~~~~~~~\n",
    "#~~~~~~`QUESTION 13~~~~~~~~~~\n",
    "#Program for Sum of squares of first n natural numbers\n",
    "def hello(n):\n",
    "    sum = 0\n",
    "    for i in range(n+1):\n",
    "        sq=i*i\n",
    "        sum = sum+sq\n",
    "    return sum\n",
    "\n",
    "print(hello(5))"
   ]
  },
  {
   "cell_type": "code",
   "execution_count": 27,
   "metadata": {},
   "outputs": [
    {
     "name": "stdout",
     "output_type": "stream",
     "text": [
      "225\n"
     ]
    }
   ],
   "source": [
    "#~~~~~~~PYTHON LIVE CLASS QUESTIONS~~~~~~~~~~~~\n",
    "#~~~~~~`QUESTION 14~~~~~~~~~~\n",
    "#Python Program for cube sum of first nnatural numbers\n",
    "\n",
    "def hello(n):\n",
    "    sum = 0\n",
    "    for i in range(n+1):\n",
    "        \n",
    "        sum = sum+(i*i*i)\n",
    "    return sum\n",
    "\n",
    "print(hello(5))"
   ]
  },
  {
   "cell_type": "code",
   "execution_count": 29,
   "metadata": {},
   "outputs": [
    {
     "name": "stdout",
     "output_type": "stream",
     "text": [
      "[5, 2, 3, 4, 1]\n"
     ]
    }
   ],
   "source": [
    "#~~~~~~~DATA STRUCTURES INTERVIEW QUESTIONS~~~~~~~~~~~~\n",
    "#~~~~~~`QUESTION 01~~~~~~~~~~\n",
    "#Python Program to interchange first and last element in the list\n",
    "#Solution 1\n",
    "\n",
    "def swapList(newlist):\n",
    "    size = len(newlist)\n",
    "    \n",
    "    temp = newlist[0]\n",
    "    newlist[0]= newlist[size-1]\n",
    "    newlist[size-1] = temp\n",
    "    \n",
    "    return newlist\n",
    "\n",
    "print(swapList([1,2,3,4,5]))"
   ]
  },
  {
   "cell_type": "code",
   "execution_count": 31,
   "metadata": {},
   "outputs": [
    {
     "name": "stdout",
     "output_type": "stream",
     "text": [
      "[5, 2, 3, 4, 1]\n"
     ]
    }
   ],
   "source": [
    "#~~~~~~~DATA STRUCTURES INTERVIEW QUESTIONS~~~~~~~~~~~~\n",
    "#~~~~~~`QUESTION 01~~~~~~~~~~\n",
    "#Python Program to interchange first and last element in the list\n",
    "#Solution 2\n",
    "\n",
    "def swapList(newlist):\n",
    "    \n",
    "    newlist[0], newlist[-1] = newlist[-1], newlist[0] \n",
    "    return newlist\n",
    "\n",
    "print(swapList([1,2,3,4,5]))"
   ]
  },
  {
   "cell_type": "code",
   "execution_count": 33,
   "metadata": {},
   "outputs": [
    {
     "name": "stdout",
     "output_type": "stream",
     "text": [
      "[24, 35, 9, 56, 12]\n"
     ]
    }
   ],
   "source": [
    "#~~~~~~~DATA STRUCTURES INTERVIEW QUESTIONS~~~~~~~~~~~~\n",
    "#~~~~~~`QUESTION 01~~~~~~~~~~\n",
    "#Python Program to interchange first and last element in the list\n",
    "#Solution 3\n",
    "\n",
    "# Swap function\n",
    "def swapList(list):\n",
    "# Storing the first and last element as a pair in a tuple variable get\n",
    "    get = list[-1], list[0]\n",
    "# unpacking those elements\n",
    "    list[0], list[-1] = get\n",
    "    return list\n",
    "# Driver code\n",
    "newList = [12, 35, 9, 56, 24]\n",
    "print(swapList(newList))"
   ]
  },
  {
   "cell_type": "code",
   "execution_count": 35,
   "metadata": {},
   "outputs": [
    {
     "name": "stdout",
     "output_type": "stream",
     "text": [
      "[24, 35, 9, 56, 12]\n"
     ]
    }
   ],
   "source": [
    "#~~~~~~~DATA STRUCTURES INTERVIEW QUESTIONS~~~~~~~~~~~~\n",
    "#~~~~~~`QUESTION 01~~~~~~~~~~\n",
    "#Python Program to interchange first and last element in the list\n",
    "#Solution 4\n",
    "\n",
    "# Swap function\n",
    "def swapList(list):\n",
    "    first = list.pop(0)\n",
    "    last = list.pop(-1)\n",
    "    \n",
    "    list.insert(0,last)\n",
    "    list.append(first)\n",
    "    \n",
    "    return list\n",
    "\n",
    "newList = [12, 35, 9, 56, 24]\n",
    "print(swapList(newList))\n"
   ]
  },
  {
   "cell_type": "code",
   "execution_count": 9,
   "metadata": {},
   "outputs": [
    {
     "name": "stdout",
     "output_type": "stream",
     "text": [
      "Palindrome\n",
      "malayalaM\n"
     ]
    }
   ],
   "source": [
    "#~~~~~~~DATA STRUCTURES INTERVIEW QUESTIONS~~~~~~~~~~~~\n",
    "#~~~~~~`QUESTION 02~~~~~~~~~~\n",
    "#Python program to check if a string is palindrome or not\n",
    "#Solution 1\n",
    "\n",
    "# Reverse function\n",
    "def ReverseString(stringvalue):\n",
    "    stringvalue2 = stringvalue[::-1]\n",
    "    if stringvalue.lower() == stringvalue2.lower():\n",
    "        print(\"Palindrome\")\n",
    "    else:\n",
    "        print(\"Not a palindrome\")\n",
    "    return stringvalue2\n",
    "\n",
    "value = \"Malayalam\"\n",
    "print(ReverseString(value))"
   ]
  },
  {
   "cell_type": "code",
   "execution_count": 13,
   "metadata": {},
   "outputs": [
    {
     "name": "stdout",
     "output_type": "stream",
     "text": [
      "No\n"
     ]
    }
   ],
   "source": [
    "#~~~~~~~DATA STRUCTURES INTERVIEW QUESTIONS~~~~~~~~~~~~\n",
    "#~~~~~~`QUESTION 02~~~~~~~~~~\n",
    "#Python program to check if a string is palindrome or not\n",
    "#Solution 2\n",
    "\n",
    "# Swap function\n",
    "def isPalindrome(str):\n",
    "# Run loop from 0 to len/2\n",
    "    for i in range(0, len(str)//2):\n",
    "        if str[i] != str[len(str)-i-1]:\n",
    "            return False\n",
    "    return True\n",
    "\n",
    "# main function\n",
    "s = \"nikki\"\n",
    "ans = isPalindrome(s)\n",
    "if (ans):\n",
    "    print(\"Yes\")\n",
    "else:\n",
    "    print(\"No\")"
   ]
  },
  {
   "cell_type": "code",
   "execution_count": 18,
   "metadata": {},
   "outputs": [
    {
     "name": "stdout",
     "output_type": "stream",
     "text": [
      "No\n"
     ]
    }
   ],
   "source": [
    "#~~~~~~~DATA STRUCTURES INTERVIEW QUESTIONS~~~~~~~~~~~~\n",
    "#~~~~~~`QUESTION 02~~~~~~~~~~\n",
    "#Python program to check if a string is palindrome or not\n",
    "#Solution 3\n",
    "\n",
    "# Swap function\n",
    "def isPalindrome(s):\n",
    "    # Using predefined function to\n",
    "    # reverse to string print(s)\n",
    "    rev = ''.join(reversed(s))\n",
    "    # Checking if both string are\n",
    "    # equal or not\n",
    "    if (s == rev):\n",
    "        return True\n",
    "    return False\n",
    "# main function\n",
    "s = \"mala\"\n",
    "ans = isPalindrome(s)\n",
    "if (ans):\n",
    "    print(\"Yes\")\n",
    "else:\n",
    "    print(\"No\")"
   ]
  },
  {
   "cell_type": "code",
   "execution_count": 23,
   "metadata": {},
   "outputs": [
    {
     "name": "stdout",
     "output_type": "stream",
     "text": [
      "[(1, 1), (2, 8), (5, 125), (6, 216)]\n"
     ]
    }
   ],
   "source": [
    "#~~~~~~~DATA STRUCTURES INTERVIEW QUESTIONS~~~~~~~~~~~~\n",
    "#~~~~~~`QUESTION 03~~~~~~~~~~\n",
    "#Python program to create a list of tuples from given list having number and its cube in each tuple\n",
    "#Solution 1\n",
    "\n",
    "# creating a list\n",
    "list1 = [1, 2, 5, 6]\n",
    "# using list comprehension to iterate each\n",
    "# values in list and create a tuple as specified\n",
    "res = [(val, pow(val, 3)) for val in list1]\n",
    "# print the result\n",
    "print(res)"
   ]
  },
  {
   "cell_type": "code",
   "execution_count": 26,
   "metadata": {},
   "outputs": [
    {
     "name": "stdout",
     "output_type": "stream",
     "text": [
      "(1, 1)\n",
      "(2, 8)\n",
      "(5, 125)\n",
      "(6, 216)\n"
     ]
    }
   ],
   "source": []
  },
  {
   "cell_type": "markdown",
   "metadata": {},
   "source": [
    "###### ~~~~~~~DATA STRUCTURES INTERVIEW QUESTIONS~~~~~~~~~~~~\n",
    "#~~~~~~`QUESTION 04~~~~~~~~~~\n",
    "#Python | Print an Inverted Star Pattern\n",
    "#Solution 1\n",
    "\n",
    "n = 5\n",
    "for i in range (0,n):\n",
    "    print(\" \"*i, \"*\"*(n-i))"
   ]
  },
  {
   "cell_type": "code",
   "execution_count": 3,
   "metadata": {},
   "outputs": [
    {
     "name": "stdout",
     "output_type": "stream",
     "text": [
      "[5, 1, 6, 3]\n"
     ]
    }
   ],
   "source": [
    "#~~~~~~~DATA STRUCTURES INTERVIEW QUESTIONS~~~~~~~~~~~~\n",
    "#~~~~~~`QUESTION 06~~~~~~~~~\n",
    "#Python program to swap two elements in a list\n",
    "#Solution 1\n",
    "def swaplist(list1, pos1, pos2):\n",
    "    list1[pos1-1], list1[pos2-1] = list1[pos2-1], list1[pos1-1]\n",
    "    return list1\n",
    "\n",
    "print(swaplist([1,5,6,3], 1, 2))\n",
    "    "
   ]
  },
  {
   "cell_type": "code",
   "execution_count": 4,
   "metadata": {},
   "outputs": [
    {
     "name": "stdout",
     "output_type": "stream",
     "text": [
      "[19, 65, 23, 90]\n"
     ]
    }
   ],
   "source": [
    "#~~~~~~~DATA STRUCTURES INTERVIEW QUESTIONS~~~~~~~~~~~~\n",
    "#~~~~~~`QUESTION 06~~~~~~~~~\n",
    "#Python program to swap two elements in a list\n",
    "#Solution 2\n",
    "def swapPositions(list, pos1, pos2):\n",
    "      \n",
    "    # popping both the elements from list\n",
    "    first_ele = list.pop(pos1)   \n",
    "    second_ele = list.pop(pos2-1)\n",
    "     \n",
    "    # inserting in each others positions\n",
    "    list.insert(pos1, second_ele)  \n",
    "    list.insert(pos2, first_ele)  \n",
    "      \n",
    "    return list\n",
    "  \n",
    "# Driver function\n",
    "List = [23, 65, 19, 90]\n",
    "pos1, pos2  = 1, 3\n",
    "  \n",
    "print(swapPositions(List, pos1-1, pos2-1))"
   ]
  },
  {
   "cell_type": "code",
   "execution_count": 4,
   "metadata": {},
   "outputs": [
    {
     "name": "stdout",
     "output_type": "stream",
     "text": [
      "Updated list is:  ['geeks', 'for']\n"
     ]
    }
   ],
   "source": [
    "#~~~~~~~DATA STRUCTURES INTERVIEW QUESTIONS~~~~~~~~~~~~\n",
    "#~~~~~~`QUESTION 07~~~~~~~~~\n",
    "#Python program to remove the Nth occurrence of the given word in that list.\n",
    "#Solution 1\n",
    "# Function to remove Ith word\n",
    "def RemoveIthWord(list, word, N):\n",
    "    count = 0\n",
    "      \n",
    "    for i in range(0, len(list)):\n",
    "        if (list[i] == word):\n",
    "            count = count + 1\n",
    "              \n",
    "            if(count == N):\n",
    "                del(list[i])\n",
    "                return True\n",
    "                  \n",
    "    return False\n",
    "  \n",
    "# Driver code\n",
    "list = ['geeks', 'for', 'geeks']\n",
    "word = 'geeks'\n",
    "N = 2\n",
    "  \n",
    "flag = RemoveIthWord(list, word, N)\n",
    "  \n",
    "if (flag == True):\n",
    "    print(\"Updated list is: \", list)\n",
    "else:\n",
    "    print(\"Item not Updated\") \n",
    "\n",
    "        "
   ]
  },
  {
   "cell_type": "code",
   "execution_count": 5,
   "metadata": {},
   "outputs": [
    {
     "name": "stdout",
     "output_type": "stream",
     "text": [
      "Length of list is 5\n"
     ]
    }
   ],
   "source": [
    "#~~~~~~~DATA STRUCTURES INTERVIEW QUESTIONS~~~~~~~~~~~~\n",
    "#~~~~~~`QUESTION 08~~~~~~~~~\n",
    "#Python ways to find the length of the list\n",
    "#Solution 1\n",
    "\n",
    "def findLength(list1):\n",
    "    print(\"Length of list is\", len(list1))\n",
    "    \n",
    "list1 = [1,2,3,4,5]\n",
    "findLength(list1)"
   ]
  },
  {
   "cell_type": "code",
   "execution_count": 7,
   "metadata": {},
   "outputs": [
    {
     "name": "stdout",
     "output_type": "stream",
     "text": [
      "Length of list is 8\n"
     ]
    }
   ],
   "source": [
    "#~~~~~~~DATA STRUCTURES INTERVIEW QUESTIONS~~~~~~~~~~~~\n",
    "#~~~~~~`QUESTION 08~~~~~~~~~\n",
    "#Python ways to find the length of the list\n",
    "#Solution 2\n",
    "\n",
    "def findLength(list1):\n",
    "    count = 0\n",
    "    for i in list1:\n",
    "        count = count+1\n",
    "    print(\"Length of list is\", len(list1))\n",
    "    \n",
    "list1 = [1,2,3,4,5,6,7,8]\n",
    "findLength(list1)"
   ]
  },
  {
   "cell_type": "code",
   "execution_count": 8,
   "metadata": {},
   "outputs": [
    {
     "name": "stdout",
     "output_type": "stream",
     "text": [
      "Length of the input string:\n",
      "5\n"
     ]
    }
   ],
   "source": [
    "#~~~~~~~DATA STRUCTURES INTERVIEW QUESTIONS~~~~~~~~~~~~\n",
    "#~~~~~~`QUESTION 08~~~~~~~~~\n",
    "#Python ways to find the length of the list\n",
    "#Solution 3\n",
    "\n",
    "from operator import length_hint \n",
    "inp_lst = ['Python','Java','Kotlin','Machine Learning','Keras']\n",
    "print(\"Length of the input string:\")\n",
    "size = length_hint(inp_lst)\n",
    "print(size)"
   ]
  },
  {
   "cell_type": "code",
   "execution_count": 17,
   "metadata": {},
   "outputs": [
    {
     "name": "stdout",
     "output_type": "stream",
     "text": [
      "does not exist\n"
     ]
    }
   ],
   "source": [
    "#~~~~~~~DATA STRUCTURES INTERVIEW QUESTIONS~~~~~~~~~~~~\n",
    "#~~~~~~`QUESTION 09~~~~~~~~~\n",
    "#Python ways to check if element exists in list or not\n",
    "#Solution 3\n",
    "\n",
    "def findele(list1, ele):\n",
    "    count=0\n",
    "    \n",
    "    for i in list1:\n",
    "        if i == ele:\n",
    "            count=count+1\n",
    "            \n",
    "    if count==0:\n",
    "        print(\"does not exist\")\n",
    "    else:\n",
    "        print(\"it exists\")\n",
    "            \n",
    "        \n",
    "    \n",
    "list1 = [1,2,3,4,5,6,7,8]\n",
    "ele = 9\n",
    "findele(list1, ele)"
   ]
  },
  {
   "cell_type": "code",
   "execution_count": 9,
   "metadata": {},
   "outputs": [],
   "source": [
    "\n"
   ]
  },
  {
   "cell_type": "code",
   "execution_count": 27,
   "metadata": {},
   "outputs": [],
   "source": [
    "\n",
    "     "
   ]
  },
  {
   "cell_type": "code",
   "execution_count": 34,
   "metadata": {},
   "outputs": [],
   "source": [
    "#Correct Final one #PMD\n",
    "\n",
    "import pandas as pd\n",
    "import numpy as np\n",
    "import matplotlib.pyplot as plt\n",
    "import openpyxl\n",
    "\n",
    "excel_file_1 = r\"C:\\Users\\cig5kor\\Desktop\\abc.xlsx\"\n",
    "\n",
    "df_first_shift = pd.read_excel(excel_file_1, sheet_name='KNVV')\n",
    "df_second_shift = pd.read_excel(excel_file_1, sheet_name='TVKWZ')\n",
    "df_third_shift = pd.read_excel(excel_file_1, sheet_name='T001W')\n",
    "\n",
    "df_all_merged_outer_1 = pd.merge(left=df_first_shift, right=df_second_shift, how='outer', left_on='VKORG', right_on='VKORG')\n",
    "df_all_merged_outer_2 = pd.merge(left=df_all_merged_outer_1, right=df_third_shift, how='outer', left_on='WERKS', right_on='WERKS')\n",
    "df_all_merged_outer_2 = df_all_merged_outer_2.sort_values(['KUNNR', 'VKORG'], ascending=(False, True))\n",
    "\n",
    "df_all_merged_outer_2.to_excel(r\"C:\\Users\\cig5kor\\Desktop\\ghi.xlsx\")"
   ]
  },
  {
   "cell_type": "code",
   "execution_count": 3,
   "metadata": {},
   "outputs": [],
   "source": [
    "#for POE\n",
    "\n",
    "import pandas as pd\n",
    "import numpy as np\n",
    "import matplotlib.pyplot as plt\n",
    "import openpyxl\n",
    "\n",
    "excel_file_1 = r\"C:\\Users\\cig5kor\\Desktop\\POE_Sid.xlsx\"\n",
    "\n",
    "df_first_shift = pd.read_excel(excel_file_1, sheet_name='KNVV')\n",
    "df_second_shift = pd.read_excel(excel_file_1, sheet_name='TVKWZ')\n",
    "df_third_shift = pd.read_excel(excel_file_1, sheet_name='T001W')\n",
    "\n",
    "df_all_merged_outer_1 = pd.merge(left=df_first_shift, right=df_second_shift, how='outer', left_on='VKORG', right_on='VKORG')\n",
    "df_all_merged_outer_2 = pd.merge(left=df_all_merged_outer_1, right=df_third_shift, how='outer', left_on='WERKS', right_on='WERKS')\n",
    "df_all_merged_outer_2 = df_all_merged_outer_2.sort_values(['KUNNR', 'VKORG'], ascending=(False, True))\n",
    "\n",
    "df_all_merged_outer_2.to_excel(r\"C:\\Users\\cig5kor\\Desktop\\SPOE_OUTPUT.xlsx\")\n"
   ]
  },
  {
   "cell_type": "code",
   "execution_count": 1,
   "metadata": {},
   "outputs": [
    {
     "name": "stdout",
     "output_type": "stream",
     "text": [
      "[0 0 0 1]\n"
     ]
    }
   ],
   "source": [
    "#K Nearest neighbors\n",
    "\n",
    "x = [[0], [1], [2], [3]]\n",
    "y = [0,0,1,1]\n",
    "from sklearn.neighbors import KNeighborsClassifier\n",
    "neigh = KNeighborsClassifier(n_neighbors=3)\n",
    "neigh.fit(x, y)\n",
    "print(neigh.predict([[0.9], [1.1], [1.5], [3.3]]))"
   ]
  },
  {
   "cell_type": "code",
   "execution_count": 2,
   "metadata": {},
   "outputs": [
    {
     "data": {
      "text/plain": [
       "0.5"
      ]
     },
     "execution_count": 2,
     "metadata": {},
     "output_type": "execute_result"
    }
   ],
   "source": [
    "from sklearn.metrics import accuracy_score\n",
    "y_pred = [0,2,1,3]\n",
    "y_true = [0,1,2,3]\n",
    "accuracy_score(y_true, y_pred)"
   ]
  },
  {
   "cell_type": "code",
   "execution_count": 4,
   "metadata": {},
   "outputs": [
    {
     "data": {
      "text/plain": [
       "array([1])"
      ]
     },
     "execution_count": 4,
     "metadata": {},
     "output_type": "execute_result"
    }
   ],
   "source": [
    "#Decsion Tree\n",
    "\n",
    "from sklearn import tree\n",
    "x = [[0, 0], [1,1]]\n",
    "y = [0,1]\n",
    "clf = tree.DecisionTreeClassifier()\n",
    "clf = clf.fit(x,y)\n",
    "clf.predict([[2,2]])"
   ]
  },
  {
   "cell_type": "code",
   "execution_count": 3,
   "metadata": {},
   "outputs": [
    {
     "name": "stdout",
     "output_type": "stream",
     "text": [
      "[1]\n"
     ]
    }
   ],
   "source": [
    "#SVM - Support vector machine\n",
    "\n",
    "import numpy as np\n",
    "from sklearn.svm import SVC\n",
    "x = np.array([[-1, -1], [-2,-1], [1, 1], [2,1]])\n",
    "y = np.array([1,1,2,2])\n",
    "clf = SVC()\n",
    "clf.fit(x,y)\n",
    "print(clf.predict([[-0.8,-1]]))"
   ]
  },
  {
   "cell_type": "code",
   "execution_count": 37,
   "metadata": {},
   "outputs": [
    {
     "name": "stdout",
     "output_type": "stream",
     "text": [
      "(569, 30) (569,)\n",
      "1    357\n",
      "0    212\n",
      "Name: class, dtype: int64\n",
      "['malignant' 'benign']\n",
      "(569,) (426,) (143,)\n",
      "(569, 30) (426, 30) (143, 30)\n",
      "(569,) (512,) (57,)\n",
      "(569, 30) (512, 30) (57, 30)\n",
      "0.6274165202108963 0.619140625 0.7017543859649122\n",
      "0.6274165202108963 0.626953125 0.631578947368421\n",
      "61.890712339519624 61.31637960106119 67.04963097269005\n",
      "[[1.490e+01 2.253e+01 1.021e+02 ... 2.475e-01 2.866e-01 1.155e-01]\n",
      " [1.205e+01 1.463e+01 7.804e+01 ... 6.548e-02 2.747e-01 8.301e-02]\n",
      " [1.311e+01 1.556e+01 8.721e+01 ... 1.986e-01 3.147e-01 1.405e-01]\n",
      " ...\n",
      " [1.258e+01 1.840e+01 7.983e+01 ... 8.772e-03 2.505e-01 6.431e-02]\n",
      " [1.349e+01 2.230e+01 8.691e+01 ... 1.282e-01 2.871e-01 6.917e-02]\n",
      " [1.919e+01 1.594e+01 1.263e+02 ... 1.777e-01 2.443e-01 6.251e-02]]\n",
      "Accuracy on training data 0.951171875\n",
      "Accuracy on training data 0.9298245614035088\n",
      "(17.99, 10.38, 122.8, 1001, 0.1184, 0.2776, 0.3001, 0.1471, 0.2419, 0.07871, 1.095, 0.9053, 8.589, 153.4, 0.006399, 0.04904, 0.05373, 0.01587, 0.03003, 0.006193, 25.38, 17.33, 184.6, 2019, 0.1622, 0.6656, 0.7119, 0.2654, 0.4601, 0.1189)\n",
      "[0]\n",
      "THE BREAST CANCER IS MALIGN\n"
     ]
    },
    {
     "name": "stderr",
     "output_type": "stream",
     "text": [
      "C:\\Users\\cig5kor\\Anaconda3\\lib\\site-packages\\sklearn\\linear_model\\_logistic.py:762: ConvergenceWarning: lbfgs failed to converge (status=1):\n",
      "STOP: TOTAL NO. of ITERATIONS REACHED LIMIT.\n",
      "\n",
      "Increase the number of iterations (max_iter) or scale the data as shown in:\n",
      "    https://scikit-learn.org/stable/modules/preprocessing.html\n",
      "Please also refer to the documentation for alternative solver options:\n",
      "    https://scikit-learn.org/stable/modules/linear_model.html#logistic-regression\n",
      "  n_iter_i = _check_optimize_result(\n"
     ]
    }
   ],
   "source": [
    "#CAPSTONE PROJECT\n",
    "#BREAST CANCER DETECTION - LOGISTIC REGRESSION\n",
    "\n",
    "#import libraries\n",
    "import numpy as np\n",
    "import sklearn.datasets\n",
    "\n",
    "#getting datasets\n",
    "breast_cancer = sklearn.datasets.load_breast_cancer()\n",
    "\n",
    "#print(breast_cancer)\n",
    "\n",
    "X = breast_cancer.data\n",
    "Y = breast_cancer.target\n",
    "\n",
    "#print(X)\n",
    "#print(Y)\n",
    "\n",
    "print(X.shape, Y.shape)\n",
    "\n",
    "#Import data to the pandas dataframe\n",
    "import pandas as pd\n",
    "\n",
    "data = pd.DataFrame(breast_cancer.data, columns=breast_cancer.feature_names)\n",
    "data['class'] = breast_cancer.target\n",
    "\n",
    "data.head()\n",
    "data.describe()\n",
    "\n",
    "print(data['class'].value_counts())\n",
    "\n",
    "#0 - Malignant , 1 - benign\n",
    "print(breast_cancer.target_names)\n",
    "data.groupby('class').mean()\n",
    "\n",
    "#Train and Test Split \n",
    "from sklearn.model_selection import train_test_split\n",
    "\n",
    "X_train, X_test, Y_train, Y_test = train_test_split(X,Y)\n",
    "\n",
    "print(Y.shape, Y_train.shape, Y_test.shape)\n",
    "print(X.shape, X_train.shape, X_test.shape)\n",
    "\n",
    "#But we do not need so many testing data, we need only 10% (0,1)\n",
    "\n",
    "X_train, X_test, Y_train, Y_test = train_test_split(X,Y, test_size=0.1)\n",
    "\n",
    "print(Y.shape, Y_train.shape, Y_test.shape)\n",
    "print(X.shape, X_train.shape, X_test.shape)\n",
    "\n",
    "#Lets test if the mean of the test and train data are almost same(they should be almost equal)\n",
    "print(Y.mean(), Y_train.mean(), Y_test.mean())\n",
    "\n",
    "#Uisng stratify for correct distribution (mean) of data as the original data(Now mean is almost similar)\n",
    "X_train, X_test, Y_train, Y_test = train_test_split(X,Y, test_size=0.1, stratify=Y)\n",
    "print(Y.mean(), Y_train.mean(), Y_test.mean())\n",
    "\n",
    "#random value is used for specific splitting of data. Each value of random_state splits the data differently\n",
    "X_train, X_test, Y_train, Y_test = train_test_split(X,Y, test_size=0.1, stratify=Y, random_state=1)\n",
    "\n",
    "#It is not a problem if X means are different, only Y should be same \n",
    "print(X.mean(), X_train.mean(), X_test.mean())\n",
    "\n",
    "print(X_train)\n",
    "\n",
    "#Logistic Regression(Sigmoid function where one class falls on one side of the line, and other in the other side)\n",
    "from sklearn.linear_model import LogisticRegression\n",
    "\n",
    "#Loading the logistic regression model to variable \"Classifier\"\n",
    "classifier = LogisticRegression()\n",
    "\n",
    "#training the model on training data\n",
    "classifier.fit(X_train, Y_train)\n",
    "\n",
    "#Evaluation of the model\n",
    "from sklearn.metrics import accuracy_score\n",
    "\n",
    "prediction_on_training_data = classifier.predict(X_train)\n",
    "accuracy_on_training_data = accuracy_score(Y_train, prediction_on_training_data)\n",
    "print('Accuracy on training data', accuracy_on_training_data)\n",
    "\n",
    "#Prediction on test data (usually less than the training data)\n",
    "prediction_on_test_data = classifier.predict(X_test)\n",
    "accuracy_on_test_data = accuracy_score(Y_test, prediction_on_test_data)\n",
    "print('Accuracy on training data', accuracy_on_test_data)\n",
    "\n",
    "#Detecting whether the breast cancer is benign or malignant \n",
    "input_data = (17.99,10.38,122.8,1001,0.1184,0.2776,0.3001,0.1471,0.2419,0.07871,1.095,0.9053,8.589,153.4,0.006399,0.04904,0.05373,0.01587,0.03003,0.006193,25.38,17.33,184.6,2019,0.1622,0.6656,0.7119,0.2654,0.4601,0.1189)\n",
    "\n",
    "#Change the input_data which is a tuple to numpy_array to make prediction\n",
    "input_data_as_numpy_array = np.asarray(input_data)\n",
    "print(input_data)\n",
    "\n",
    "#reshape the array as we are predicting the output for one instance. (1,-1) is used for single instance\n",
    "input_data_reshaped = input_data_as_numpy_array.reshape(1,-1)\n",
    "\n",
    "#prediction (0 - Malign, 1- begin, it's actal value is 0)\n",
    "prediction = classifier.predict(input_data_reshaped)\n",
    "\n",
    "#Returns a list with element [0] if malign and [1] if begign\n",
    "print(prediction)\n",
    "\n",
    "if (prediction[0]==0):\n",
    "    print(\"THE BREAST CANCER IS MALIGNANT\")\n",
    "else:\n",
    "    print(\"THE BREAST CANCER IS BENIGN\")"
   ]
  },
  {
   "cell_type": "code",
   "execution_count": 5,
   "metadata": {},
   "outputs": [
    {
     "name": "stdout",
     "output_type": "stream",
     "text": [
      "(100, 4)\n",
      "(100,)\n"
     ]
    },
    {
     "ename": "NameError",
     "evalue": "name 'y' is not defined",
     "output_type": "error",
     "traceback": [
      "\u001b[1;31m---------------------------------------------------------------------------\u001b[0m",
      "\u001b[1;31mNameError\u001b[0m                                 Traceback (most recent call last)",
      "\u001b[1;32m<ipython-input-5-7172b5689998>\u001b[0m in \u001b[0;36m<module>\u001b[1;34m\u001b[0m\n\u001b[0;32m     17\u001b[0m \u001b[0mprint\u001b[0m\u001b[1;33m(\u001b[0m\u001b[0mY\u001b[0m\u001b[1;33m.\u001b[0m\u001b[0mshape\u001b[0m\u001b[1;33m)\u001b[0m\u001b[1;33m\u001b[0m\u001b[1;33m\u001b[0m\u001b[0m\n\u001b[0;32m     18\u001b[0m \u001b[1;33m\u001b[0m\u001b[0m\n\u001b[1;32m---> 19\u001b[1;33m \u001b[0mX_train\u001b[0m\u001b[1;33m,\u001b[0m \u001b[0mX_test\u001b[0m\u001b[1;33m,\u001b[0m \u001b[0mY_train\u001b[0m\u001b[1;33m,\u001b[0m \u001b[0mY_test\u001b[0m \u001b[1;33m=\u001b[0m \u001b[0mtrain_test_split\u001b[0m\u001b[1;33m(\u001b[0m\u001b[0mX\u001b[0m\u001b[1;33m,\u001b[0m\u001b[0my\u001b[0m\u001b[1;33m,\u001b[0m \u001b[0mrandom_state\u001b[0m\u001b[1;33m=\u001b[0m\u001b[1;36m0\u001b[0m\u001b[1;33m,\u001b[0m \u001b[0mtest_size\u001b[0m\u001b[1;33m=\u001b[0m\u001b[1;36m0.15\u001b[0m\u001b[1;33m)\u001b[0m\u001b[1;33m\u001b[0m\u001b[1;33m\u001b[0m\u001b[0m\n\u001b[0m\u001b[0;32m     20\u001b[0m \u001b[1;33m\u001b[0m\u001b[0m\n\u001b[0;32m     21\u001b[0m \u001b[1;31m#Creating an object of Random Forest Regeressor\u001b[0m\u001b[1;33m\u001b[0m\u001b[1;33m\u001b[0m\u001b[1;33m\u001b[0m\u001b[0m\n",
      "\u001b[1;31mNameError\u001b[0m: name 'y' is not defined"
     ]
    }
   ],
   "source": [
    "#RANDOM FOREST REGRESSION \n",
    "\n",
    "#importing ramdom forest regressor, classifier and random regression and classification datset from sklearn \n",
    "\n",
    "from sklearn.ensemble import RandomForestRegressor\n",
    "from sklearn.datasets import make_regression\n",
    "from sklearn.metrics import r2_score\n",
    "from sklearn.model_selection import train_test_split\n",
    "from sklearn.datasets import make_classification\n",
    "from sklearn.ensemble import RandomForestClassifier\n",
    "from sklearn.metrics import accuracy_score\n",
    "\n",
    "#Loading the random dataset with 4 features in which 2 are informative\n",
    "X, Y = make_regression(n_samples=100, n_features=4, n_informative=2, random_state=0, shuffle=False)\n",
    "\n",
    "print(X.shape)\n",
    "print(Y.shape)\n",
    "\n",
    "X_train, X_test, Y_train, Y_test = train_test_split(X,y, random_state=0, test_size=0.15)\n",
    "\n",
    "#Creating an object of Random Forest Regeressor\n",
    "regr = RandomForestRegressor(max_depth=2, random_state=0)\n",
    "\n",
    "#Training the model \n",
    "regr.fit(X_train, Y_train)\n",
    "\n"
   ]
  },
  {
   "cell_type": "code",
   "execution_count": 3,
   "metadata": {},
   "outputs": [
    {
     "data": {
      "text/plain": [
       "array([[10.,  2.],\n",
       "       [ 1.,  2.]])"
      ]
     },
     "execution_count": 3,
     "metadata": {},
     "output_type": "execute_result"
    }
   ],
   "source": [
    "#KMEANS CLUSTERING \n",
    "\n",
    "\n",
    "from sklearn.cluster import KMeans\n",
    "import numpy as np\n",
    "\n",
    "X = np.array([[1,2], [1,4], [1,0], [10,2],[10,4], [10,0]])\n",
    "kmeans = KMeans(n_clusters=2, random_state=0).fit(X)\n",
    "kmeans.labels_\n",
    "kmeans.predict([[0,0], [12,3]])\n",
    "kmeans.cluster_centers_\n"
   ]
  },
  {
   "cell_type": "code",
   "execution_count": 21,
   "metadata": {},
   "outputs": [
    {
     "name": "stdin",
     "output_type": "stream",
     "text": [
      "What is your name?  Nikki\n"
     ]
    },
    {
     "name": "stdout",
     "output_type": "stream",
     "text": [
      "Good Luck !  Nikki\n",
      "Guess the characters\n",
      "_\n",
      "_\n",
      "_\n",
      "_\n",
      "_\n",
      "_\n",
      "_\n"
     ]
    },
    {
     "name": "stdin",
     "output_type": "stream",
     "text": [
      "guess a character: e\n"
     ]
    },
    {
     "name": "stdout",
     "output_type": "stream",
     "text": [
      "_\n",
      "_\n",
      "_\n",
      "e\n",
      "_\n",
      "_\n",
      "e\n"
     ]
    },
    {
     "name": "stdin",
     "output_type": "stream",
     "text": [
      "guess a character: r\n"
     ]
    },
    {
     "name": "stdout",
     "output_type": "stream",
     "text": [
      "Wrong\n",
      "You have 11 more guesses\n",
      "_\n",
      "_\n",
      "_\n",
      "e\n",
      "_\n",
      "_\n",
      "e\n"
     ]
    },
    {
     "name": "stdin",
     "output_type": "stream",
     "text": [
      "guess a character: s\n"
     ]
    },
    {
     "name": "stdout",
     "output_type": "stream",
     "text": [
      "s\n",
      "_\n",
      "_\n",
      "e\n",
      "_\n",
      "_\n",
      "e\n"
     ]
    },
    {
     "name": "stdin",
     "output_type": "stream",
     "text": [
      "guess a character: z\n"
     ]
    },
    {
     "name": "stdout",
     "output_type": "stream",
     "text": [
      "Wrong\n",
      "You have 10 more guesses\n",
      "s\n",
      "_\n",
      "_\n",
      "e\n",
      "_\n",
      "_\n",
      "e\n"
     ]
    },
    {
     "name": "stdin",
     "output_type": "stream",
     "text": [
      "guess a character: y\n"
     ]
    },
    {
     "name": "stdout",
     "output_type": "stream",
     "text": [
      "Wrong\n",
      "You have 9 more guesses\n",
      "s\n",
      "_\n",
      "_\n",
      "e\n",
      "_\n",
      "_\n",
      "e\n"
     ]
    },
    {
     "name": "stdin",
     "output_type": "stream",
     "text": [
      "guess a character: q\n"
     ]
    },
    {
     "name": "stdout",
     "output_type": "stream",
     "text": [
      "Wrong\n",
      "You have 8 more guesses\n",
      "s\n",
      "_\n",
      "_\n",
      "e\n",
      "_\n",
      "_\n",
      "e\n"
     ]
    },
    {
     "name": "stdin",
     "output_type": "stream",
     "text": [
      "guess a character: i\n"
     ]
    },
    {
     "name": "stdout",
     "output_type": "stream",
     "text": [
      "s\n",
      "_\n",
      "i\n",
      "e\n",
      "_\n",
      "_\n",
      "e\n"
     ]
    },
    {
     "name": "stdin",
     "output_type": "stream",
     "text": [
      "guess a character: c\n"
     ]
    },
    {
     "name": "stdout",
     "output_type": "stream",
     "text": [
      "s\n",
      "c\n",
      "i\n",
      "e\n",
      "_\n",
      "c\n",
      "e\n"
     ]
    },
    {
     "name": "stdin",
     "output_type": "stream",
     "text": [
      "guess a character: l\n"
     ]
    },
    {
     "name": "stdout",
     "output_type": "stream",
     "text": [
      "Wrong\n",
      "You have 7 more guesses\n",
      "s\n",
      "c\n",
      "i\n",
      "e\n",
      "_\n",
      "c\n",
      "e\n"
     ]
    },
    {
     "name": "stdin",
     "output_type": "stream",
     "text": [
      "guess a character: l\n"
     ]
    },
    {
     "name": "stdout",
     "output_type": "stream",
     "text": [
      "Wrong\n",
      "You have 6 more guesses\n",
      "s\n",
      "c\n",
      "i\n",
      "e\n",
      "_\n",
      "c\n",
      "e\n"
     ]
    },
    {
     "name": "stdin",
     "output_type": "stream",
     "text": [
      "guess a character: l\n"
     ]
    },
    {
     "name": "stdout",
     "output_type": "stream",
     "text": [
      "Wrong\n",
      "You have 5 more guesses\n",
      "s\n",
      "c\n",
      "i\n",
      "e\n",
      "_\n",
      "c\n",
      "e\n"
     ]
    },
    {
     "name": "stdin",
     "output_type": "stream",
     "text": [
      "guess a character: l\n"
     ]
    },
    {
     "name": "stdout",
     "output_type": "stream",
     "text": [
      "Wrong\n",
      "You have 4 more guesses\n",
      "s\n",
      "c\n",
      "i\n",
      "e\n",
      "_\n",
      "c\n",
      "e\n"
     ]
    },
    {
     "name": "stdin",
     "output_type": "stream",
     "text": [
      "guess a character: l\n"
     ]
    },
    {
     "name": "stdout",
     "output_type": "stream",
     "text": [
      "Wrong\n",
      "You have 3 more guesses\n",
      "s\n",
      "c\n",
      "i\n",
      "e\n",
      "_\n",
      "c\n",
      "e\n"
     ]
    },
    {
     "name": "stdin",
     "output_type": "stream",
     "text": [
      "guess a character: l\n"
     ]
    },
    {
     "name": "stdout",
     "output_type": "stream",
     "text": [
      "Wrong\n",
      "You have 2 more guesses\n",
      "s\n",
      "c\n",
      "i\n",
      "e\n",
      "_\n",
      "c\n",
      "e\n"
     ]
    },
    {
     "name": "stdin",
     "output_type": "stream",
     "text": [
      "guess a character: m\n"
     ]
    },
    {
     "name": "stdout",
     "output_type": "stream",
     "text": [
      "Wrong\n",
      "You have 1 more guesses\n",
      "s\n",
      "c\n",
      "i\n",
      "e\n",
      "_\n",
      "c\n",
      "e\n"
     ]
    },
    {
     "name": "stdin",
     "output_type": "stream",
     "text": [
      "guess a character: y\n"
     ]
    },
    {
     "name": "stdout",
     "output_type": "stream",
     "text": [
      "Wrong\n",
      "You have 0 more guesses\n",
      "You Loose\n"
     ]
    }
   ],
   "source": [
    "#PYTHON BEGINEER PROJECT - GUESS THE WORD GAME\n",
    "\n",
    "import random \n",
    "# library that we use in order to choose \n",
    "# on random words from a list of words \n",
    "\n",
    "name = input(\"What is your name? \") \n",
    "# Here the user is asked to enter the name first \n",
    "\n",
    "print(\"Good Luck ! \", name) \n",
    "\n",
    "words = ['rainbow', 'computer', 'science', 'programming', \n",
    "\t\t'python', 'mathematics', 'player', 'condition', \n",
    "\t\t'reverse', 'water', 'board', 'geeks'] \n",
    "\n",
    "# Function will choose one random \n",
    "# word from this list of words \n",
    "word = random.choice(words) \n",
    "\n",
    "\n",
    "print(\"Guess the characters\") \n",
    "\n",
    "guesses = '' \n",
    "\n",
    "# any number of turns can be used here \n",
    "turns = 12\n",
    "\n",
    "\n",
    "while turns > 0: \n",
    "\t\n",
    "\t# counts the number of times a user fails \n",
    "\tfailed = 0\n",
    "\t\n",
    "\t# all characters from the input \n",
    "\t# word taking one at a time. \n",
    "\tfor char in word: \n",
    "\t\t\n",
    "\t\t# comparing that character with \n",
    "\t\t# the character in guesses \n",
    "\t\tif char in guesses: \n",
    "\t\t\tprint(char) \n",
    "\t\t\t\n",
    "\t\telse: \n",
    "\t\t\tprint(\"_\") \n",
    "\t\t\t\n",
    "\t\t\t# for every failure 1 will be \n",
    "\t\t\t# incremented in failure \n",
    "\t\t\tfailed += 1\n",
    "\t\t\t\n",
    "\n",
    "\tif failed == 0: \n",
    "\t\t# user will win the game if failure is 0 \n",
    "\t\t# and 'You Win' will be given as output \n",
    "\t\tprint(\"You Win\") \n",
    "\t\t\n",
    "\t\t# this print the correct word \n",
    "\t\tprint(\"The word is: \", word) \n",
    "\t\tbreak\n",
    "\t\n",
    "\t# if user has input the wrong alphabet then \n",
    "\t# it will ask user to enter another alphabet \n",
    "\tguess = input(\"guess a character:\") \n",
    "\t\n",
    "\t# every input character will be stored in guesses \n",
    "\tguesses += guess \n",
    "\t\n",
    "\t# check input with the character in word \n",
    "\tif guess not in word: \n",
    "\t\t\n",
    "\t\tturns -= 1\n",
    "\t\t\n",
    "\t\t# if the character doesn’t match the word \n",
    "\t\t# then “Wrong” will be given as output \n",
    "\t\tprint(\"Wrong\") \n",
    "\t\t\n",
    "\t\t# this will print the number of \n",
    "\t\t# turns left for the user \n",
    "\t\tprint(\"You have\", + turns, 'more guesses') \n",
    "\t\t\n",
    "\t\t\n",
    "\t\tif turns == 0: \n",
    "\t\t\tprint(\"You Loose\") \n",
    "           \n"
   ]
  },
  {
   "cell_type": "code",
   "execution_count": 31,
   "metadata": {},
   "outputs": [
    {
     "data": {
      "text/plain": [
       "<mpl_toolkits.mplot3d.art3d.Path3DCollection at 0x25e8ab8d580>"
      ]
     },
     "execution_count": 31,
     "metadata": {},
     "output_type": "execute_result"
    },
    {
     "data": {
      "image/png": "[encoded data removed]",
      "text/plain": [
       "<Figure size 432x288 with 1 Axes>"
      ]
     },
     "metadata": {
      "needs_background": "light"
     },
     "output_type": "display_data"
    }
   ],
   "source": [
    "#3D GRAPH \n",
    "\n",
    "from mpl_toolkits import mplot3d\n",
    "import numpy as np \n",
    "import matplotlib.pyplot as plt \n",
    "\n",
    "fig = plt.figure()\n",
    "ax = plt.axes(projection = '3d')\n",
    "\n",
    "zline = np.linspace(0,15,1000)\n",
    "xline = np.sin(zline)\n",
    "yline = np.cos(zline)\n",
    "\n",
    "ax.plot3D(xline, yline, zline, 'gray')\n",
    "\n",
    "zdata = 15*np.random.random(100)\n",
    "xdata = np.sin(zdata) + 0.1 * np.random.randn(100)\n",
    "ydata = np.cos(zdata) + 0.1 * np.random.randn(100)\n",
    "\n",
    "ax.scatter3D(xdata, ydata, zdata)\n"
   ]
  },
  {
   "cell_type": "code",
   "execution_count": 34,
   "metadata": {},
   "outputs": [
    {
     "data": {
      "text/plain": [
       "<matplotlib.contour.QuadContourSet at 0x25e8abcdfa0>"
      ]
     },
     "execution_count": 34,
     "metadata": {},
     "output_type": "execute_result"
    },
    {
     "data": {
      "image/png": "[encoded data removed]",
      "text/plain": [
       "<Figure size 432x288 with 1 Axes>"
      ]
     },
     "metadata": {
      "needs_background": "light"
     },
     "output_type": "display_data"
    }
   ],
   "source": [
    "#3D Contour Plots\n",
    "\n",
    "from mpl_toolkits import mplot3d\n",
    "import numpy as np \n",
    "import matplotlib.pyplot as plt\n",
    "\n",
    "def f(x,y):\n",
    "    return np.sin(np.sqrt(x**2 + y**2))\n",
    "\n",
    "\n",
    "x = np.linspace(-6,6,30)\n",
    "y = np.linspace(-6,6,30)\n",
    "\n",
    "X,Y = np.meshgrid(x,y)\n",
    "Z = f(X,Y)\n",
    "ax = plt.axes(projection = '3d')\n",
    "ax.contour3D(X,Y,Z,50)\n"
   ]
  },
  {
   "cell_type": "code",
   "execution_count": 35,
   "metadata": {},
   "outputs": [
    {
     "data": {
      "text/plain": [
       "<mpl_toolkits.mplot3d.art3d.Poly3DCollection at 0x25e8aade0d0>"
      ]
     },
     "execution_count": 35,
     "metadata": {},
     "output_type": "execute_result"
    },
    {
     "data": {
      "image/png": "[encoded data removed]",
      "text/plain": [
       "<Figure size 432x288 with 1 Axes>"
      ]
     },
     "metadata": {
      "needs_background": "light"
     },
     "output_type": "display_data"
    }
   ],
   "source": [
    "#Surface Triangulation\n",
    "\n",
    "from mpl_toolkits import mplot3d\n",
    "import numpy as np \n",
    "import matplotlib.pyplot as plt\n",
    "\n",
    "theta = 2*np.pi*np.random.random(1000)\n",
    "r = 6*np.random.random(1000)\n",
    "x = np.ravel(r*np.sin(theta))\n",
    "y = np.ravel(r*np.cos(theta))\n",
    "z = f(x,y)\n",
    "ax = plt.axes(projection = '3d')\n",
    "ax.plot_trisurf(x,y,z)"
   ]
  },
  {
   "cell_type": "code",
   "execution_count": 38,
   "metadata": {},
   "outputs": [
    {
     "data": {
      "image/png": "[encoded data removed]",
      "text/plain": [
       "<Figure size 432x288 with 1 Axes>"
      ]
     },
     "metadata": {
      "needs_background": "light"
     },
     "output_type": "display_data"
    }
   ],
   "source": [
    "#3D Graph Plot\n",
    "#importing the mplot3d toolkit, included with the main Matplotlib installation\n",
    "from mpl_toolkits import mplot3d\n",
    "\n",
    "%matplotlib inline\n",
    "import numpy as np\n",
    "import matplotlib.pyplot as plt\n",
    "\n",
    "# a three-dimensional axes can be created by passing the \n",
    "#keyword projection='3d' to any of the normal axes creation routines\n",
    "fig = plt.figure()\n",
    "ax = plt.axes(projection='3d')"
   ]
  },
  {
   "cell_type": "code",
   "execution_count": 39,
   "metadata": {},
   "outputs": [
    {
     "data": {
      "image/png": "[encoded data removed]",
      "text/plain": [
       "<Figure size 432x288 with 1 Axes>"
      ]
     },
     "metadata": {
      "needs_background": "light"
     },
     "output_type": "display_data"
    }
   ],
   "source": [
    "#3D Points and lines\n",
    "from mpl_toolkits import mplot3d\n",
    "\n",
    "%matplotlib inline\n",
    "import numpy as np\n",
    "import matplotlib.pyplot as plt\n",
    "\n",
    "ax = plt.axes(projection='3d')\n",
    "\n",
    "# Data for a three-dimensional line\n",
    "zline = np.linspace(0, 15, 1000)\n",
    "xline = np.sin(zline)\n",
    "yline = np.cos(zline)\n",
    "ax.plot3D(xline, yline, zline, 'gray')\n",
    "\n",
    "# Data for three-dimensional scattered points\n",
    "zdata = 15 * np.random.random(100)\n",
    "xdata = np.sin(zdata) + 0.1 * np.random.randn(100)\n",
    "ydata = np.cos(zdata) + 0.1 * np.random.randn(100)\n",
    "ax.scatter3D(xdata, ydata, zdata, c=zdata, cmap='Greens');\n"
   ]
  },
  {
   "cell_type": "code",
   "execution_count": 40,
   "metadata": {},
   "outputs": [
    {
     "data": {
      "text/plain": [
       "Text(0.5, 0, 'z')"
      ]
     },
     "execution_count": 40,
     "metadata": {},
     "output_type": "execute_result"
    },
    {
     "data": {
      "image/png": "[encoded data removed]",
      "text/plain": [
       "<Figure size 432x288 with 1 Axes>"
      ]
     },
     "metadata": {
      "needs_background": "light"
     },
     "output_type": "display_data"
    }
   ],
   "source": [
    "#3D Contour Plots\n",
    "from mpl_toolkits import mplot3d\n",
    "\n",
    "%matplotlib inline\n",
    "import numpy as np\n",
    "import matplotlib.pyplot as plt\n",
    "\n",
    "def f(x, y):\n",
    "    return np.sin(np.sqrt(x ** 2 + y ** 2))\n",
    "\n",
    "x = np.linspace(-6, 6, 30)\n",
    "y = np.linspace(-6, 6, 30)\n",
    "\n",
    "X, Y = np.meshgrid(x, y)\n",
    "Z = f(X, Y)\n",
    "\n",
    "fig = plt.figure()\n",
    "ax = plt.axes(projection='3d')\n",
    "ax.contour3D(X, Y, Z, 50, cmap='binary')\n",
    "ax.set_xlabel('x')\n",
    "ax.set_ylabel('y')\n",
    "ax.set_zlabel('z')"
   ]
  },
  {
   "cell_type": "code",
   "execution_count": 41,
   "metadata": {},
   "outputs": [
    {
     "data": {
      "image/png": "[encoded data removed]",
      "text/plain": [
       "<Figure size 432x288 with 1 Axes>"
      ]
     },
     "metadata": {
      "needs_background": "light"
     },
     "output_type": "display_data"
    }
   ],
   "source": [
    "#Surface Triangulation\n",
    "from mpl_toolkits import mplot3d\n",
    "\n",
    "%matplotlib inline\n",
    "import numpy as np\n",
    "import matplotlib.pyplot as plt\n",
    "\n",
    "theta = 2 * np.pi * np.random.random(1000)\n",
    "r = 6 * np.random.random(1000)\n",
    "x = np.ravel(r * np.sin(theta))\n",
    "y = np.ravel(r * np.cos(theta))\n",
    "z = f(x, y)\n",
    "\n",
    "ax = plt.axes(projection='3d')\n",
    "ax.scatter(x, y, z, c=z, cmap='viridis', linewidth=0.5);"
   ]
  },
  {
   "cell_type": "code",
   "execution_count": 48,
   "metadata": {},
   "outputs": [
    {
     "name": "stdout",
     "output_type": "stream",
     "text": [
      "......................................\n",
      "Accuracy on training data: 0.9995512676688355\n",
      "Accuracy on test data: 0.9856502242152466\n",
      "Prection is:  [0]\n",
      "Spam mail\n"
     ]
    }
   ],
   "source": [
    "#CAPSTONE PROJECT\n",
    "#SPAM MAIL PREDICTION USING SVM\n",
    "\n",
    "#import libraries \n",
    "import numpy as np\n",
    "import pandas as pd \n",
    "from sklearn.model_selection import train_test_split\n",
    "from sklearn.feature_extraction.text import TfidfVectorizer \n",
    "from sklearn.svm import LinearSVC\n",
    "from sklearn.metrics import accuracy_score\n",
    "\n",
    "#Data Preprocessing \n",
    "#load dataset to pandas data frame\n",
    "raw_mail_data = pd.read_csv('U:\\PerfectPlanB\\Spam Mail Data\\spamham.csv', engine='python')\n",
    "\n",
    "#replace null values with a null string \n",
    "mail_data = raw_mail_data.where((pd.notnull(raw_mail_data)), '')\n",
    "\n",
    "#check no of records\n",
    "mail_data.shape\n",
    "\n",
    "#sample of data\n",
    "mail_data.head()\n",
    "\n",
    "#label spam mail as 0 and ham mail as 1\n",
    "mail_data.loc[mail_data['v1']=='spam', 'v1',] = 0 \n",
    "mail_data.loc[mail_data['v1']=='ham', 'v1',] = 1\n",
    "\n",
    "#check if everything is converted to 0 and 1\n",
    "mail_data.head()\n",
    "\n",
    "#separate the data as text and label. (X - Text, Y - label)\n",
    "X = mail_data['v2']\n",
    "Y = mail_data['v1']\n",
    "\n",
    "#print(X)\n",
    "print(\"......................................\")\n",
    "#print(Y)\n",
    "\n",
    "#Train test split \n",
    "#split data as train data and test data \n",
    "X_train, X_test, Y_train, Y_test = train_test_split(X,Y, train_size = 0.8, test_size = 0.2, random_state=3)\n",
    "\n",
    "#Feature extraction \n",
    "#Transform the text data  to feature vectors that can be used as input to the SVM model using TfidfVectorizer\n",
    "#convert text to lower case \n",
    "feature_extraction = TfidfVectorizer(min_df=1, stop_words='english', lowercase='True')\n",
    "X_train_features = feature_extraction.fit_transform(X_train)\n",
    "X_test_features = feature_extraction.transform(X_test)\n",
    "\n",
    "#Convert Y train and Y test data values as integers\n",
    "Y_train = Y_train.astype('int')\n",
    "Y_test = Y_test.astype('int')\n",
    "\n",
    "#Training the SVM   model  to classify mail \n",
    "model = LinearSVC()\n",
    "model.fit(X_train_features, Y_train)\n",
    "\n",
    "#Evaluation of the model \n",
    "#prediction on training data \n",
    "prediction_on_training_data = model.predict(X_train_features)\n",
    "accuracy_on_training_data = accuracy_score(Y_train, prediction_on_training_data)\n",
    "print(\"Accuracy on training data:\", accuracy_on_training_data)\n",
    "\n",
    "#prediction on test data \n",
    "prediction_on_test_data = model.predict(X_test_features)\n",
    "accuracy_on_test_data = accuracy_score(Y_test, prediction_on_test_data)\n",
    "print(\"Accuracy on test data:\", accuracy_on_test_data)\n",
    "\n",
    "#prediction on new mail \n",
    "input_mail = [\"WINNER! As a valued network customer you have been selected to recive a $900 prize reward! To claim call 09688689. Claim now!\"]\n",
    "\n",
    "#convert text to feature vectors \n",
    "input_mail_features = feature_extraction.transform(input_mail)\n",
    "\n",
    "#prediction \n",
    "prediction = model.predict(input_mail_features)\n",
    "print(\"Prection is: \", prediction)\n",
    "if (prediction[0]==1):\n",
    "    print(\"Ham Mail\")\n",
    "else:\n",
    "    print(\"Spam mail\")"
   ]
  },
  {
   "cell_type": "code",
   "execution_count": 49,
   "metadata": {},
   "outputs": [
    {
     "name": "stdout",
     "output_type": "stream",
     "text": [
      "[-0.03616858 -0.0800638  -0.12677126]\n"
     ]
    }
   ],
   "source": [
    "#Cross validation implementation \n",
    "\n",
    "from sklearn import datasets, linear_model\n",
    "from sklearn.model_selection import cross_val_score\n",
    "diabetes = datasets.load_diabetes()\n",
    "x = diabetes.data[:150]\n",
    "y = diabetes.data[:150]\n",
    "lasso = linear_model.Lasso()\n",
    "print(cross_val_score(lasso, x, y, cv=3))\n",
    "\n"
   ]
  },
  {
   "cell_type": "code",
   "execution_count": 1,
   "metadata": {},
   "outputs": [
    {
     "name": "stdin",
     "output_type": "stream",
     "text": [
      "enter a number 8\n"
     ]
    },
    {
     "name": "stdout",
     "output_type": "stream",
     "text": [
      "Positive number\n"
     ]
    }
   ],
   "source": [
    "\n"
   ]
  },
  {
   "cell_type": "code",
   "execution_count": null,
   "metadata": {},
   "outputs": [],
   "source": []
  }
 ],
 "metadata": {
  "kernelspec": {
   "display_name": "Python 3",
   "language": "python",
   "name": "python3"
  },
  "language_info": {
   "codemirror_mode": {
    "name": "ipython",
    "version": 3
   },
   "file_extension": ".py",
   "mimetype": "text/x-python",
   "name": "python",
   "nbconvert_exporter": "python",
   "pygments_lexer": "ipython3",
   "version": "3.8.3"
  }
 },
 "nbformat": 4,
 "nbformat_minor": 4
}
